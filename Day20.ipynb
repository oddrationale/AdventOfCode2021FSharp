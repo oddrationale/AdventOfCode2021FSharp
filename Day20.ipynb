{
 "cells": [
  {
   "cell_type": "markdown",
   "id": "571255d2-7bab-457f-ae95-82559d01d0b0",
   "metadata": {},
   "source": [
    "<h2>--- Day 20: Trench Map ---</h2>"
   ]
  },
  {
   "cell_type": "markdown",
   "id": "f7a3f76c-cab3-4f6f-a28b-13b69ccc798a",
   "metadata": {},
   "source": [
    "[![Binder](https://mybinder.org/badge_logo.svg)](https://mybinder.org/v2/gh/oddrationale/AdventOfCode2021FSharp/main?urlpath=lab%2Ftree%2FDay20.ipynb)"
   ]
  },
  {
   "cell_type": "markdown",
   "id": "73bcba6b",
   "metadata": {},
   "source": [
    "<p>With the scanners fully deployed, you turn their attention to mapping the floor of the ocean trench.</p>\n",
    "<p>When you get back the image from the scanners, it seems to just be random noise. Perhaps you can combine an image enhancement algorithm and the input image (your puzzle input) to clean it up a little.</p>\n",
    "<p>For example:</p>\n",
    "<pre><code>..#.#..#####.#.#.#.###.##.....###.##.#..###.####..#####..#....#..#..##..##\n",
    "#..######.###...####..#..#####..##..#.#####...##.#.#..#.##..#.#......#.###\n",
    ".######.###.####...#.##.##..#..#..#####.....#.#....###..#.##......#.....#.\n",
    ".#..#..##..#...##.######.####.####.#.#...#.......#..#.#.#...####.##.#.....\n",
    ".#..#...##.#.##..#...##.#.##..###.#......#.#.......#.#.#.####.###.##...#..\n",
    "...####.#..#..#.##.#....##..#.####....##...##..#...#......#.#.......#.....\n",
    "..##..####..#...#.#.#...##..#.#..###..#####........#..####......#..#\n",
    "\n",
    "#..#.\n",
    "#....\n",
    "##..#\n",
    "..#..\n",
    "..###\n",
    "</code></pre>\n",
    "<p>The first section is the <em>image enhancement algorithm</em>. It is normally given on a single line, but it has been wrapped to multiple lines in this example for legibility. The second section is the <em>input image</em>, a two-dimensional grid of <em>light pixels</em> (<code>#</code>) and <em>dark pixels</em> (<code>.</code>).</p>\n",
    "<p>The image enhancement algorithm describes how to enhance an image by <em>simultaneously</em> converting all pixels in the input image into an output image. Each pixel of the output image is determined by looking at a 3x3 square of pixels centered on the corresponding input image pixel. So, to determine the value of the pixel at (5,10) in the output image, nine pixels from the input image need to be considered: (4,9), (4,10), (4,11), (5,9), (5,10), (5,11), (6,9), (6,10), and (6,11). These nine input pixels are combined into a single binary number that is used as an index in the <em>image enhancement algorithm</em> string.</p>\n",
    "<p>For example, to determine the output pixel that corresponds to the very middle pixel of the input image, the nine pixels marked by <code>[...]</code> would need to be considered:</p>\n",
    "<pre><code># . . # .\n",
    "#[. . .].\n",
    "#[# . .]#\n",
    ".[. # .].\n",
    ". . # # #\n",
    "</code></pre>\n",
    "<p>Starting from the top-left and reading across each row, these pixels are <code>...</code>, then <code>#..</code>, then <code>.#.</code>; combining these forms <code>...#...#.</code>. By turning dark pixels (<code>.</code>) into <code>0</code> and light pixels (<code>#</code>) into <code>1</code>, the binary number <code>000100010</code> can be formed, which is <code>34</code> in decimal.</p>\n",
    "<p>The image enhancement algorithm string is exactly 512 characters long, enough to match every possible 9-bit binary number. The first few characters of the string (numbered starting from zero) are as follows:</p>\n",
    "<pre><code>0         10        20        30  <em>34</em>    40        50        60        70\n",
    "|         |         |         |   <em>|</em>     |         |         |         |\n",
    "..#.#..#####.#.#.#.###.##.....###.<em>#</em>#.#..###.####..#####..#....#..#..##..##\n",
    "</code></pre>\n",
    "<p>In the middle of this first group of characters, the character at index 34 can be found: <code>#</code>. So, the output pixel in the center of the output image should be <code>#</code>, a <em>light pixel</em>.</p>\n",
    "<p>This process can then be repeated to calculate every pixel of the output image.</p>\n",
    "<p>Through advances in imaging technology, the images being operated on here are <em>infinite</em> in size. <em>Every</em> pixel of the infinite output image needs to be calculated exactly based on the relevant pixels of the input image. The small input image you have is only a small region of the actual infinite input image; the rest of the input image consists of dark pixels (<code>.</code>). For the purposes of the example, to save on space, only a portion of the infinite-sized input and output images will be shown.</p>\n",
    "<p>The starting input image, therefore, looks something like this, with more dark pixels (<code>.</code>) extending forever in every direction not shown here:</p>\n",
    "<pre><code>...............\n",
    "...............\n",
    "...............\n",
    "...............\n",
    "...............\n",
    ".....#..#......\n",
    ".....#.........\n",
    ".....##..#.....\n",
    ".......#.......\n",
    ".......###.....\n",
    "...............\n",
    "...............\n",
    "...............\n",
    "...............\n",
    "...............\n",
    "</code></pre>\n",
    "<p>By applying the image enhancement algorithm to every pixel simultaneously, the following output image can be obtained:</p>\n",
    "<pre><code>...............\n",
    "...............\n",
    "...............\n",
    "...............\n",
    ".....##.##.....\n",
    "....#..#.#.....\n",
    "....##.#..#....\n",
    "....####..#....\n",
    ".....#..##.....\n",
    "......##..#....\n",
    ".......#.#.....\n",
    "...............\n",
    "...............\n",
    "...............\n",
    "...............\n",
    "</code></pre>\n",
    "<p>Through further advances in imaging technology, the above output image can also be used as an input image! This allows it to be enhanced <em>a second time</em>:</p>\n",
    "<pre><code>...............\n",
    "...............\n",
    "...............\n",
    "..........#....\n",
    "....#..#.#.....\n",
    "...#.#...###...\n",
    "...#...##.#....\n",
    "...#.....#.#...\n",
    "....#.#####....\n",
    ".....#.#####...\n",
    "......##.##....\n",
    ".......###.....\n",
    "...............\n",
    "...............\n",
    "...............\n",
    "</code></pre>\n",
    "<p>Truly incredible - now the small details are really starting to come through. After enhancing the original input image twice, <code><em>35</em></code> pixels are lit.</p>\n",
    "<p>Start with the original input image and apply the image enhancement algorithm twice, being careful to account for the infinite size of the images. <em>How many pixels are lit in the resulting image?</em></p>"
   ]
  },
  {
   "cell_type": "code",
   "execution_count": null,
   "id": "b3d2fe85",
   "metadata": {
    "dotnet_interactive": {
     "language": "fsharp"
    }
   },
   "outputs": [],
   "source": [
    "let input = File.ReadAllText @\"input/20.txt\""
   ]
  },
  {
   "cell_type": "code",
   "execution_count": null,
   "id": "4f7c911d",
   "metadata": {},
   "outputs": [],
   "source": [
    "let parse (input: string) = \n",
    "    let split = \n",
    "        input.Split(Environment.NewLine + Environment.NewLine)\n",
    "    \n",
    "    let imageEnhancementAlgorithm = \n",
    "        split.[0]\n",
    "\n",
    "    let inputImage = \n",
    "        split.[1].Split(Environment.NewLine)\n",
    "        |> Seq.mapi (fun y row -> \n",
    "            row.ToCharArray()\n",
    "            |> Seq.mapi (fun x pixel -> (x, y), pixel))\n",
    "        |> Seq.concat\n",
    "        |> Map\n",
    "\n",
    "    imageEnhancementAlgorithm, inputImage"
   ]
  },
  {
   "cell_type": "code",
   "execution_count": null,
   "id": "c4654714",
   "metadata": {},
   "outputs": [],
   "source": [
    "let printImage (inputImage: Map<int * int,char>) =\n",
    "    let xMin = inputImage |> Map.keys |> Seq.map (fun (x, _) -> x) |> Seq.min\n",
    "    let xMax = inputImage |> Map.keys |> Seq.map (fun (x, _) -> x) |> Seq.max\n",
    "    let yMin = inputImage |> Map.keys |> Seq.map (fun (_, y) -> y) |> Seq.min\n",
    "    let yMax = inputImage |> Map.keys |> Seq.map (fun (_, y) -> y) |> Seq.max\n",
    "\n",
    "    [\n",
    "        for y = yMin to yMax do\n",
    "            [\n",
    "                for x = xMin to xMax do\n",
    "                    inputImage.[(x, y)]\n",
    "            ]\n",
    "            |> String.Concat\n",
    "    ]\n",
    "    |> fun line -> String.Join(Environment.NewLine, line)"
   ]
  },
  {
   "cell_type": "code",
   "execution_count": null,
   "id": "c3f5b7b5",
   "metadata": {},
   "outputs": [],
   "source": [
    "let enhance infinitePixelValue imageEnhancementAlgorithm (inputImage: Map<int * int,char>) = \n",
    "    let xMin = inputImage |> Map.keys |> Seq.map (fun (x, _) -> x) |> Seq.min\n",
    "    let xMax = inputImage |> Map.keys |> Seq.map (fun (x, _) -> x) |> Seq.max\n",
    "    let yMin = inputImage |> Map.keys |> Seq.map (fun (_, y) -> y) |> Seq.min\n",
    "    let yMax = inputImage |> Map.keys |> Seq.map (fun (_, y) -> y) |> Seq.max\n",
    "    \n",
    "    let neighbors (x, y) = \n",
    "        [\n",
    "            (-1, -1) // top left\n",
    "            ( 0, -1) // top\n",
    "            ( 1, -1) // top right\n",
    "            (-1,  0) // left\n",
    "            ( 0,  0) // same\n",
    "            ( 1,  0) // right\n",
    "            (-1,  1) // bottom left\n",
    "            ( 0,  1) // down\n",
    "            ( 1,  1) // bottom right\n",
    "        ]\n",
    "        |> List.map (fun (x', y') -> x + x', y + y')\n",
    "    \n",
    "    let lookup (x, y) = \n",
    "        inputImage\n",
    "        |> Map.tryFind (x, y)\n",
    "        |> fun pixel -> \n",
    "            match pixel with\n",
    "            | Some p -> p\n",
    "            | None -> infinitePixelValue\n",
    "\n",
    "    let enhancePixel (x, y) =\n",
    "        (x, y)\n",
    "        |> neighbors\n",
    "        |> Seq.map lookup\n",
    "        |> Seq.map (fun c -> \n",
    "            match c with\n",
    "            | '.' -> '0'\n",
    "            | '#' -> '1'\n",
    "            | _ -> failwith \"Invalid pixel value.\")\n",
    "        |> String.Concat\n",
    "        |> fun bstr -> Convert.ToInt32(bstr, 2)\n",
    "        |> fun index -> imageEnhancementAlgorithm |> Seq.item index\n",
    "    \n",
    "    Seq.allPairs [xMin - 1 .. xMax + 1] [yMin - 1 .. yMax + 1]\n",
    "    |> Seq.map (fun (x, y) -> (x, y), enhancePixel (x, y))\n",
    "    |> Map"
   ]
  },
  {
   "cell_type": "code",
   "execution_count": null,
   "id": "75064d86",
   "metadata": {},
   "outputs": [],
   "source": [
    "let infinitePixelPattern (imageEnhancementAlgorithm: string) = \n",
    "    match imageEnhancementAlgorithm.[0] with\n",
    "    | '#' -> Seq.initInfinite (fun i -> if i % 2 = 0 then '.' else '#')\n",
    "    | _ -> Seq.initInfinite (fun i -> '.')"
   ]
  },
  {
   "cell_type": "code",
   "execution_count": null,
   "id": "d6888d09",
   "metadata": {},
   "outputs": [
    {
     "data": {
      "text/html": [
       "<div class=\"dni-plaintext\">5203</div>"
      ]
     },
     "metadata": {},
     "output_type": "display_data"
    },
    {
     "data": {
      "text/plain": [
       "Wall time: 491.1861ms"
      ]
     },
     "metadata": {},
     "output_type": "display_data"
    }
   ],
   "source": [
    "#!time\n",
    "let (imageEnhancementAlgorithm, inputImage) = parse input\n",
    "let pattern = infinitePixelPattern imageEnhancementAlgorithm\n",
    "\n",
    "pattern\n",
    "|> Seq.truncate 2\n",
    "|> Seq.fold (fun image infinitePixelValue -> enhance infinitePixelValue imageEnhancementAlgorithm image) inputImage\n",
    "|> Map.values\n",
    "|> Seq.filter (fun pixel -> pixel = '#')\n",
    "|> Seq.length"
   ]
  },
  {
   "cell_type": "markdown",
   "id": "845efdd9-7742-41e1-889d-dc706863d93d",
   "metadata": {},
   "source": [
    "<h2 id=\"part2\">--- Part Two ---</h2>"
   ]
  },
  {
   "cell_type": "markdown",
   "id": "d6207d17",
   "metadata": {},
   "source": [
    "<p>You still can't quite make out the details in the image. Maybe you just didn't <a href=\"https://en.wikipedia.org/wiki/Kernel_(image_processing)\" target=\"_blank\">enhance</a> it <span title=\"Yeah, that's definitely the problem.\">enough</span>.</p>\n",
    "<p>If you enhance the starting input image in the above example a total of <em>50</em> times, <code><em>3351</em></code> pixels are lit in the final output image.</p>\n",
    "<p>Start again with the original input image and apply the image enhancement algorithm 50 times. <em>How many pixels are lit in the resulting image?</em></p>"
   ]
  },
  {
   "cell_type": "code",
   "execution_count": null,
   "id": "c61ddf21",
   "metadata": {
    "dotnet_interactive": {
     "language": "fsharp"
    }
   },
   "outputs": [
    {
     "data": {
      "text/html": [
       "<div class=\"dni-plaintext\">18806</div>"
      ]
     },
     "metadata": {},
     "output_type": "display_data"
    },
    {
     "data": {
      "text/plain": [
       "Wall time: 23451.4471ms"
      ]
     },
     "metadata": {},
     "output_type": "display_data"
    }
   ],
   "source": [
    "#!time\n",
    "pattern\n",
    "|> Seq.truncate 50\n",
    "|> Seq.fold (fun image infinitePixelValue -> enhance infinitePixelValue imageEnhancementAlgorithm image) inputImage\n",
    "|> Map.values\n",
    "|> Seq.filter (fun pixel -> pixel = '#')\n",
    "|> Seq.length"
   ]
  },
  {
   "cell_type": "markdown",
   "id": "2cf45427-c80e-4427-963f-cef8340e03e7",
   "metadata": {},
   "source": [
    "[Prev](Day19.ipynb) | [Next](Day21.ipynb)"
   ]
  }
 ],
 "metadata": {
  "kernelspec": {
   "display_name": ".NET (F#)",
   "language": "F#",
   "name": ".net-fsharp"
  },
  "language_info": {
   "file_extension": ".fs",
   "mimetype": "text/x-fsharp",
   "name": "C#",
   "pygments_lexer": "fsharp",
   "version": "4.5"
  }
 },
 "nbformat": 4,
 "nbformat_minor": 5
}
