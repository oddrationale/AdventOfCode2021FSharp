{
 "cells": [
  {
   "cell_type": "markdown",
   "id": "571255d2-7bab-457f-ae95-82559d01d0b0",
   "metadata": {},
   "source": [
    "<h2>--- Day 17: Trick Shot ---</h2>"
   ]
  },
  {
   "cell_type": "markdown",
   "id": "f7a3f76c-cab3-4f6f-a28b-13b69ccc798a",
   "metadata": {},
   "source": [
    "[![Binder](https://mybinder.org/badge_logo.svg)](https://mybinder.org/v2/gh/oddrationale/AdventOfCode2021FSharp/main?urlpath=lab%2Ftree%2FDay17.ipynb)"
   ]
  },
  {
   "cell_type": "markdown",
   "id": "73bcba6b",
   "metadata": {},
   "source": [
    "<p>You finally decode the Elves' message. <code><span title=\"Maybe you need to turn the message 90 degrees counterclockwise?\">HI</span></code>, the message says. You continue searching for the sleigh keys.</p>\n",
    "<p>Ahead of you is what appears to be a large <a href=\"https://en.wikipedia.org/wiki/Oceanic_trench\" target=\"_blank\">ocean trench</a>. Could the keys have fallen into it? You'd better send a probe to investigate.</p>\n",
    "<p>The probe launcher on your submarine can fire the probe with any <a href=\"https://en.wikipedia.org/wiki/Integer\" target=\"_blank\">integer</a> velocity in the <code>x</code> (forward) and <code>y</code> (upward, or downward if negative) directions. For example, an initial <code>x,y</code> velocity like <code>0,10</code> would fire the probe straight up, while an initial velocity like <code>10,-1</code> would fire the probe forward at a slight downward angle.</p>\n",
    "<p>The probe's <code>x,y</code> position starts at <code>0,0</code>. Then, it will follow some trajectory by moving in <em>steps</em>. On each step, these changes occur in the following order:</p>\n",
    "<ul>\n",
    "<li>The probe's <code>x</code> position increases by its <code>x</code> velocity.</li>\n",
    "<li>The probe's <code>y</code> position increases by its <code>y</code> velocity.</li>\n",
    "<li>Due to drag, the probe's <code>x</code> velocity changes by <code>1</code> toward the value <code>0</code>; that is, it decreases by <code>1</code> if it is greater than <code>0</code>, increases by <code>1</code> if it is less than <code>0</code>, or does not change if it is already <code>0</code>.</li>\n",
    "<li>Due to gravity, the probe's <code>y</code> velocity decreases by <code>1</code>.</li>\n",
    "</ul>\n",
    "<p>For the probe to successfully make it into the trench, the probe must be on some trajectory that causes it to be within a <em>target area</em> after any step. The submarine computer has already calculated this target area (your puzzle input). For example:</p>\n",
    "<pre><code>target area: x=20..30, y=-10..-5</code></pre>\n",
    "<p>This target area means that you need to find initial <code>x,y</code> velocity values such that after any step, the probe's <code>x</code> position is at least <code>20</code> and at most <code>30</code>, <em>and</em> the probe's <code>y</code> position is at least <code>-10</code> and at most <code>-5</code>.</p>\n",
    "<p>Given this target area, one initial velocity that causes the probe to be within the target area after any step is <code>7,2</code>:</p>\n",
    "<pre><code>.............#....#............\n",
    ".......#..............#........\n",
    "...............................\n",
    "S........................#.....\n",
    "...............................\n",
    "...............................\n",
    "...........................#...\n",
    "...............................\n",
    "....................TTTTTTTTTTT\n",
    "....................TTTTTTTTTTT\n",
    "....................TTTTTTTT#TT\n",
    "....................TTTTTTTTTTT\n",
    "....................TTTTTTTTTTT\n",
    "....................TTTTTTTTTTT\n",
    "</code></pre>\n",
    "<p>In this diagram, <code>S</code> is the probe's initial position, <code>0,0</code>. The <code>x</code> coordinate increases to the right, and the <code>y</code> coordinate increases upward. In the bottom right, positions that are within the target area are shown as <code>T</code>. After each step (until the target area is reached), the position of the probe is marked with <code>#</code>. (The bottom-right <code>#</code> is both a position the probe reaches and a position in the target area.)</p>\n",
    "<p>Another initial velocity that causes the probe to be within the target area after any step is <code>6,3</code>:</p>\n",
    "<pre><code>...............#..#............\n",
    "...........#........#..........\n",
    "...............................\n",
    "......#..............#.........\n",
    "...............................\n",
    "...............................\n",
    "S....................#.........\n",
    "...............................\n",
    "...............................\n",
    "...............................\n",
    ".....................#.........\n",
    "....................TTTTTTTTTTT\n",
    "....................TTTTTTTTTTT\n",
    "....................TTTTTTTTTTT\n",
    "....................TTTTTTTTTTT\n",
    "....................T#TTTTTTTTT\n",
    "....................TTTTTTTTTTT\n",
    "</code></pre>\n",
    "<p>Another one is <code>9,0</code>:</p>\n",
    "<pre><code>S........#.....................\n",
    ".................#.............\n",
    "...............................\n",
    "........................#......\n",
    "...............................\n",
    "....................TTTTTTTTTTT\n",
    "....................TTTTTTTTTT#\n",
    "....................TTTTTTTTTTT\n",
    "....................TTTTTTTTTTT\n",
    "....................TTTTTTTTTTT\n",
    "....................TTTTTTTTTTT\n",
    "</code></pre>\n",
    "<p>One initial velocity that <em>doesn't</em> cause the probe to be within the target area after any step is <code>17,-4</code>:</p>\n",
    "<pre><code>S..............................................................\n",
    "...............................................................\n",
    "...............................................................\n",
    "...............................................................\n",
    ".................#.............................................\n",
    "....................TTTTTTTTTTT................................\n",
    "....................TTTTTTTTTTT................................\n",
    "....................TTTTTTTTTTT................................\n",
    "....................TTTTTTTTTTT................................\n",
    "....................TTTTTTTTTTT..#.............................\n",
    "....................TTTTTTTTTTT................................\n",
    "...............................................................\n",
    "...............................................................\n",
    "...............................................................\n",
    "...............................................................\n",
    "................................................#..............\n",
    "...............................................................\n",
    "...............................................................\n",
    "...............................................................\n",
    "...............................................................\n",
    "...............................................................\n",
    "...............................................................\n",
    "..............................................................#\n",
    "</code></pre>\n",
    "<p>The probe appears to pass through the target area, but is never within it after any step. Instead, it continues down and to the right - only the first few steps are shown.</p>\n",
    "<p>If you're going to fire a highly scientific probe out of a super cool probe launcher, you might as well do it with <em>style</em>. How high can you make the probe go while still reaching the target area?</p>\n",
    "<p>In the above example, using an initial velocity of <code>6,9</code> is the best you can do, causing the probe to reach a maximum <code>y</code> position of <code><em>45</em></code>. (Any higher initial <code>y</code> velocity causes the probe to overshoot the target area entirely.)</p>\n",
    "<p>Find the initial velocity that causes the probe to reach the highest <code>y</code> position and still eventually be within the target area after any step. <em>What is the highest <code>y</code> position it reaches on this trajectory?</em></p>"
   ]
  },
  {
   "cell_type": "code",
   "execution_count": null,
   "id": "b3d2fe85",
   "metadata": {
    "dotnet_interactive": {
     "language": "fsharp"
    }
   },
   "outputs": [],
   "source": [
    "let input = File.ReadAllText @\"input/17.txt\""
   ]
  },
  {
   "cell_type": "code",
   "execution_count": null,
   "id": "ed9a0761",
   "metadata": {
    "dotnet_interactive": {
     "language": "fsharp"
    }
   },
   "outputs": [],
   "source": [
    "type Position = {\n",
    "    X: int\n",
    "    Y: int\n",
    "}\n",
    "\n",
    "type Velocity = {\n",
    "    dX: int\n",
    "    dY: int\n",
    "}"
   ]
  },
  {
   "cell_type": "code",
   "execution_count": null,
   "id": "4214f660",
   "metadata": {
    "dotnet_interactive": {
     "language": "fsharp"
    }
   },
   "outputs": [],
   "source": [
    "let parse (input: string) = \n",
    "    let split1 = input.Split(\": \").[1].Split(\", \")\n",
    "    let splitX = split1.[0].Split(\"=\").[1].Split(\"..\")\n",
    "    let splitY = split1.[1].Split(\"=\").[1].Split(\"..\")\n",
    "    {\n",
    "        X = int splitX.[0]\n",
    "        Y = int splitY.[0]\n",
    "    },\n",
    "    {\n",
    "        X = int splitX.[1]\n",
    "        Y = int splitY.[1]\n",
    "    }"
   ]
  },
  {
   "cell_type": "code",
   "execution_count": null,
   "id": "f32481a0",
   "metadata": {
    "dotnet_interactive": {
     "language": "fsharp"
    }
   },
   "outputs": [],
   "source": [
    "let rec steps (position, velocity) = \n",
    "    let drag = function\n",
    "        | dx when dx > 0 -> dx - 1\n",
    "        | dx when dx < 0 -> dx + 1\n",
    "        | _ -> 0\n",
    "\n",
    "    let step (position, velocity) =\n",
    "        {\n",
    "            X = position.X + velocity.dX\n",
    "            Y = position.Y + velocity.dY\n",
    "        },\n",
    "        {\n",
    "            dX = drag velocity.dX\n",
    "            dY = velocity.dY - 1\n",
    "        }\n",
    "\n",
    "    seq {\n",
    "        yield position, velocity\n",
    "        yield! steps (step (position, velocity))\n",
    "    }"
   ]
  },
  {
   "cell_type": "code",
   "execution_count": null,
   "id": "1c232029",
   "metadata": {
    "dotnet_interactive": {
     "language": "fsharp"
    }
   },
   "outputs": [],
   "source": [
    "let withinTargets steps (targetStart, targetEnd) = \n",
    "    steps\n",
    "    |> Seq.map (fun (p, _) -> p)\n",
    "    |> Seq.takeWhile (fun p -> \n",
    "        p.X <= targetEnd.X && \n",
    "        p.Y >= targetStart.Y)\n",
    "    |> Seq.exists (fun p -> \n",
    "        targetStart.X <= p.X && p.X <= targetEnd.X && \n",
    "        targetStart.Y <= p.Y && p.Y <= targetEnd.Y)"
   ]
  },
  {
   "cell_type": "code",
   "execution_count": null,
   "id": "d512c098",
   "metadata": {},
   "outputs": [],
   "source": [
    "let calcHeight velocity = \n",
    "    (velocity.dY*(velocity.dY + 1))/2"
   ]
  },
  {
   "cell_type": "code",
   "execution_count": null,
   "id": "db36c762",
   "metadata": {
    "dotnet_interactive": {
     "language": "fsharp"
    }
   },
   "outputs": [
    {
     "data": {
      "text/html": [
       "<div class=\"dni-plaintext\">23005</div>"
      ]
     },
     "metadata": {},
     "output_type": "display_data"
    },
    {
     "data": {
      "text/plain": [
       "Wall time: 415.3135ms"
      ]
     },
     "metadata": {},
     "output_type": "display_data"
    }
   ],
   "source": [
    "#!time\n",
    "let (targetStart, targetEnd) = input |> parse\n",
    "\n",
    "let hits = \n",
    "    ([1..targetEnd.X], [targetStart.Y..abs targetStart.Y])\n",
    "    ||> Seq.allPairs \n",
    "    |> Seq.map (fun (x, y) -> {dX = x; dY = y})\n",
    "    |> Seq.filter (fun v -> withinTargets (steps ({X = 0; Y = 0}, v)) (targetStart, targetEnd))\n",
    "    |> Seq.cache\n",
    "\n",
    "hits\n",
    "|> Seq.map calcHeight\n",
    "|> Seq.max"
   ]
  },
  {
   "cell_type": "markdown",
   "id": "845efdd9-7742-41e1-889d-dc706863d93d",
   "metadata": {},
   "source": [
    "<h2 id=\"part2\">--- Part Two ---</h2>"
   ]
  },
  {
   "cell_type": "markdown",
   "id": "d6207d17",
   "metadata": {},
   "source": [
    "<p>Maybe a fancy trick shot isn't the best idea; after all, you only have one probe, so you had better not miss.</p>\n",
    "<p>To get the best idea of what your options are for launching the probe, you need to find <em>every initial velocity</em> that causes the probe to eventually be within the target area after any step.</p>\n",
    "<p>In the above example, there are <code><em>112</em></code> different initial velocity values that meet these criteria:</p>\n",
    "<pre><code>23,-10  25,-9   27,-5   29,-6   22,-6   21,-7   9,0     27,-7   24,-5\n",
    "25,-7   26,-6   25,-5   6,8     11,-2   20,-5   29,-10  6,3     28,-7\n",
    "8,0     30,-6   29,-8   20,-10  6,7     6,4     6,1     14,-4   21,-6\n",
    "26,-10  7,-1    7,7     8,-1    21,-9   6,2     20,-7   30,-10  14,-3\n",
    "20,-8   13,-2   7,3     28,-8   29,-9   15,-3   22,-5   26,-8   25,-8\n",
    "25,-6   15,-4   9,-2    15,-2   12,-2   28,-9   12,-3   24,-6   23,-7\n",
    "25,-10  7,8     11,-3   26,-7   7,1     23,-9   6,0     22,-10  27,-6\n",
    "8,1     22,-8   13,-4   7,6     28,-6   11,-4   12,-4   26,-9   7,4\n",
    "24,-10  23,-8   30,-8   7,0     9,-1    10,-1   26,-5   22,-9   6,5\n",
    "7,5     23,-6   28,-10  10,-2   11,-1   20,-9   14,-2   29,-7   13,-3\n",
    "23,-5   24,-8   27,-9   30,-7   28,-5   21,-10  7,9     6,6     21,-5\n",
    "27,-10  7,2     30,-9   21,-8   22,-7   24,-9   20,-6   6,9     29,-5\n",
    "8,-2    27,-8   30,-5   24,-7\n",
    "</code></pre>\n",
    "<p><em>How many distinct initial velocity values cause the probe to be within the target area after any step?</em></p>"
   ]
  },
  {
   "cell_type": "code",
   "execution_count": null,
   "id": "c61ddf21",
   "metadata": {
    "dotnet_interactive": {
     "language": "fsharp"
    }
   },
   "outputs": [
    {
     "data": {
      "text/html": [
       "<div class=\"dni-plaintext\">2040</div>"
      ]
     },
     "metadata": {},
     "output_type": "display_data"
    },
    {
     "data": {
      "text/plain": [
       "Wall time: 7.2047ms"
      ]
     },
     "metadata": {},
     "output_type": "display_data"
    }
   ],
   "source": [
    "#!time\n",
    "hits\n",
    "|> Seq.length"
   ]
  },
  {
   "cell_type": "markdown",
   "id": "2cf45427-c80e-4427-963f-cef8340e03e7",
   "metadata": {},
   "source": [
    "[Prev](Day16.ipynb) | [Next](Day18.ipynb)"
   ]
  }
 ],
 "metadata": {
  "kernelspec": {
   "display_name": ".NET (F#)",
   "language": "F#",
   "name": ".net-fsharp"
  },
  "language_info": {
   "file_extension": ".fs",
   "mimetype": "text/x-fsharp",
   "name": "C#",
   "pygments_lexer": "fsharp",
   "version": "4.5"
  }
 },
 "nbformat": 4,
 "nbformat_minor": 5
}
