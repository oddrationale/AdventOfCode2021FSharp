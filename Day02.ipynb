{
 "cells": [
  {
   "cell_type": "markdown",
   "id": "571255d2-7bab-457f-ae95-82559d01d0b0",
   "metadata": {},
   "source": [
    "<h2>--- Day 2: Dive! ---</h2>"
   ]
  },
  {
   "cell_type": "markdown",
   "id": "f7a3f76c-cab3-4f6f-a28b-13b69ccc798a",
   "metadata": {},
   "source": [
    "[![Binder](https://mybinder.org/badge_logo.svg)](https://mybinder.org/v2/gh/oddrationale/AdventOfCode2021FSharp/main?urlpath=lab%2Ftree%2FDay02.ipynb)"
   ]
  },
  {
   "cell_type": "markdown",
   "id": "73bcba6b",
   "metadata": {},
   "source": [
    "<p>Now, you need to figure out how to <span title=\"Tank, I need a pilot program for a B212 helicopter.\">pilot this thing</span>.</p>\n",
    "<p>It seems like the submarine can take a series of commands like <code>forward 1</code>, <code>down 2</code>, or <code>up 3</code>:</p>\n",
    "<ul>\n",
    "<li><code>forward X</code> increases the horizontal position by <code>X</code> units.</li>\n",
    "<li><code>down X</code> <em>increases</em> the depth by <code>X</code> units.</li>\n",
    "<li><code>up X</code> <em>decreases</em> the depth by <code>X</code> units.</li>\n",
    "</ul>\n",
    "<p>Note that since you're on a submarine, <code>down</code> and <code>up</code> affect your <em>depth</em>, and so they have the opposite result of what you might expect.</p>\n",
    "<p>The submarine seems to already have a planned course (your puzzle input). You should probably figure out where it's going. For example:</p>\n",
    "<pre><code>forward 5\n",
    "down 5\n",
    "forward 8\n",
    "up 3\n",
    "down 8\n",
    "forward 2\n",
    "</code></pre>\n",
    "<p>Your horizontal position and depth both start at <code>0</code>. The steps above would then modify them as follows:</p>\n",
    "<ul>\n",
    "<li><code>forward 5</code> adds <code>5</code> to your horizontal position, a total of <code>5</code>.</li>\n",
    "<li><code>down 5</code> adds <code>5</code> to your depth, resulting in a value of <code>5</code>.</li>\n",
    "<li><code>forward 8</code> adds <code>8</code> to your horizontal position, a total of <code>13</code>.</li>\n",
    "<li><code>up 3</code> decreases your depth by <code>3</code>, resulting in a value of <code>2</code>.</li>\n",
    "<li><code>down 8</code> adds <code>8</code> to your depth, resulting in a value of <code>10</code>.</li>\n",
    "<li><code>forward 2</code> adds <code>2</code> to your horizontal position, a total of <code>15</code>.</li>\n",
    "</ul>\n",
    "<p>After following these instructions, you would have a horizontal position of <code>15</code> and a depth of <code>10</code>. (Multiplying these together produces <code><em>150</em></code>.)</p>\n",
    "<p>Calculate the horizontal position and depth you would have after following the planned course. <em>What do you get if you multiply your final horizontal position by your final depth?</em></p>"
   ]
  },
  {
   "cell_type": "code",
   "execution_count": null,
   "id": "b3d2fe85",
   "metadata": {
    "dotnet_interactive": {
     "language": "fsharp"
    }
   },
   "outputs": [],
   "source": [
    "let input = File.ReadAllLines @\"input/02.txt\""
   ]
  },
  {
   "cell_type": "code",
   "execution_count": null,
   "id": "ffcad370",
   "metadata": {
    "dotnet_interactive": {
     "language": "fsharp"
    }
   },
   "outputs": [],
   "source": [
    "type Command = \n",
    "    | Forward of int\n",
    "    | Down of int\n",
    "    | Up of int"
   ]
  },
  {
   "cell_type": "code",
   "execution_count": null,
   "id": "0576f9e2",
   "metadata": {
    "dotnet_interactive": {
     "language": "fsharp"
    }
   },
   "outputs": [],
   "source": [
    "type Position = {\n",
    "    Horizontal : int\n",
    "    Depth : int\n",
    "}"
   ]
  },
  {
   "cell_type": "code",
   "execution_count": null,
   "id": "47a864d2",
   "metadata": {
    "dotnet_interactive": {
     "language": "fsharp"
    }
   },
   "outputs": [],
   "source": [
    "let parse (line: string) = \n",
    "    let split = line.Split(\" \")\n",
    "    match split.[0] with\n",
    "    | \"forward\" -> Forward (int split.[1])\n",
    "    | \"down\" -> Down (int split.[1])\n",
    "    | \"up\" -> Up (int split.[1])\n",
    "    | _ -> raise <| new Exception(\"Invalid input.\")"
   ]
  },
  {
   "cell_type": "code",
   "execution_count": null,
   "id": "dcf52b1b",
   "metadata": {
    "dotnet_interactive": {
     "language": "fsharp"
    }
   },
   "outputs": [],
   "source": [
    "let move command (position: Position) = \n",
    "    match command with\n",
    "    | Forward units -> { position with Horizontal = position.Horizontal + units }\n",
    "    | Down units -> { position with Depth = position.Depth + units }\n",
    "    | Up units -> { position with Depth = position.Depth - units }"
   ]
  },
  {
   "cell_type": "code",
   "execution_count": null,
   "id": "489bd58f",
   "metadata": {
    "dotnet_interactive": {
     "language": "fsharp"
    }
   },
   "outputs": [
    {
     "data": {
      "text/html": [
       "<div class=\"dni-plaintext\">1524750</div>"
      ]
     },
     "metadata": {},
     "output_type": "display_data"
    },
    {
     "data": {
      "text/plain": [
       "Wall time: 7.9625ms"
      ]
     },
     "metadata": {},
     "output_type": "display_data"
    }
   ],
   "source": [
    "#!time\n",
    "input\n",
    "|> Seq.map parse\n",
    "|> Seq.fold (fun pos command -> move command pos) { Horizontal=0; Depth=0 }\n",
    "|> fun finalPosition -> finalPosition.Horizontal * finalPosition.Depth"
   ]
  },
  {
   "cell_type": "markdown",
   "id": "845efdd9-7742-41e1-889d-dc706863d93d",
   "metadata": {},
   "source": [
    "<h2 id=\"part2\">--- Part Two ---</h2>"
   ]
  },
  {
   "cell_type": "markdown",
   "id": "d6207d17",
   "metadata": {},
   "source": [
    "<p>Based on your calculations, the planned course doesn't seem to make any sense. You find the submarine manual and discover that the process is actually slightly more complicated.</p>\n",
    "<p>In addition to horizontal position and depth, you'll also need to track a third value, <em>aim</em>, which also starts at <code>0</code>. The commands also mean something entirely different than you first thought:</p>\n",
    "<ul>\n",
    "<li><code>down X</code> <em>increases</em> your aim by <code>X</code> units.</li>\n",
    "<li><code>up X</code> <em>decreases</em> your aim by <code>X</code> units.</li>\n",
    "<li><code>forward X</code> does two things:<ul>\n",
    "  <li>It increases your horizontal position by <code>X</code> units.</li>\n",
    "  <li>It increases your depth by your aim <em>multiplied by</em> <code>X</code>.</li>\n",
    "</ul></li>\n",
    "</ul>\n",
    "<p>Again note that since you're on a submarine, <code>down</code> and <code>up</code> do the opposite of what you might expect: \"down\" means aiming in the positive direction.</p>\n",
    "<p>Now, the above example does something different:</p>\n",
    "<ul>\n",
    "<li><code>forward 5</code> adds <code>5</code> to your horizontal position, a total of <code>5</code>. Because your aim is <code>0</code>, your depth does not change.</li>\n",
    "<li><code>down 5</code> adds <code>5</code> to your aim, resulting in a value of <code>5</code>.</li>\n",
    "<li><code>forward 8</code> adds <code>8</code> to your horizontal position, a total of <code>13</code>. Because your aim is <code>5</code>, your depth increases by <code>8*5=40</code>.</li>\n",
    "<li><code>up 3</code> decreases your aim by <code>3</code>, resulting in a value of <code>2</code>.</li>\n",
    "<li><code>down 8</code> adds <code>8</code> to your aim, resulting in a value of <code>10</code>.</li>\n",
    "<li><code>forward 2</code> adds <code>2</code> to your horizontal position, a total of <code>15</code>.  Because your aim is <code>10</code>, your depth increases by <code>2*10=20</code> to a total of <code>60</code>.</li>\n",
    "</ul>\n",
    "<p>After following these new instructions, you would have a horizontal position of <code>15</code> and a depth of <code>60</code>. (Multiplying these produces <code><em>900</em></code>.)</p>\n",
    "<p>Using this new interpretation of the commands, calculate the horizontal position and depth you would have after following the planned course. <em>What do you get if you multiply your final horizontal position by your final depth?</em></p>"
   ]
  },
  {
   "cell_type": "code",
   "execution_count": null,
   "id": "c61ddf21",
   "metadata": {
    "dotnet_interactive": {
     "language": "fsharp"
    }
   },
   "outputs": [],
   "source": [
    "type PositionWithAim = {\n",
    "    Horizontal : int\n",
    "    Depth : int\n",
    "    Aim : int\n",
    "}"
   ]
  },
  {
   "cell_type": "code",
   "execution_count": null,
   "id": "f3f1c774",
   "metadata": {
    "dotnet_interactive": {
     "language": "fsharp"
    }
   },
   "outputs": [],
   "source": [
    "let moveWithAim command (position: PositionWithAim) = \n",
    "    match command with\n",
    "    | Forward units -> { \n",
    "        position with\n",
    "            Horizontal = position.Horizontal + units\n",
    "            Depth = position.Depth + position.Aim * units\n",
    "        }\n",
    "    | Down units -> { position with Aim = position.Aim + units }\n",
    "    | Up units -> { position with Aim = position.Aim - units }"
   ]
  },
  {
   "cell_type": "code",
   "execution_count": null,
   "id": "c4439524",
   "metadata": {
    "dotnet_interactive": {
     "language": "fsharp"
    }
   },
   "outputs": [
    {
     "data": {
      "text/html": [
       "<div class=\"dni-plaintext\">1592426537</div>"
      ]
     },
     "metadata": {},
     "output_type": "display_data"
    },
    {
     "data": {
      "text/plain": [
       "Wall time: 7.4274ms"
      ]
     },
     "metadata": {},
     "output_type": "display_data"
    }
   ],
   "source": [
    "#!time\n",
    "input\n",
    "|> Seq.map parse\n",
    "|> Seq.fold (fun pos command -> moveWithAim command pos) { Horizontal=0; Depth=0; Aim=0 }\n",
    "|> fun finalPosition -> finalPosition.Horizontal * finalPosition.Depth"
   ]
  },
  {
   "cell_type": "markdown",
   "id": "2cf45427-c80e-4427-963f-cef8340e03e7",
   "metadata": {},
   "source": [
    "[Prev](Day01.ipynb) | [Next](Day03.ipynb)"
   ]
  }
 ],
 "metadata": {
  "kernelspec": {
   "display_name": ".NET (F#)",
   "language": "F#",
   "name": ".net-fsharp"
  },
  "language_info": {
   "file_extension": ".fs",
   "mimetype": "text/x-fsharp",
   "name": "C#",
   "pygments_lexer": "fsharp",
   "version": "4.5"
  }
 },
 "nbformat": 4,
 "nbformat_minor": 5
}
