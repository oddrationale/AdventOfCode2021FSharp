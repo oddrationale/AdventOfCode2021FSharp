{
 "cells": [
  {
   "cell_type": "markdown",
   "id": "571255d2-7bab-457f-ae95-82559d01d0b0",
   "metadata": {},
   "source": [
    "<h2>--- Day 9: Smoke Basin ---</h2>"
   ]
  },
  {
   "cell_type": "markdown",
   "id": "f7a3f76c-cab3-4f6f-a28b-13b69ccc798a",
   "metadata": {},
   "source": [
    "[![Binder](https://mybinder.org/badge_logo.svg)](https://mybinder.org/v2/gh/oddrationale/AdventOfCode2021FSharp/main?urlpath=lab%2Ftree%2FDay09.ipynb)"
   ]
  },
  {
   "cell_type": "markdown",
   "id": "73bcba6b",
   "metadata": {},
   "source": [
    "<p>These caves seem to be <a href=\"https://en.wikipedia.org/wiki/Lava_tube\" target=\"_blank\">lava tubes</a>. Parts are even still volcanically active; small hydrothermal vents release smoke into the caves that slowly <span title=\"This was originally going to be a puzzle about watersheds, but we're already under water.\">settles like rain</span>.</p>\n",
    "<p>If you can model how the smoke flows through the caves, you might be able to avoid it and be that much safer. The submarine generates a heightmap of the floor of the nearby caves for you (your puzzle input).</p>\n",
    "<p>Smoke flows to the lowest point of the area it's in. For example, consider the following heightmap:</p>\n",
    "<pre><code>2<em>1</em>9994321<em>0</em>\n",
    "3987894921\n",
    "98<em>5</em>6789892\n",
    "8767896789\n",
    "989996<em>5</em>678\n",
    "</code></pre>\n",
    "<p>Each number corresponds to the height of a particular location, where <code>9</code> is the highest and <code>0</code> is the lowest a location can be.</p>\n",
    "<p>Your first goal is to find the <em>low points</em> - the locations that are lower than any of its adjacent locations. Most locations have four adjacent locations (up, down, left, and right); locations on the edge or corner of the map have three or two adjacent locations, respectively. (Diagonal locations do not count as adjacent.)</p>\n",
    "<p>In the above example, there are <em>four</em> low points, all highlighted: two are in the first row (a <code>1</code> and a <code>0</code>), one is in the third row (a <code>5</code>), and one is in the bottom row (also a <code>5</code>). All other locations on the heightmap have some lower adjacent location, and so are not low points.</p>\n",
    "<p>The <em>risk level</em> of a low point is <em>1 plus its height</em>. In the above example, the risk levels of the low points are <code>2</code>, <code>1</code>, <code>6</code>, and <code>6</code>. The sum of the risk levels of all low points in the heightmap is therefore <code><em>15</em></code>.</p>\n",
    "<p>Find all of the low points on your heightmap. <em>What is the sum of the risk levels of all low points on your heightmap?</em></p>"
   ]
  },
  {
   "cell_type": "code",
   "execution_count": null,
   "id": "b3d2fe85",
   "metadata": {
    "dotnet_interactive": {
     "language": "fsharp"
    }
   },
   "outputs": [],
   "source": [
    "let input = \n",
    "    File.ReadAllLines @\"input/09.test.txt\"\n",
    "    |> Array.map (fun line -> \n",
    "        line\n",
    "        |> Seq.map (fun c -> c |> string |> int)\n",
    "        |> Array.ofSeq)"
   ]
  },
  {
   "cell_type": "code",
   "execution_count": null,
   "id": "f5998abe",
   "metadata": {
    "dotnet_interactive": {
     "language": "fsharp"
    }
   },
   "outputs": [],
   "source": [
    "let lowPoints (input: int array array) = \n",
    "    let maxY = input |> Seq.length\n",
    "    let maxX = input |> Seq.head |> Seq.length\n",
    "    let directions = [\n",
    "        ( 1,  0) // right\n",
    "        ( 0,  1) // down\n",
    "        (-1,  0) // left\n",
    "        ( 0, -1) // up\n",
    "    ]\n",
    "    \n",
    "    input\n",
    "    |> Seq.mapi (fun y line -> \n",
    "        line\n",
    "        |> Seq.mapi (fun x h ->\n",
    "            x, y, h))\n",
    "    |> Seq.collect id\n",
    "    |> Seq.filter (fun (x, y, h) -> \n",
    "        directions\n",
    "        |> Seq.map (fun (x', y') -> (x + x', y + y'))\n",
    "        |> Seq.filter (fun (x', y') -> -1 < x' && x' < maxX && -1 < y' && y' < maxY)\n",
    "        |> Seq.map (fun (x', y') -> input.[y'].[x'])\n",
    "        |> fun neighbors -> h < (neighbors |> Seq.min))\n",
    "    "
   ]
  },
  {
   "cell_type": "code",
   "execution_count": null,
   "id": "1c06cef4",
   "metadata": {
    "dotnet_interactive": {
     "language": "fsharp"
    }
   },
   "outputs": [
    {
     "data": {
      "text/html": [
       "<div class=\"dni-plaintext\">15</div>"
      ]
     },
     "metadata": {},
     "output_type": "display_data"
    },
    {
     "data": {
      "text/plain": [
       "Wall time: 17.524ms"
      ]
     },
     "metadata": {},
     "output_type": "display_data"
    }
   ],
   "source": [
    "#!time\n",
    "input\n",
    "|> lowPoints\n",
    "|> Seq.map (fun (_, _, h) -> h + 1)\n",
    "|> Seq.sum"
   ]
  },
  {
   "cell_type": "markdown",
   "id": "845efdd9-7742-41e1-889d-dc706863d93d",
   "metadata": {},
   "source": [
    "<h2 id=\"part2\">--- Part Two ---</h2>"
   ]
  },
  {
   "cell_type": "markdown",
   "id": "d6207d17",
   "metadata": {},
   "source": [
    "<p>Next, you need to find the largest basins so you know what areas are most important to avoid.</p>\n",
    "<p>A <em>basin</em> is all locations that eventually flow downward to a single low point. Therefore, every low point has a basin, although some basins are very small. Locations of height <code>9</code> do not count as being in any basin, and all other locations will always be part of exactly one basin.</p>\n",
    "<p>The <em>size</em> of a basin is the number of locations within the basin, including the low point. The example above has four basins.</p>\n",
    "<p>The top-left basin, size <code>3</code>:</p>\n",
    "<pre><code><em>21</em>99943210\n",
    "<em>3</em>987894921\n",
    "9856789892\n",
    "8767896789\n",
    "9899965678\n",
    "</code></pre>\n",
    "<p>The top-right basin, size <code>9</code>:</p>\n",
    "<pre><code>21999<em>43210</em>\n",
    "398789<em>4</em>9<em>21</em>\n",
    "985678989<em>2</em>\n",
    "8767896789\n",
    "9899965678\n",
    "</code></pre>\n",
    "<p>The middle basin, size <code>14</code>:</p>\n",
    "<pre><code>2199943210\n",
    "39<em>878</em>94921\n",
    "9<em>85678</em>9892\n",
    "<em>87678</em>96789\n",
    "9<em>8</em>99965678\n",
    "</code></pre>\n",
    "<p>The bottom-right basin, size <code>9</code>:</p>\n",
    "<pre><code>2199943210\n",
    "3987894921\n",
    "9856789<em>8</em>92\n",
    "876789<em>678</em>9\n",
    "98999<em>65678</em>\n",
    "</code></pre>\n",
    "<p>Find the three largest basins and multiply their sizes together. In the above example, this is <code>9 * 14 * 9 = <em>1134</em></code>.</p>\n",
    "<p><em>What do you get if you multiply together the sizes of the three largest basins?</em></p>"
   ]
  },
  {
   "cell_type": "code",
   "execution_count": null,
   "id": "c61ddf21",
   "metadata": {
    "dotnet_interactive": {
     "language": "fsharp"
    }
   },
   "outputs": [],
   "source": [
    "let basin (input: int array array) (x, y, h) =\n",
    "    let maxY = input |> Seq.length\n",
    "    let maxX = input |> Seq.head |> Seq.length\n",
    "    let directions = [\n",
    "        ( 1,  0) // right\n",
    "        ( 0,  1) // down\n",
    "        (-1,  0) // left\n",
    "        ( 0, -1) // up\n",
    "    ]\n",
    "    \n",
    "    let rec loop discovered (x', y', h') = \n",
    "        let neighbors = \n",
    "            directions\n",
    "            |> Seq.map (fun (x'', y'') -> x' + x'', y' + y'')\n",
    "            |> Seq.filter (fun (x'', y'') -> -1 < x'' && x'' < maxX && -1 < y'' && y'' < maxY)\n",
    "            |> Seq.map (fun (x'', y'') -> x'', y'', input.[y''].[x''])\n",
    "            |> Seq.filter (fun (_, _, h'') -> h'' <> 9)\n",
    "            |> Seq.except discovered\n",
    "            |> Set.ofSeq\n",
    "        if neighbors |> Set.isEmpty then\n",
    "            discovered\n",
    "        else\n",
    "            neighbors\n",
    "            |> Seq.map (fun (x'', y'', h'') -> loop (discovered + neighbors) (x'', y'', h''))\n",
    "            |> Seq.collect id\n",
    "            |> Set.ofSeq \n",
    "            \n",
    "    loop ([(x, y, h)] |> Set.ofSeq) (x, y, h)"
   ]
  },
  {
   "cell_type": "code",
   "execution_count": null,
   "id": "a77e65c3",
   "metadata": {
    "dotnet_interactive": {
     "language": "fsharp"
    }
   },
   "outputs": [
    {
     "data": {
      "text/html": [
       "<div class=\"dni-plaintext\">1134</div>"
      ]
     },
     "metadata": {},
     "output_type": "display_data"
    },
    {
     "data": {
      "text/plain": [
       "Wall time: 37.1418ms"
      ]
     },
     "metadata": {},
     "output_type": "display_data"
    }
   ],
   "source": [
    "#!time\n",
    "input\n",
    "|> lowPoints\n",
    "|> Seq.map (fun (x, y, h) -> basin input (x, y, h))\n",
    "|> Seq.map (fun basins -> basins |> Seq.length)\n",
    "|> Seq.sortDescending\n",
    "|> Seq.truncate 3\n",
    "|> Seq.reduce (*)"
   ]
  },
  {
   "cell_type": "markdown",
   "id": "2cf45427-c80e-4427-963f-cef8340e03e7",
   "metadata": {},
   "source": [
    "[Prev](Day08.ipynb) | [Next](Day10.ipynb)"
   ]
  }
 ],
 "metadata": {
  "kernelspec": {
   "display_name": ".NET (F#)",
   "language": "F#",
   "name": ".net-fsharp"
  },
  "language_info": {
   "file_extension": ".fs",
   "mimetype": "text/x-fsharp",
   "name": "C#",
   "pygments_lexer": "fsharp",
   "version": "4.5"
  }
 },
 "nbformat": 4,
 "nbformat_minor": 5
}
