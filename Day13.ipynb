{
 "cells": [
  {
   "cell_type": "markdown",
   "id": "571255d2-7bab-457f-ae95-82559d01d0b0",
   "metadata": {},
   "source": [
    "<h2>--- Day 13: Transparent Origami ---</h2>"
   ]
  },
  {
   "cell_type": "markdown",
   "id": "f7a3f76c-cab3-4f6f-a28b-13b69ccc798a",
   "metadata": {},
   "source": [
    "[![Binder](https://mybinder.org/badge_logo.svg)](https://mybinder.org/v2/gh/oddrationale/AdventOfCode2021FSharp/main?urlpath=lab%2Ftree%2FDay13.ipynb)"
   ]
  },
  {
   "cell_type": "markdown",
   "id": "73bcba6b",
   "metadata": {},
   "source": [
    "<p>You reach another volcanically active part of the cave. It would be nice if you could do some kind of thermal imaging so you could tell ahead of time which caves are too hot to safely enter.</p>\n",
    "<p>Fortunately, the submarine seems to be equipped with a thermal camera! When you activate it, you are greeted with:</p>\n",
    "<pre><code>Congratulations on your purchase! To activate this infrared thermal imaging\n",
    "camera system, please enter the code found on page 1 of the manual.\n",
    "</code></pre>\n",
    "<p>Apparently, the Elves have never used this feature. To your surprise, you manage to find the manual; as you go to open it, page 1 falls out. It's a large sheet of <a href=\"https://en.wikipedia.org/wiki/Transparency_(projection)\" target=\"_blank\">transparent paper</a>! The transparent paper is marked with random dots and includes instructions on how to fold it up (your puzzle input). For example:</p>\n",
    "<pre><code>6,10\n",
    "0,14\n",
    "9,10\n",
    "0,3\n",
    "10,4\n",
    "4,11\n",
    "6,0\n",
    "6,12\n",
    "4,1\n",
    "0,13\n",
    "10,12\n",
    "3,4\n",
    "3,0\n",
    "8,4\n",
    "1,10\n",
    "2,14\n",
    "8,10\n",
    "9,0\n",
    "\n",
    "fold along y=7\n",
    "fold along x=5\n",
    "</code></pre>\n",
    "<p>The first section is a list of dots on the transparent paper. <code>0,0</code> represents the top-left coordinate.  The first value, <code>x</code>, increases to the right.  The second value, <code>y</code>, increases downward.  So, the coordinate <code>3,0</code> is to the right of <code>0,0</code>, and the coordinate <code>0,7</code> is below <code>0,0</code>. The coordinates in this example form the following pattern, where <code>#</code> is a dot on the paper and <code>.</code> is an empty, unmarked position:</p>\n",
    "<pre><code>...#..#..#.\n",
    "....#......\n",
    "...........\n",
    "#..........\n",
    "...#....#.#\n",
    "...........\n",
    "...........\n",
    "...........\n",
    "...........\n",
    "...........\n",
    ".#....#.##.\n",
    "....#......\n",
    "......#...#\n",
    "#..........\n",
    "#.#........\n",
    "</code></pre>\n",
    "<p>Then, there is a list of <em>fold instructions</em>. Each instruction indicates a line on the transparent paper and wants you to fold the paper <em>up</em> (for horizontal <code>y=...</code> lines) or <em>left</em> (for vertical <code>x=...</code> lines). In this example, the first fold instruction is <code>fold along y=7</code>, which designates the line formed by all of the positions where <code>y</code> is <code>7</code> (marked here with <code>-</code>):</p>\n",
    "<pre><code>...#..#..#.\n",
    "....#......\n",
    "...........\n",
    "#..........\n",
    "...#....#.#\n",
    "...........\n",
    "...........\n",
    "-----------\n",
    "...........\n",
    "...........\n",
    ".#....#.##.\n",
    "....#......\n",
    "......#...#\n",
    "#..........\n",
    "#.#........\n",
    "</code></pre>\n",
    "<p>Because this is a horizontal line, fold the bottom half <em>up</em>. Some of the dots might end up overlapping after the fold is complete, but dots will never appear exactly on a fold line. The result of doing this fold looks like this:</p>\n",
    "<pre><code>#.##..#..#.\n",
    "#...#......\n",
    "......#...#\n",
    "#...#......\n",
    ".#.#..#.###\n",
    "...........\n",
    "...........\n",
    "</code></pre>\n",
    "<p>Now, only <code>17</code> dots are visible.</p>\n",
    "<p>Notice, for example, the two dots in the bottom left corner before the transparent paper is folded; after the fold is complete, those dots appear in the top left corner (at <code>0,0</code> and <code>0,1</code>). Because the paper is transparent, the dot just below them in the result (at <code>0,3</code>) remains visible, as it can be seen through the transparent paper.</p>\n",
    "<p>Also notice that some dots can end up <em>overlapping</em>; in this case, the dots merge together and become a single dot.</p>\n",
    "<p>The second fold instruction is <code>fold along x=5</code>, which indicates this line:</p>\n",
    "<pre><code>#.##.|#..#.\n",
    "#...#|.....\n",
    ".....|#...#\n",
    "#...#|.....\n",
    ".#.#.|#.###\n",
    ".....|.....\n",
    ".....|.....\n",
    "</code></pre>\n",
    "<p>Because this is a vertical line, fold <em>left</em>:</p>\n",
    "<pre><code>#####\n",
    "#...#\n",
    "#...#\n",
    "#...#\n",
    "#####\n",
    ".....\n",
    ".....\n",
    "</code></pre>\n",
    "<p>The instructions made a square!</p>\n",
    "<p>The transparent paper is pretty big, so for now, focus on just completing the first fold. After the first fold in the example above, <code><em>17</em></code> dots are visible - dots that end up overlapping after the fold is completed count as a single dot.</p>\n",
    "<p><em>How many dots are visible after completing just the first fold instruction on your transparent paper?</em></p>"
   ]
  },
  {
   "cell_type": "code",
   "execution_count": null,
   "id": "b3d2fe85",
   "metadata": {
    "dotnet_interactive": {
     "language": "fsharp"
    }
   },
   "outputs": [],
   "source": [
    "let input = File.ReadAllText(@\"input/13.txt\").Split(Environment.NewLine + Environment.NewLine)\n",
    "let paper = input.[0].Split(Environment.NewLine)\n",
    "let instructionsText = input.[1].Split(Environment.NewLine)"
   ]
  },
  {
   "cell_type": "code",
   "execution_count": null,
   "id": "121566f1",
   "metadata": {},
   "outputs": [],
   "source": [
    "type Axis = X | Y"
   ]
  },
  {
   "cell_type": "code",
   "execution_count": null,
   "id": "f01326c5",
   "metadata": {},
   "outputs": [],
   "source": [
    "let createGrid (paper: string array) = \n",
    "    paper\n",
    "    |> Array.map (fun line -> line.Split(\",\"))\n",
    "    |> Array.map (fun split -> int split.[0], int split.[1])"
   ]
  },
  {
   "cell_type": "code",
   "execution_count": null,
   "id": "635bafa1",
   "metadata": {},
   "outputs": [],
   "source": [
    "let parseInstructions (line: string) = \n",
    "    let split = line.Split(\" \").[2].Split(\"=\")\n",
    "    match split.[0] with\n",
    "    | \"x\" -> X, int split.[1]\n",
    "    | \"y\" -> Y, int split.[1]\n",
    "    | _ -> raise <| new Exception \"Invalid input.\""
   ]
  },
  {
   "cell_type": "code",
   "execution_count": null,
   "id": "b7221c1a",
   "metadata": {},
   "outputs": [],
   "source": [
    "let fold axis line (grid: seq<int * int>) = \n",
    "    let reflect pos line =\n",
    "        if pos > line then\n",
    "            line - (pos - line)\n",
    "        else\n",
    "            pos\n",
    "    \n",
    "    grid\n",
    "    |> Seq.map (fun (x, y) ->\n",
    "        match axis with\n",
    "        | X -> reflect x line, y\n",
    "        | Y -> x, reflect y line)\n",
    "    |> Seq.distinct"
   ]
  },
  {
   "cell_type": "code",
   "execution_count": null,
   "id": "1c6ae57d",
   "metadata": {
    "dotnet_interactive": {
     "language": "fsharp"
    }
   },
   "outputs": [
    {
     "data": {
      "text/html": [
       "<div class=\"dni-plaintext\">770</div>"
      ]
     },
     "metadata": {},
     "output_type": "display_data"
    },
    {
     "data": {
      "text/plain": [
       "Wall time: 15.4349ms"
      ]
     },
     "metadata": {},
     "output_type": "display_data"
    }
   ],
   "source": [
    "#!time\n",
    "let grid = paper |> createGrid\n",
    "let instructions = instructionsText |> Seq.map parseInstructions\n",
    "\n",
    "instructions\n",
    "|> Seq.head\n",
    "|> fun (axis, line) -> fold axis line grid\n",
    "|> Seq.length"
   ]
  },
  {
   "cell_type": "markdown",
   "id": "845efdd9-7742-41e1-889d-dc706863d93d",
   "metadata": {},
   "source": [
    "<h2 id=\"part2\">--- Part Two ---</h2>"
   ]
  },
  {
   "cell_type": "markdown",
   "id": "d6207d17",
   "metadata": {},
   "source": [
    "<p><span title=\"How can you fold it that many times? You tell me, I'm not the one folding it.\">Finish folding</span> the transparent paper according to the instructions. The manual says the code is always <em>eight capital letters</em>.</p>\n",
    "<p><em>What code do you use to activate the infrared thermal imaging camera system?</em></p>"
   ]
  },
  {
   "cell_type": "code",
   "execution_count": null,
   "id": "0f8dbe33",
   "metadata": {},
   "outputs": [],
   "source": [
    "let print (grid: seq<int * int>) = \n",
    "    let maxX = \n",
    "        grid\n",
    "        |> Seq.map (fun (x, _) -> x)\n",
    "        |> Seq.max\n",
    "    let maxY = \n",
    "        grid\n",
    "        |> Seq.map (fun (_, y) -> y)\n",
    "        |> Seq.max\n",
    "\n",
    "    [\n",
    "        for y = 0 to maxY do\n",
    "        [\n",
    "            for x = 0 to maxX do\n",
    "                if grid |> Seq.contains (x, y) then\n",
    "                    \"#\"\n",
    "                else\n",
    "                    \".\"\n",
    "        ]\n",
    "    ]\n",
    "    |> Seq.map (fun row -> row |> String.Concat)\n",
    "    |> fun rows -> String.Join(Environment.NewLine, rows)"
   ]
  },
  {
   "cell_type": "code",
   "execution_count": null,
   "id": "087cc73f",
   "metadata": {},
   "outputs": [
    {
     "data": {
      "text/plain": [
       "####.###..#..#.####.#....###..###..###.\r\n",
       "#....#..#.#..#.#....#....#..#.#..#.#..#\r\n",
       "###..#..#.#..#.###..#....#..#.###..#..#\r\n",
       "#....###..#..#.#....#....###..#..#.###.\r\n",
       "#....#....#..#.#....#....#....#..#.#.#.\r\n",
       "####.#.....##..####.####.#....###..#..#"
      ]
     },
     "metadata": {},
     "output_type": "display_data"
    },
    {
     "data": {
      "text/plain": [
       "Wall time: 443.7414ms"
      ]
     },
     "metadata": {},
     "output_type": "display_data"
    }
   ],
   "source": [
    "#!time\n",
    "instructions\n",
    "|> Seq.fold (fun grid (axis, line) -> fold axis line grid) grid\n",
    "|> print"
   ]
  },
  {
   "cell_type": "markdown",
   "id": "2cf45427-c80e-4427-963f-cef8340e03e7",
   "metadata": {},
   "source": [
    "[Prev](Day12.ipynb) | [Next](Day14.ipynb)"
   ]
  }
 ],
 "metadata": {
  "kernelspec": {
   "display_name": ".NET (F#)",
   "language": "F#",
   "name": ".net-fsharp"
  },
  "language_info": {
   "file_extension": ".fs",
   "mimetype": "text/x-fsharp",
   "name": "C#",
   "pygments_lexer": "fsharp",
   "version": "4.5"
  }
 },
 "nbformat": 4,
 "nbformat_minor": 5
}
