{
 "cells": [
  {
   "cell_type": "markdown",
   "id": "571255d2-7bab-457f-ae95-82559d01d0b0",
   "metadata": {},
   "source": [
    "<h2>--- Day 15: Chiton ---</h2>"
   ]
  },
  {
   "cell_type": "markdown",
   "id": "f7a3f76c-cab3-4f6f-a28b-13b69ccc798a",
   "metadata": {},
   "source": [
    "[![Binder](https://mybinder.org/badge_logo.svg)](https://mybinder.org/v2/gh/oddrationale/AdventOfCode2021FSharp/main?urlpath=lab%2Ftree%2FDay15.ipynb)"
   ]
  },
  {
   "cell_type": "markdown",
   "id": "73bcba6b",
   "metadata": {},
   "source": [
    "<p>You've almost reached the exit of the cave, but the walls are getting closer together. Your submarine can barely still fit, though; the main problem is that the walls of the cave are covered in <a href=\"https://en.wikipedia.org/wiki/Chiton\" target=\"_blank\">chitons</a>, and it would be best not to bump any of them.</p>\n",
    "<p>The cavern is large, but has a very low ceiling, restricting your motion to two dimensions. The shape of the cavern resembles a square; a quick scan of chiton density produces a map of <em>risk level</em> throughout the cave (your puzzle input). For example:</p>\n",
    "<pre><code>1163751742\n",
    "1381373672\n",
    "2136511328\n",
    "3694931569\n",
    "7463417111\n",
    "1319128137\n",
    "1359912421\n",
    "3125421639\n",
    "1293138521\n",
    "2311944581\n",
    "</code></pre>\n",
    "<p>You start in the top left position, your destination is the bottom right position, and you <span title=\"Can't go diagonal until we can repair the caterpillar unit. Could be the liquid helium or the superconductors.\">cannot move diagonally</span>. The number at each position is its <em>risk level</em>; to determine the total risk of an entire path, add up the risk levels of each position you <em>enter</em> (that is, don't count the risk level of your starting position unless you enter it; leaving it adds no risk to your total).</p>\n",
    "<p>Your goal is to find a path with the <em>lowest total risk</em>. In this example, a path with the lowest total risk is highlighted here:</p>\n",
    "<pre><code><em>1</em>163751742\n",
    "<em>1</em>381373672\n",
    "<em>2136511</em>328\n",
    "369493<em>15</em>69\n",
    "7463417<em>1</em>11\n",
    "1319128<em>13</em>7\n",
    "13599124<em>2</em>1\n",
    "31254216<em>3</em>9\n",
    "12931385<em>21</em>\n",
    "231194458<em>1</em>\n",
    "</code></pre>\n",
    "<p>The total risk of this path is <code><em>40</em></code> (the starting position is never entered, so its risk is not counted).</p>\n",
    "<p><em>What is the lowest total risk of any path from the top left to the bottom right?</em></p>"
   ]
  },
  {
   "cell_type": "code",
   "execution_count": null,
   "id": "e6bfe693",
   "metadata": {},
   "outputs": [],
   "source": [
    "open System.Collections.Generic"
   ]
  },
  {
   "cell_type": "code",
   "execution_count": null,
   "id": "b3d2fe85",
   "metadata": {
    "dotnet_interactive": {
     "language": "fsharp"
    }
   },
   "outputs": [],
   "source": [
    "let input = File.ReadAllLines @\"input/15.txt\""
   ]
  },
  {
   "cell_type": "code",
   "execution_count": null,
   "id": "85b81072",
   "metadata": {
    "dotnet_interactive": {
     "language": "fsharp"
    }
   },
   "outputs": [],
   "source": [
    "let createMap input = \n",
    "    input\n",
    "    |> Seq.mapi (fun y row -> \n",
    "        row\n",
    "        |> Seq.mapi (fun x risk -> (x, y), risk |> string |> int))\n",
    "    |> Seq.concat\n",
    "    |> Map"
   ]
  },
  {
   "cell_type": "code",
   "execution_count": null,
   "metadata": {
    "dotnet_interactive": {
     "language": "fsharp"
    }
   },
   "outputs": [],
   "source": [
    "let map = createMap input"
   ]
  },
  {
   "cell_type": "code",
   "execution_count": null,
   "id": "25afcf2b",
   "metadata": {
    "dotnet_interactive": {
     "language": "fsharp"
    }
   },
   "outputs": [],
   "source": [
    "let neighbors map (x, y) = \n",
    "    [\n",
    "        ( 0, -1) // up\n",
    "        ( 1,  0) // right\n",
    "        ( 0,  1) // down\n",
    "        (-1,  0) // left\n",
    "    ]\n",
    "    |> Seq.map (fun (dx, dy) -> x + dx, y + dy)\n",
    "    |> Seq.map (fun (x, y) -> \n",
    "        map\n",
    "        |> Map.toSeq\n",
    "        |> Seq.tryFind (fun (k, v) -> (x, y) = k))\n",
    "    |> Seq.choose id"
   ]
  },
  {
   "cell_type": "code",
   "execution_count": null,
   "id": "76cabe83",
   "metadata": {
    "dotnet_interactive": {
     "language": "fsharp"
    }
   },
   "outputs": [],
   "source": [
    "let findPath (startX, startY) (endX, endY) map = \n",
    "    let frontier = new PriorityQueue<int * int, int>()\n",
    "    frontier.Enqueue((startX, startY), 0)\n",
    "    let cameFrom = new Dictionary<int * int, option<int * int>>()\n",
    "    cameFrom.[(startX, startY)] <- None\n",
    "    let costSoFar = new Dictionary<int * int, int>()\n",
    "    costSoFar.[(startX, startY)] <- 0\n",
    "    \n",
    "    while frontier.Count <> 0 do\n",
    "        let current = frontier.Dequeue()\n",
    "\n",
    "        if current = (endX, endY) then\n",
    "            ()\n",
    "        else\n",
    "            for (next, cost) in current |> neighbors map do\n",
    "                let newCost = costSoFar.[current] + cost\n",
    "                if costSoFar.ContainsKey(next) |> not || newCost < costSoFar.[next] then\n",
    "                    costSoFar.[next] <- newCost\n",
    "                    let priority = newCost\n",
    "                    frontier.Enqueue(next, priority)\n",
    "                    cameFrom.[next] <- Some current\n",
    "    costSoFar"
   ]
  },
  {
   "cell_type": "code",
   "execution_count": null,
   "id": "106f4c8b",
   "metadata": {},
   "outputs": [
    {
     "data": {
      "text/html": [
       "<div class=\"dni-plaintext\">403</div>"
      ]
     },
     "metadata": {},
     "output_type": "display_data"
    },
    {
     "data": {
      "text/plain": [
       "Wall time: 13757.5153ms"
      ]
     },
     "metadata": {},
     "output_type": "display_data"
    }
   ],
   "source": [
    "#!time\n",
    "(findPath (0, 0) (99, 99) map).[(99, 99)]"
   ]
  },
  {
   "cell_type": "markdown",
   "id": "845efdd9-7742-41e1-889d-dc706863d93d",
   "metadata": {},
   "source": [
    "<h2 id=\"part2\">--- Part Two ---</h2>"
   ]
  },
  {
   "cell_type": "markdown",
   "id": "d6207d17",
   "metadata": {},
   "source": [
    "<p>Now that you know how to find low-risk paths in the cave, you can try to find your way out.</p>\n",
    "<p>The entire cave is actually <em>five times larger in both dimensions</em> than you thought; the area you originally scanned is just one tile in a 5x5 tile area that forms the full map. Your original map tile repeats to the right and downward; each time the tile repeats to the right or downward, all of its risk levels <em>are 1 higher</em> than the tile immediately up or left of it. However, risk levels above <code>9</code> wrap back around to <code>1</code>. So, if your original map had some position with a risk level of <code>8</code>, then that same position on each of the 25 total tiles would be as follows:</p>\n",
    "<pre><code>8 9 1 2 3\n",
    "9 1 2 3 4\n",
    "1 2 3 4 5\n",
    "2 3 4 5 6\n",
    "3 4 5 6 7\n",
    "</code></pre>\n",
    "<p>Each single digit above corresponds to the example position with a value of <code>8</code> on the top-left tile. Because the full map is actually five times larger in both dimensions, that position appears a total of 25 times, once in each duplicated tile, with the values shown above.</p>\n",
    "<p>Here is the full five-times-as-large version of the first example above, with the original map in the top left corner highlighted:</p>\n",
    "<pre><code><em>1163751742</em>2274862853338597396444961841755517295286\n",
    "<em>1381373672</em>2492484783351359589446246169155735727126\n",
    "<em>2136511328</em>3247622439435873354154698446526571955763\n",
    "<em>3694931569</em>4715142671582625378269373648937148475914\n",
    "<em>7463417111</em>8574528222968563933317967414442817852555\n",
    "<em>1319128137</em>2421239248353234135946434524615754563572\n",
    "<em>1359912421</em>2461123532357223464346833457545794456865\n",
    "<em>3125421639</em>4236532741534764385264587549637569865174\n",
    "<em>1293138521</em>2314249632342535174345364628545647573965\n",
    "<em>2311944581</em>3422155692453326671356443778246755488935\n",
    "22748628533385973964449618417555172952866628316397\n",
    "24924847833513595894462461691557357271266846838237\n",
    "32476224394358733541546984465265719557637682166874\n",
    "47151426715826253782693736489371484759148259586125\n",
    "85745282229685639333179674144428178525553928963666\n",
    "24212392483532341359464345246157545635726865674683\n",
    "24611235323572234643468334575457944568656815567976\n",
    "42365327415347643852645875496375698651748671976285\n",
    "23142496323425351743453646285456475739656758684176\n",
    "34221556924533266713564437782467554889357866599146\n",
    "33859739644496184175551729528666283163977739427418\n",
    "35135958944624616915573572712668468382377957949348\n",
    "43587335415469844652657195576376821668748793277985\n",
    "58262537826937364893714847591482595861259361697236\n",
    "96856393331796741444281785255539289636664139174777\n",
    "35323413594643452461575456357268656746837976785794\n",
    "35722346434683345754579445686568155679767926678187\n",
    "53476438526458754963756986517486719762859782187396\n",
    "34253517434536462854564757396567586841767869795287\n",
    "45332667135644377824675548893578665991468977611257\n",
    "44961841755517295286662831639777394274188841538529\n",
    "46246169155735727126684683823779579493488168151459\n",
    "54698446526571955763768216687487932779859814388196\n",
    "69373648937148475914825958612593616972361472718347\n",
    "17967414442817852555392896366641391747775241285888\n",
    "46434524615754563572686567468379767857948187896815\n",
    "46833457545794456865681556797679266781878137789298\n",
    "64587549637569865174867197628597821873961893298417\n",
    "45364628545647573965675868417678697952878971816398\n",
    "56443778246755488935786659914689776112579188722368\n",
    "55172952866628316397773942741888415385299952649631\n",
    "57357271266846838237795794934881681514599279262561\n",
    "65719557637682166874879327798598143881961925499217\n",
    "71484759148259586125936169723614727183472583829458\n",
    "28178525553928963666413917477752412858886352396999\n",
    "57545635726865674683797678579481878968159298917926\n",
    "57944568656815567976792667818781377892989248891319\n",
    "75698651748671976285978218739618932984172914319528\n",
    "56475739656758684176786979528789718163989182927419\n",
    "67554889357866599146897761125791887223681299833479\n",
    "</code></pre>\n",
    "<p>Equipped with the full map, you can now find a path from the top left corner to the bottom right corner with the lowest total risk:</p>\n",
    "<pre><code><em>1</em>1637517422274862853338597396444961841755517295286\n",
    "<em>1</em>3813736722492484783351359589446246169155735727126\n",
    "<em>2</em>1365113283247622439435873354154698446526571955763\n",
    "<em>3</em>6949315694715142671582625378269373648937148475914\n",
    "<em>7</em>4634171118574528222968563933317967414442817852555\n",
    "<em>1</em>3191281372421239248353234135946434524615754563572\n",
    "<em>1</em>3599124212461123532357223464346833457545794456865\n",
    "<em>3</em>1254216394236532741534764385264587549637569865174\n",
    "<em>1</em>2931385212314249632342535174345364628545647573965\n",
    "<em>2</em>3119445813422155692453326671356443778246755488935\n",
    "<em>2</em>2748628533385973964449618417555172952866628316397\n",
    "<em>2</em>4924847833513595894462461691557357271266846838237\n",
    "<em>324</em>76224394358733541546984465265719557637682166874\n",
    "47<em>15</em>1426715826253782693736489371484759148259586125\n",
    "857<em>4</em>5282229685639333179674144428178525553928963666\n",
    "242<em>1</em>2392483532341359464345246157545635726865674683\n",
    "246<em>1123532</em>3572234643468334575457944568656815567976\n",
    "423653274<em>1</em>5347643852645875496375698651748671976285\n",
    "231424963<em>2342</em>5351743453646285456475739656758684176\n",
    "342215569245<em>332</em>66713564437782467554889357866599146\n",
    "33859739644496<em>1</em>84175551729528666283163977739427418\n",
    "35135958944624<em>61</em>6915573572712668468382377957949348\n",
    "435873354154698<em>44</em>652657195576376821668748793277985\n",
    "5826253782693736<em>4</em>893714847591482595861259361697236\n",
    "9685639333179674<em>1</em>444281785255539289636664139174777\n",
    "3532341359464345<em>2461</em>575456357268656746837976785794\n",
    "3572234643468334575<em>4</em>579445686568155679767926678187\n",
    "5347643852645875496<em>3</em>756986517486719762859782187396\n",
    "3425351743453646285<em>4564</em>757396567586841767869795287\n",
    "4533266713564437782467<em>554</em>8893578665991468977611257\n",
    "449618417555172952866628<em>3163</em>9777394274188841538529\n",
    "462461691557357271266846838<em>2</em>3779579493488168151459\n",
    "546984465265719557637682166<em>8</em>7487932779859814388196\n",
    "693736489371484759148259586<em>125</em>93616972361472718347\n",
    "17967414442817852555392896366<em>6413</em>91747775241285888\n",
    "46434524615754563572686567468379<em>7</em>67857948187896815\n",
    "46833457545794456865681556797679<em>26</em>6781878137789298\n",
    "645875496375698651748671976285978<em>21</em>873961893298417\n",
    "4536462854564757396567586841767869<em>7</em>952878971816398\n",
    "5644377824675548893578665991468977<em>6112</em>579188722368\n",
    "5517295286662831639777394274188841538<em>5</em>299952649631\n",
    "5735727126684683823779579493488168151<em>4</em>599279262561\n",
    "6571955763768216687487932779859814388<em>1</em>961925499217\n",
    "7148475914825958612593616972361472718<em>34725</em>83829458\n",
    "28178525553928963666413917477752412858886<em>3</em>52396999\n",
    "57545635726865674683797678579481878968159<em>2</em>98917926\n",
    "57944568656815567976792667818781377892989<em>24</em>8891319\n",
    "756986517486719762859782187396189329841729<em>1431</em>9528\n",
    "564757396567586841767869795287897181639891829<em>2</em>7419\n",
    "675548893578665991468977611257918872236812998<em>33479</em>\n",
    "</code></pre>\n",
    "<p>The total risk of this path is <code><em>315</em></code> (the starting position is still never entered, so its risk is not counted).</p>\n",
    "<p>Using the full map, <em>what is the lowest total risk of any path from the top left to the bottom right?</em></p>"
   ]
  },
  {
   "cell_type": "code",
   "execution_count": null,
   "id": "c61ddf21",
   "metadata": {
    "dotnet_interactive": {
     "language": "fsharp"
    }
   },
   "outputs": [],
   "source": [
    "let expand map = \n",
    "    let maxX = \n",
    "        map\n",
    "        |> Map.keys\n",
    "        |> Seq.map (fun (x, _) -> x)\n",
    "        |> Seq.max\n",
    "        |> (+) 1\n",
    "    \n",
    "    let maxY =\n",
    "        map\n",
    "        |> Map.keys\n",
    "        |> Seq.map (fun (_, y) -> y)\n",
    "        |> Seq.max\n",
    "        |> (+) 1\n",
    "    \n",
    "    map\n",
    "    |> Map.toSeq\n",
    "    |> Seq.map (fun ((x, y), risk) -> \n",
    "        Seq.allPairs [0..4] [0..4]\n",
    "        |> Seq.map (fun (x', y') -> (x + (maxX * x'), y + (maxY * y')), (risk + x' + y' - 1) % 9 + 1))\n",
    "    |> Seq.concat\n",
    "    |> Map"
   ]
  },
  {
   "cell_type": "code",
   "execution_count": null,
   "id": "94ccf1e0",
   "metadata": {},
   "outputs": [],
   "source": [
    "let expandedMap = expand map"
   ]
  },
  {
   "cell_type": "code",
   "execution_count": null,
   "id": "88a065bb",
   "metadata": {},
   "outputs": [
    {
     "data": {
      "text/html": [
       "<div class=\"dni-plaintext\">2840</div>"
      ]
     },
     "metadata": {},
     "output_type": "display_data"
    }
   ],
   "source": [
    "(findPath (0, 0) (499, 499) expandedMap).[(499, 499)]"
   ]
  },
  {
   "cell_type": "markdown",
   "id": "2cf45427-c80e-4427-963f-cef8340e03e7",
   "metadata": {},
   "source": [
    "[Prev](Day14.ipynb) | [Next](Day16.ipynb)"
   ]
  }
 ],
 "metadata": {
  "kernelspec": {
   "display_name": ".NET (F#)",
   "language": "F#",
   "name": ".net-fsharp"
  },
  "language_info": {
   "file_extension": ".fs",
   "mimetype": "text/x-fsharp",
   "name": "C#",
   "pygments_lexer": "fsharp",
   "version": "4.5"
  }
 },
 "nbformat": 4,
 "nbformat_minor": 5
}
