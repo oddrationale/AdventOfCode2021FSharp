{
 "cells": [
  {
   "cell_type": "markdown",
   "id": "571255d2-7bab-457f-ae95-82559d01d0b0",
   "metadata": {},
   "source": [
    "<h2>--- Day 10: Syntax Scoring ---</h2>"
   ]
  },
  {
   "cell_type": "markdown",
   "id": "f7a3f76c-cab3-4f6f-a28b-13b69ccc798a",
   "metadata": {},
   "source": [
    "[![Binder](https://mybinder.org/badge_logo.svg)](https://mybinder.org/v2/gh/oddrationale/AdventOfCode2021FSharp/main?urlpath=lab%2Ftree%2FDay10.ipynb)"
   ]
  },
  {
   "cell_type": "markdown",
   "id": "73bcba6b",
   "metadata": {},
   "source": [
    "<p>You ask the submarine to determine the best route out of the deep-sea cave, but it only replies:</p>\n",
    "<pre><code>Syntax error in navigation subsystem on line: <span title=\"Some days, that's just how it is.\">all of them</span></code></pre>\n",
    "<p><em>All of them?!</em> The damage is worse than you thought. You bring up a copy of the navigation subsystem (your puzzle input).</p>\n",
    "<p>The navigation subsystem syntax is made of several lines containing <em>chunks</em>. There are one or more chunks on each line, and chunks contain zero or more other chunks. Adjacent chunks are not separated by any delimiter; if one chunk stops, the next chunk (if any) can immediately start. Every chunk must <em>open</em> and <em>close</em> with one of four legal pairs of matching characters:</p>\n",
    "<ul>\n",
    "<li>If a chunk opens with <code>(</code>, it must close with <code>)</code>.</li>\n",
    "<li>If a chunk opens with <code>[</code>, it must close with <code>]</code>.</li>\n",
    "<li>If a chunk opens with <code>{</code>, it must close with <code>}</code>.</li>\n",
    "<li>If a chunk opens with <code>&lt;</code>, it must close with <code>&gt;</code>.</li>\n",
    "</ul>\n",
    "<p>So, <code>()</code> is a legal chunk that contains no other chunks, as is <code>[]</code>. More complex but valid chunks include <code>([])</code>, <code>{()()()}</code>, <code>&lt;([{}])&gt;</code>, <code>[&lt;&gt;({}){}[([])&lt;&gt;]]</code>, and even <code>(((((((((())))))))))</code>.</p>\n",
    "<p>Some lines are <em>incomplete</em>, but others are <em>corrupted</em>. Find and discard the corrupted lines first.</p>\n",
    "<p>A corrupted line is one where a chunk <em>closes with the wrong character</em> - that is, where the characters it opens and closes with do not form one of the four legal pairs listed above.</p>\n",
    "<p>Examples of corrupted chunks include <code>(]</code>, <code>{()()()&gt;</code>, <code>(((()))}</code>, and <code>&lt;([]){()}[{}])</code>. Such a chunk can appear anywhere within a line, and its presence causes the whole line to be considered corrupted.</p>\n",
    "<p>For example, consider the following navigation subsystem:</p>\n",
    "<pre><code>[({(&lt;(())[]&gt;[[{[]{&lt;()&lt;&gt;&gt;\n",
    "[(()[&lt;&gt;])]({[&lt;{&lt;&lt;[]&gt;&gt;(\n",
    "{([(&lt;{}[&lt;&gt;[]}&gt;{[]{[(&lt;()&gt;\n",
    "(((({&lt;&gt;}&lt;{&lt;{&lt;&gt;}{[]{[]{}\n",
    "[[&lt;[([]))&lt;([[{}[[()]]]\n",
    "[{[{({}]{}}([{[{{{}}([]\n",
    "{&lt;[[]]&gt;}&lt;{[{[{[]{()[[[]\n",
    "[&lt;(&lt;(&lt;(&lt;{}))&gt;&lt;([]([]()\n",
    "&lt;{([([[(&lt;&gt;()){}]&gt;(&lt;&lt;{{\n",
    "&lt;{([{{}}[&lt;[[[&lt;&gt;{}]]]&gt;[]]\n",
    "</code></pre>\n",
    "<p>Some of the lines aren't corrupted, just incomplete; you can ignore these lines for now. The remaining five lines are corrupted:</p>\n",
    "<ul>\n",
    "<li><code>{([(&lt;{}[&lt;&gt;[]}&gt;{[]{[(&lt;()&gt;</code> - Expected <code>]</code>, but found <code>}</code> instead.</li>\n",
    "<li><code>[[&lt;[([]))&lt;([[{}[[()]]]</code> - Expected <code>]</code>, but found <code>)</code> instead.</li>\n",
    "<li><code>[{[{({}]{}}([{[{{{}}([]</code> - Expected <code>)</code>, but found <code>]</code> instead.</li>\n",
    "<li><code>[&lt;(&lt;(&lt;(&lt;{}))&gt;&lt;([]([]()</code> - Expected <code>&gt;</code>, but found <code>)</code> instead.</li>\n",
    "<li><code>&lt;{([([[(&lt;&gt;()){}]&gt;(&lt;&lt;{{</code> - Expected <code>]</code>, but found <code>&gt;</code> instead.</li>\n",
    "</ul>\n",
    "<p>Stop at the first incorrect closing character on each corrupted line.</p>\n",
    "<p>Did you know that syntax checkers actually have contests to see who can get the high score for syntax errors in a file? It's true! To calculate the syntax error score for a line, take the <em>first illegal character</em> on the line and look it up in the following table:</p>\n",
    "<ul>\n",
    "<li><code>)</code>: <code>3</code> points.</li>\n",
    "<li><code>]</code>: <code>57</code> points.</li>\n",
    "<li><code>}</code>: <code>1197</code> points.</li>\n",
    "<li><code>&gt;</code>: <code>25137</code> points.</li>\n",
    "</ul>\n",
    "<p>In the above example, an illegal <code>)</code> was found twice (<code>2*3 = <em>6</em></code> points), an illegal <code>]</code> was found once (<code><em>57</em></code> points), an illegal <code>}</code> was found once (<code><em>1197</em></code> points), and an illegal <code>&gt;</code> was found once (<code><em>25137</em></code> points). So, the total syntax error score for this file is <code>6+57+1197+25137 = <em>26397</em></code> points!</p>\n",
    "<p>Find the first illegal character in each corrupted line of the navigation subsystem. <em>What is the total syntax error score for those errors?</em></p>"
   ]
  },
  {
   "cell_type": "code",
   "execution_count": null,
   "id": "b3d2fe85",
   "metadata": {
    "dotnet_interactive": {
     "language": "fsharp"
    }
   },
   "outputs": [],
   "source": [
    "let input = File.ReadAllLines @\"input/10.txt\""
   ]
  },
  {
   "cell_type": "code",
   "execution_count": null,
   "id": "159f3296",
   "metadata": {},
   "outputs": [],
   "source": [
    "let invert =\n",
    "    function\n",
    "    | '(' -> ')'\n",
    "    | '<' -> '>'\n",
    "    | '[' -> ']'\n",
    "    | '{' -> '}'\n",
    "    | ')' -> '('\n",
    "    | '>' -> '<'\n",
    "    | ']' -> '['\n",
    "    | '}' -> '{'\n",
    "    | _ -> raise <| new Exception(\"Invalid character.\")"
   ]
  },
  {
   "cell_type": "code",
   "execution_count": null,
   "id": "55f55965",
   "metadata": {},
   "outputs": [],
   "source": [
    "let findUnexpectedChar (line: string) = \n",
    "    let rec loop stack remainder =\n",
    "        match remainder with\n",
    "        | [] -> None\n",
    "        | curr::remainder' ->\n",
    "            match curr with\n",
    "            | '(' | '<' | '[' | '{' ->\n",
    "                loop ([curr] @ stack) remainder'\n",
    "            | _ ->\n",
    "                match stack with\n",
    "                | [] -> loop stack remainder'\n",
    "                | pop::tail -> \n",
    "                    if invert curr = pop then\n",
    "                        loop tail remainder'\n",
    "                    else\n",
    "                        Some curr\n",
    "    loop List.empty (line |> List.ofSeq)"
   ]
  },
  {
   "cell_type": "code",
   "execution_count": null,
   "id": "25e1d050",
   "metadata": {},
   "outputs": [],
   "source": [
    "let syntaxCheckerPoints =\n",
    "    function\n",
    "    | ')' -> 3\n",
    "    | ']' -> 57\n",
    "    | '}' -> 1197\n",
    "    | '>' -> 25137\n",
    "    | _ -> 0"
   ]
  },
  {
   "cell_type": "code",
   "execution_count": null,
   "id": "4e3a572f",
   "metadata": {},
   "outputs": [
    {
     "data": {
      "text/html": [
       "<div class=\"dni-plaintext\">243939</div>"
      ]
     },
     "metadata": {},
     "output_type": "display_data"
    },
    {
     "data": {
      "text/plain": [
       "Wall time: 8.3729ms"
      ]
     },
     "metadata": {},
     "output_type": "display_data"
    }
   ],
   "source": [
    "#!time\n",
    "input\n",
    "|> Seq.map findUnexpectedChar\n",
    "|> Seq.choose id\n",
    "|> Seq.map syntaxCheckerPoints\n",
    "|> Seq.sum"
   ]
  },
  {
   "cell_type": "markdown",
   "id": "845efdd9-7742-41e1-889d-dc706863d93d",
   "metadata": {},
   "source": [
    "<h2 id=\"part2\">--- Part Two ---</h2>"
   ]
  },
  {
   "cell_type": "markdown",
   "id": "d6207d17",
   "metadata": {},
   "source": [
    "<p>Now, discard the corrupted lines.  The remaining lines are <em>incomplete</em>.</p>\n",
    "<p>Incomplete lines don't have any incorrect characters - instead, they're missing some closing characters at the end of the line. To repair the navigation subsystem, you just need to figure out <em>the sequence of closing characters</em> that complete all open chunks in the line.</p>\n",
    "<p>You can only use closing characters (<code>)</code>, <code>]</code>, <code>}</code>, or <code>&gt;</code>), and you must add them in the correct order so that only legal pairs are formed and all chunks end up closed.</p>\n",
    "<p>In the example above, there are five incomplete lines:</p>\n",
    "<ul>\n",
    "<li><code>[({(&lt;(())[]&gt;[[{[]{&lt;()&lt;&gt;&gt;</code> - Complete by adding <code>}}]])})]</code>.</li>\n",
    "<li><code>[(()[&lt;&gt;])]({[&lt;{&lt;&lt;[]&gt;&gt;(</code> - Complete by adding <code>)}&gt;]})</code>.</li>\n",
    "<li><code>(((({&lt;&gt;}&lt;{&lt;{&lt;&gt;}{[]{[]{}</code> - Complete by adding <code>}}&gt;}&gt;))))</code>.</li>\n",
    "<li><code>{&lt;[[]]&gt;}&lt;{[{[{[]{()[[[]</code> - Complete by adding <code>]]}}]}]}&gt;</code>.</li>\n",
    "<li><code>&lt;{([{{}}[&lt;[[[&lt;&gt;{}]]]&gt;[]]</code> - Complete by adding <code>])}&gt;</code>.</li>\n",
    "</ul>\n",
    "<p>Did you know that autocomplete tools <em>also</em> have contests? It's true! The score is determined by considering the completion string character-by-character. Start with a total score of <code>0</code>. Then, for each character, multiply the total score by 5 and then increase the total score by the point value given for the character in the following table:</p>\n",
    "<ul>\n",
    "<li><code>)</code>: <code>1</code> point.</li>\n",
    "<li><code>]</code>: <code>2</code> points.</li>\n",
    "<li><code>}</code>: <code>3</code> points.</li>\n",
    "<li><code>&gt;</code>: <code>4</code> points.</li>\n",
    "</ul>\n",
    "<p>So, the last completion string above - <code>])}&gt;</code> - would be scored as follows:</p>\n",
    "<ul>\n",
    "<li>Start with a total score of <code>0</code>.</li>\n",
    "<li>Multiply the total score by 5 to get <code>0</code>, then add the value of <code>]</code> (2) to get a new total score of <code>2</code>.</li>\n",
    "<li>Multiply the total score by 5 to get <code>10</code>, then add the value of <code>)</code> (1) to get a new total score of <code>11</code>.</li>\n",
    "<li>Multiply the total score by 5 to get <code>55</code>, then add the value of <code>}</code> (3) to get a new total score of <code>58</code>.</li>\n",
    "<li>Multiply the total score by 5 to get <code>290</code>, then add the value of <code>&gt;</code> (4) to get a new total score of <code>294</code>.</li>\n",
    "</ul>\n",
    "<p>The five lines' completion strings have total scores as follows:</p>\n",
    "<ul>\n",
    "<li><code>}}]])})]</code> - <code>288957</code> total points.</li>\n",
    "<li><code>)}&gt;]})</code> - <code>5566</code> total points.</li>\n",
    "<li><code>}}&gt;}&gt;))))</code> - <code>1480781</code> total points.</li>\n",
    "<li><code>]]}}]}]}&gt;</code> - <code>995444</code> total points.</li>\n",
    "<li><code>])}&gt;</code> - <code>294</code> total points.</li>\n",
    "</ul>\n",
    "<p>Autocomplete tools are an odd bunch: the winner is found by <em>sorting</em> all of the scores and then taking the <em>middle</em> score. (There will always be an odd number of scores to consider.) In this example, the middle score is <code><em>288957</em></code> because there are the same number of scores smaller and larger than it.</p>\n",
    "<p>Find the completion string for each incomplete line, score the completion strings, and sort the scores. <em>What is the middle score?</em></p>"
   ]
  },
  {
   "cell_type": "code",
   "execution_count": null,
   "id": "51668b22",
   "metadata": {},
   "outputs": [],
   "source": [
    "let complete (line: string) = \n",
    "    let rec loop stack remainder =\n",
    "        match remainder with\n",
    "        | [] -> stack |> Seq.map invert |> String.Concat\n",
    "        | curr::remainder' ->\n",
    "            match curr with\n",
    "            | '(' | '<' | '[' | '{' ->\n",
    "                loop ([curr] @ stack) remainder'\n",
    "            | _ ->\n",
    "                match stack with\n",
    "                | [] -> loop stack remainder'\n",
    "                | pop::tail -> loop tail remainder'\n",
    "    loop List.empty (line |> List.ofSeq)"
   ]
  },
  {
   "cell_type": "code",
   "execution_count": null,
   "id": "c61ddf21",
   "metadata": {
    "dotnet_interactive": {
     "language": "fsharp"
    }
   },
   "outputs": [],
   "source": [
    "let autocompletePoints =\n",
    "    function\n",
    "    | ')' -> 1L\n",
    "    | ']' -> 2L\n",
    "    | '}' -> 3L\n",
    "    | '>' -> 4L\n",
    "    | _ -> 0L"
   ]
  },
  {
   "cell_type": "code",
   "execution_count": null,
   "id": "87473994",
   "metadata": {},
   "outputs": [],
   "source": [
    "let score str =\n",
    "    str\n",
    "    |> Seq.fold (fun acc c -> acc * 5L + (c |> autocompletePoints)) 0L"
   ]
  },
  {
   "cell_type": "code",
   "execution_count": null,
   "id": "fea57f8c",
   "metadata": {},
   "outputs": [
    {
     "data": {
      "text/html": [
       "<div class=\"dni-plaintext\">2421222841</div>"
      ]
     },
     "metadata": {},
     "output_type": "display_data"
    },
    {
     "data": {
      "text/plain": [
       "Wall time: 10.3466ms"
      ]
     },
     "metadata": {},
     "output_type": "display_data"
    }
   ],
   "source": [
    "#!time\n",
    "input\n",
    "|> Seq.filter (fun line -> line |> findUnexpectedChar |> Option.isNone)\n",
    "|> Seq.map complete\n",
    "|> Seq.map score\n",
    "|> Seq.sort\n",
    "|> fun scores -> \n",
    "    scores |> Seq.item ((scores |> Seq.length) / 2)"
   ]
  },
  {
   "cell_type": "markdown",
   "id": "2cf45427-c80e-4427-963f-cef8340e03e7",
   "metadata": {},
   "source": [
    "[Prev](Day09.ipynb) | [Next](Day11.ipynb)"
   ]
  }
 ],
 "metadata": {
  "kernelspec": {
   "display_name": ".NET (F#)",
   "language": "F#",
   "name": ".net-fsharp"
  },
  "language_info": {
   "file_extension": ".fs",
   "mimetype": "text/x-fsharp",
   "name": "C#",
   "pygments_lexer": "fsharp",
   "version": "4.5"
  }
 },
 "nbformat": 4,
 "nbformat_minor": 5
}
