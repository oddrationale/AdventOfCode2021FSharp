{
 "cells": [
  {
   "cell_type": "markdown",
   "id": "571255d2-7bab-457f-ae95-82559d01d0b0",
   "metadata": {},
   "source": [
    "<h2>--- Day 3: Binary Diagnostic ---</h2>"
   ]
  },
  {
   "cell_type": "markdown",
   "id": "f7a3f76c-cab3-4f6f-a28b-13b69ccc798a",
   "metadata": {},
   "source": [
    "[![Binder](https://mybinder.org/badge_logo.svg)](https://mybinder.org/v2/gh/oddrationale/AdventOfCode2021FSharp/main?urlpath=lab%2Ftree%2FDay03.ipynb)"
   ]
  },
  {
   "cell_type": "markdown",
   "id": "73bcba6b",
   "metadata": {},
   "source": [
    "<p>The submarine has been making some <span title=\"Turns out oceans are heavy.\">odd creaking noises</span>, so you ask it to produce a diagnostic report just in case.</p>\n",
    "<p>The diagnostic report (your puzzle input) consists of a list of binary numbers which, when decoded properly, can tell you many useful things about the conditions of the submarine. The first parameter to check is the <em>power consumption</em>.</p>\n",
    "<p>You need to use the binary numbers in the diagnostic report to generate two new binary numbers (called the <em>gamma rate</em> and the <em>epsilon rate</em>). The power consumption can then be found by multiplying the gamma rate by the epsilon rate.</p>\n",
    "<p>Each bit in the gamma rate can be determined by finding the <em>most common bit in the corresponding position</em> of all numbers in the diagnostic report. For example, given the following diagnostic report:</p>\n",
    "<pre><code>00100\n",
    "11110\n",
    "10110\n",
    "10111\n",
    "10101\n",
    "01111\n",
    "00111\n",
    "11100\n",
    "10000\n",
    "11001\n",
    "00010\n",
    "01010\n",
    "</code></pre>\n",
    "<p>Considering only the first bit of each number, there are five <code>0</code> bits and seven <code>1</code> bits. Since the most common bit is <code>1</code>, the first bit of the gamma rate is <code>1</code>.</p>\n",
    "<p>The most common second bit of the numbers in the diagnostic report is <code>0</code>, so the second bit of the gamma rate is <code>0</code>.</p>\n",
    "<p>The most common value of the third, fourth, and fifth bits are <code>1</code>, <code>1</code>, and <code>0</code>, respectively, and so the final three bits of the gamma rate are <code>110</code>.</p>\n",
    "<p>So, the gamma rate is the binary number <code>10110</code>, or <code><em>22</em></code> in decimal.</p>\n",
    "<p>The epsilon rate is calculated in a similar way; rather than use the most common bit, the least common bit from each position is used. So, the epsilon rate is <code>01001</code>, or <code><em>9</em></code> in decimal. Multiplying the gamma rate (<code>22</code>) by the epsilon rate (<code>9</code>) produces the power consumption, <code><em>198</em></code>.</p>\n",
    "<p>Use the binary numbers in your diagnostic report to calculate the gamma rate and epsilon rate, then multiply them together. <em>What is the power consumption of the submarine?</em> (Be sure to represent your answer in decimal, not binary.)</p>"
   ]
  },
  {
   "cell_type": "code",
   "execution_count": null,
   "id": "b3d2fe85",
   "metadata": {
    "dotnet_interactive": {
     "language": "fsharp"
    }
   },
   "outputs": [],
   "source": [
    "let input = File.ReadAllLines @\"input/03.txt\""
   ]
  },
  {
   "cell_type": "code",
   "execution_count": null,
   "id": "c1553516",
   "metadata": {
    "dotnet_interactive": {
     "language": "fsharp"
    }
   },
   "outputs": [
    {
     "data": {
      "text/html": [
       "<div class=\"dni-plaintext\">1025636</div>"
      ]
     },
     "metadata": {},
     "output_type": "display_data"
    },
    {
     "data": {
      "text/plain": [
       "Wall time: 36.3355ms"
      ]
     },
     "metadata": {},
     "output_type": "display_data"
    }
   ],
   "source": [
    "#!time\n",
    "input\n",
    "|> Seq.map (fun line -> line.ToCharArray() |> Seq.map (fun char -> char |> string |> int))\n",
    "|> Seq.transpose\n",
    "|> Seq.map (fun bits -> if (bits |> Seq.sum) * 2 > input.Length then (1, 0) else (0, 1))\n",
    "|> Seq.fold (fun (gamma, epsilon) (g, e) -> gamma + string g, epsilon + string e) (String.Empty, String.Empty)\n",
    "|> fun (gamma, epsilon) -> Convert.ToInt32(gamma, 2) * Convert.ToInt32(epsilon, 2)"
   ]
  },
  {
   "cell_type": "markdown",
   "id": "845efdd9-7742-41e1-889d-dc706863d93d",
   "metadata": {},
   "source": [
    "<h2 id=\"part2\">--- Part Two ---</h2>"
   ]
  },
  {
   "cell_type": "markdown",
   "id": "d6207d17",
   "metadata": {},
   "source": [
    "<p>Next, you should verify the <em>life support rating</em>, which can be determined by multiplying the <em>oxygen generator rating</em> by the <em>CO2 scrubber rating</em>.</p>\n",
    "<p>Both the oxygen generator rating and the CO2 scrubber rating are values that can be found in your diagnostic report - finding them is the tricky part. Both values are located using a similar process that involves filtering out values until only one remains. Before searching for either rating value, start with the full list of binary numbers from your diagnostic report and <em>consider just the first bit</em> of those numbers. Then:</p>\n",
    "<ul>\n",
    "<li>Keep only numbers selected by the <em>bit criteria</em> for the type of rating value for which you are searching. Discard numbers which do not match the bit criteria.</li>\n",
    "<li>If you only have one number left, stop; this is the rating value for which you are searching.</li>\n",
    "<li>Otherwise, repeat the process, considering the next bit to the right.</li>\n",
    "</ul>\n",
    "<p>The <em>bit criteria</em> depends on which type of rating value you want to find:</p>\n",
    "<ul>\n",
    "<li>To find <em>oxygen generator rating</em>, determine the <em>most common</em> value (<code>0</code> or <code>1</code>) in the current bit position, and keep only numbers with that bit in that position. If <code>0</code> and <code>1</code> are equally common, keep values with a <code><em>1</em></code> in the position being considered.</li>\n",
    "<li>To find <em>CO2 scrubber rating</em>, determine the <em>least common</em> value (<code>0</code> or <code>1</code>) in the current bit position, and keep only numbers with that bit in that position. If <code>0</code> and <code>1</code> are equally common, keep values with a <code><em>0</em></code> in the position being considered.</li>\n",
    "</ul>\n",
    "<p>For example, to determine the <em>oxygen generator rating</em> value using the same example diagnostic report from above:</p>\n",
    "<ul>\n",
    "<li>Start with all 12 numbers and consider only the first bit of each number. There are more <code>1</code> bits (7) than <code>0</code> bits (5), so keep only the 7 numbers with a <code>1</code> in the first position: <code>11110</code>, <code>10110</code>, <code>10111</code>, <code>10101</code>, <code>11100</code>, <code>10000</code>, and <code>11001</code>.</li>\n",
    "<li>Then, consider the second bit of the 7 remaining numbers: there are more <code>0</code> bits (4) than <code>1</code> bits (3), so keep only the 4 numbers with a <code>0</code> in the second position: <code>10110</code>, <code>10111</code>, <code>10101</code>, and <code>10000</code>.</li>\n",
    "<li>In the third position, three of the four numbers have a <code>1</code>, so keep those three: <code>10110</code>, <code>10111</code>, and <code>10101</code>.</li>\n",
    "<li>In the fourth position, two of the three numbers have a <code>1</code>, so keep those two: <code>10110</code> and <code>10111</code>.</li>\n",
    "<li>In the fifth position, there are an equal number of <code>0</code> bits and <code>1</code> bits (one each). So, to find the <em>oxygen generator rating</em>, keep the number with a <code>1</code> in that position: <code>10111</code>.</li>\n",
    "<li>As there is only one number left, stop; the <em>oxygen generator rating</em> is <code>10111</code>, or <code><em>23</em></code> in decimal.</li>\n",
    "</ul>\n",
    "<p>Then, to determine the <em>CO2 scrubber rating</em> value from the same example above:</p>\n",
    "<ul>\n",
    "<li>Start again with all 12 numbers and consider only the first bit of each number. There are fewer <code>0</code> bits (5) than <code>1</code> bits (7), so keep only the 5 numbers with a <code>0</code> in the first position: <code>00100</code>, <code>01111</code>, <code>00111</code>, <code>00010</code>, and <code>01010</code>.</li>\n",
    "<li>Then, consider the second bit of the 5 remaining numbers: there are fewer <code>1</code> bits (2) than <code>0</code> bits (3), so keep only the 2 numbers with a <code>1</code> in the second position: <code>01111</code> and <code>01010</code>.</li>\n",
    "<li>In the third position, there are an equal number of <code>0</code> bits and <code>1</code> bits (one each). So, to find the <em>CO2 scrubber rating</em>, keep the number with a <code>0</code> in that position: <code>01010</code>.</li>\n",
    "<li>As there is only one number left, stop; the <em>CO2 scrubber rating</em> is <code>01010</code>, or <code><em>10</em></code> in decimal.</li>\n",
    "</ul>\n",
    "<p>Finally, to find the life support rating, multiply the oxygen generator rating (<code>23</code>) by the CO2 scrubber rating (<code>10</code>) to get <code><em>230</em></code>.</p>\n",
    "<p>Use the binary numbers in your diagnostic report to calculate the oxygen generator rating and CO2 scrubber rating, then multiply them together. <em>What is the life support rating of the submarine?</em> (Be sure to represent your answer in decimal, not binary.)</p>"
   ]
  },
  {
   "cell_type": "code",
   "execution_count": null,
   "id": "26b83b29",
   "metadata": {},
   "outputs": [],
   "source": [
    "let mostCommonBit bits = \n",
    "    match (bits |> Seq.sum) with\n",
    "    | sum when sum * 2 >= (bits |> Seq.length) -> 1\n",
    "    | _ -> 0\n",
    "\n",
    "let leastCommonBit bits = \n",
    "    match (bits |> Seq.sum) with\n",
    "    | sum when sum * 2 >= (bits |> Seq.length) -> 0\n",
    "    | _ -> 1"
   ]
  },
  {
   "cell_type": "code",
   "execution_count": null,
   "id": "c61ddf21",
   "metadata": {
    "dotnet_interactive": {
     "language": "fsharp"
    }
   },
   "outputs": [],
   "source": [
    "let filter bitCriteria pos (input: seq<string>) = \n",
    "    let column = \n",
    "        input\n",
    "        |> Seq.map (fun line -> line.ToCharArray() |> Seq.map (fun char -> char |> string |> int))\n",
    "        |> Seq.transpose\n",
    "        |> Seq.item pos\n",
    "        |> Seq.cache\n",
    "    \n",
    "    let filterBit = \n",
    "        column \n",
    "        |> bitCriteria\n",
    "    \n",
    "    let criteria = \n",
    "        column\n",
    "        |> Seq.map (fun bit -> bit = filterBit)\n",
    "    \n",
    "    if input |> Seq.length = 1 then\n",
    "        input\n",
    "    else\n",
    "        input\n",
    "        |> Seq.zip criteria\n",
    "        |> Seq.filter (fun (c, _) -> c)\n",
    "        |> Seq.map (fun (_, line) -> line)"
   ]
  },
  {
   "cell_type": "code",
   "execution_count": null,
   "id": "e8025040",
   "metadata": {},
   "outputs": [
    {
     "data": {
      "text/html": [
       "<div class=\"dni-plaintext\">793873</div>"
      ]
     },
     "metadata": {},
     "output_type": "display_data"
    },
    {
     "data": {
      "text/plain": [
       "Wall time: 36.2058ms"
      ]
     },
     "metadata": {},
     "output_type": "display_data"
    }
   ],
   "source": [
    "#!time\n",
    "let oxygenGeneratorRating = \n",
    "    [0..input.[0].Length-1]\n",
    "    |> Seq.fold (fun acc pos -> filter mostCommonBit pos acc) input\n",
    "    |> fun result -> Convert.ToInt32(result |> Seq.exactlyOne, 2)\n",
    "\n",
    "let co2ScrubbingRating = \n",
    "    [0..input.[0].Length-1]\n",
    "    |> Seq.fold (fun acc pos -> filter leastCommonBit pos acc) input\n",
    "    |> fun result -> Convert.ToInt32(result |> Seq.exactlyOne, 2)\n",
    "\n",
    "oxygenGeneratorRating * co2ScrubbingRating"
   ]
  },
  {
   "cell_type": "markdown",
   "id": "2cf45427-c80e-4427-963f-cef8340e03e7",
   "metadata": {},
   "source": [
    "[Prev](Day02.ipynb) | [Next](Day04.ipynb)"
   ]
  }
 ],
 "metadata": {
  "kernelspec": {
   "display_name": ".NET (F#)",
   "language": "F#",
   "name": ".net-fsharp"
  },
  "language_info": {
   "file_extension": ".fs",
   "mimetype": "text/x-fsharp",
   "name": "C#",
   "pygments_lexer": "fsharp",
   "version": "4.5"
  }
 },
 "nbformat": 4,
 "nbformat_minor": 5
}
