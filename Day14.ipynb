{
 "cells": [
  {
   "cell_type": "markdown",
   "id": "571255d2-7bab-457f-ae95-82559d01d0b0",
   "metadata": {},
   "source": [
    "<h2>--- Day 14: Extended Polymerization ---</h2>"
   ]
  },
  {
   "cell_type": "markdown",
   "id": "f7a3f76c-cab3-4f6f-a28b-13b69ccc798a",
   "metadata": {},
   "source": [
    "[![Binder](https://mybinder.org/badge_logo.svg)](https://mybinder.org/v2/gh/oddrationale/AdventOfCode2021FSharp/main?urlpath=lab%2Ftree%2FDay14.ipynb)"
   ]
  },
  {
   "cell_type": "markdown",
   "id": "73bcba6b",
   "metadata": {},
   "source": [
    "<p>The incredible pressures at this depth are starting to put a strain on your submarine. The submarine has <a href=\"https://en.wikipedia.org/wiki/Polymerization\" target=\"_blank\">polymerization</a> equipment that would produce suitable materials to reinforce the submarine, and the nearby volcanically-active caves should even have the necessary input elements in sufficient quantities.</p>\n",
    "<p>The submarine manual contains <span title=\"HO&#xa;&#xa;HO -&gt; OH\">instructions</span> for finding the optimal polymer formula; specifically, it offers a <em>polymer template</em> and a list of <em>pair insertion</em> rules (your puzzle input). You just need to work out what polymer would result after repeating the pair insertion process a few times.</p>\n",
    "<p>For example:</p>\n",
    "<pre><code>NNCB\n",
    "\n",
    "CH -&gt; B\n",
    "HH -&gt; N\n",
    "CB -&gt; H\n",
    "NH -&gt; C\n",
    "HB -&gt; C\n",
    "HC -&gt; B\n",
    "HN -&gt; C\n",
    "NN -&gt; C\n",
    "BH -&gt; H\n",
    "NC -&gt; B\n",
    "NB -&gt; B\n",
    "BN -&gt; B\n",
    "BB -&gt; N\n",
    "BC -&gt; B\n",
    "CC -&gt; N\n",
    "CN -&gt; C\n",
    "</code></pre>\n",
    "<p>The first line is the <em>polymer template</em> - this is the starting point of the process.</p>\n",
    "<p>The following section defines the <em>pair insertion</em> rules. A rule like <code>AB -&gt; C</code> means that when elements <code>A</code> and <code>B</code> are immediately adjacent, element <code>C</code> should be inserted between them. These insertions all happen simultaneously.</p>\n",
    "<p>So, starting with the polymer template <code>NNCB</code>, the first step simultaneously considers all three pairs:</p>\n",
    "<ul>\n",
    "<li>The first pair (<code>NN</code>) matches the rule <code>NN -&gt; C</code>, so element <code><em>C</em></code> is inserted between the first <code>N</code> and the second <code>N</code>.</li>\n",
    "<li>The second pair (<code>NC</code>) matches the rule <code>NC -&gt; B</code>, so element <code><em>B</em></code> is inserted between the <code>N</code> and the <code>C</code>.</li>\n",
    "<li>The third pair (<code>CB</code>) matches the rule <code>CB -&gt; H</code>, so element <code><em>H</em></code> is inserted between the <code>C</code> and the <code>B</code>.</li>\n",
    "</ul>\n",
    "<p>Note that these pairs overlap: the second element of one pair is the first element of the next pair. Also, because all pairs are considered simultaneously, inserted elements are not considered to be part of a pair until the next step.</p>\n",
    "<p>After the first step of this process, the polymer becomes <code>N<em>C</em>N<em>B</em>C<em>H</em>B</code>.</p>\n",
    "<p>Here are the results of a few steps using the above rules:</p>\n",
    "<pre><code>Template:     NNCB\n",
    "After step 1: NCNBCHB\n",
    "After step 2: NBCCNBBBCBHCB\n",
    "After step 3: NBBBCNCCNBBNBNBBCHBHHBCHB\n",
    "After step 4: NBBNBNBBCCNBCNCCNBBNBBNBBBNBBNBBCBHCBHHNHCBBCBHCB\n",
    "</code></pre>\n",
    "<p>This polymer grows quickly. After step 5, it has length 97; After step 10, it has length 3073. After step 10, <code>B</code> occurs 1749 times, <code>C</code> occurs 298 times, <code>H</code> occurs 191 times, and <code>N</code> occurs 865 times; taking the quantity of the most common element (<code>B</code>, 1749) and subtracting the quantity of the least common element (<code>H</code>, 161) produces <code>1749 - 161 = <em>1588</em></code>.</p>\n",
    "<p>Apply 10 steps of pair insertion to the polymer template and find the most and least common elements in the result. <em>What do you get if you take the quantity of the most common element and subtract the quantity of the least common element?</em></p>"
   ]
  },
  {
   "cell_type": "code",
   "execution_count": null,
   "id": "b3d2fe85",
   "metadata": {
    "dotnet_interactive": {
     "language": "fsharp"
    }
   },
   "outputs": [],
   "source": [
    "let input = File.ReadAllText(@\"input/14.txt\").Split(Environment.NewLine + Environment.NewLine)\n",
    "\n",
    "let template = input.[0]\n",
    "let insertionRules = \n",
    "    input.[1].Split(Environment.NewLine)\n",
    "    |> Seq.map (fun line -> line.Split(\" -> \"))\n",
    "    |> Seq.map (fun split -> (split.[0].[0], split.[0].[1]), split.[1] |> char)\n",
    "    |> Map\n",
    "\n",
    "let templateMap = \n",
    "    template\n",
    "    |> Seq.pairwise\n",
    "    |> Seq.countBy id\n",
    "    |> Seq.map (fun (key, count) -> key, bigint count)\n",
    "    |> Map"
   ]
  },
  {
   "cell_type": "code",
   "execution_count": null,
   "id": "7ab118cf",
   "metadata": {},
   "outputs": [],
   "source": [
    "let step insertionRules (templateMap: Map<char * char, bigint>) =\n",
    "    let expand (key, value) = \n",
    "        let insert = insertionRules |> Map.find key\n",
    "        [\n",
    "            (fst key, insert), value\n",
    "            (insert, snd key), value\n",
    "        ]\n",
    "    \n",
    "    templateMap\n",
    "    |> Map.toSeq\n",
    "    |> Seq.map expand\n",
    "    |> Seq.concat\n",
    "    |> Seq.groupBy (fun (key, count) -> key)\n",
    "    |> Seq.map (fun (key, counts) -> \n",
    "        key, \n",
    "        counts \n",
    "        |> Seq.map (fun (_, count) -> count)\n",
    "        |> Seq.sum)\n",
    "    |> Map\n"
   ]
  },
  {
   "cell_type": "code",
   "execution_count": null,
   "id": "a3dac856",
   "metadata": {},
   "outputs": [],
   "source": [
    "let rec steps insertionRules templateMap = \n",
    "    seq {\n",
    "        yield templateMap\n",
    "        yield! \n",
    "            templateMap\n",
    "            |> step insertionRules\n",
    "            |> steps insertionRules\n",
    "    }"
   ]
  },
  {
   "cell_type": "code",
   "execution_count": null,
   "id": "2060dd58",
   "metadata": {},
   "outputs": [],
   "source": [
    "let countsByChar lastChar (templateMap: Map<char * char, bigint>) = \n",
    "    templateMap\n",
    "    |> Map.toSeq\n",
    "    |> Seq.map (fun (key, count) -> fst key, count)\n",
    "    |> Seq.append [(lastChar, 1)]\n",
    "    |> Seq.groupBy (fun (key, count) -> key)\n",
    "    |> Seq.map (fun (key, counts) -> \n",
    "        key, \n",
    "        counts \n",
    "        |> Seq.map (fun (_, count) -> count)\n",
    "        |> Seq.sum)\n",
    "    |> Map"
   ]
  },
  {
   "cell_type": "code",
   "execution_count": null,
   "id": "7ed8394c",
   "metadata": {
    "dotnet_interactive": {
     "language": "fsharp"
    }
   },
   "outputs": [
    {
     "data": {
      "text/html": [
       "<div class=\"dni-plaintext\">2321</div>"
      ]
     },
     "metadata": {},
     "output_type": "display_data"
    },
    {
     "data": {
      "text/plain": [
       "Wall time: 36.7747ms"
      ]
     },
     "metadata": {},
     "output_type": "display_data"
    }
   ],
   "source": [
    "#!time\n",
    "templateMap\n",
    "|> steps insertionRules\n",
    "|> Seq.item 10\n",
    "|> countsByChar (template |> Seq.last)\n",
    "|> fun charCounts -> \n",
    "    charCounts\n",
    "    |> Map.values\n",
    "    |> Seq.min\n",
    "    |> (-) (charCounts\n",
    "        |> Map.values\n",
    "        |> Seq.max)"
   ]
  },
  {
   "cell_type": "markdown",
   "id": "845efdd9-7742-41e1-889d-dc706863d93d",
   "metadata": {},
   "source": [
    "<h2 id=\"part2\">--- Part Two ---</h2>"
   ]
  },
  {
   "cell_type": "markdown",
   "id": "d6207d17",
   "metadata": {},
   "source": [
    "<p>The resulting polymer isn't nearly strong enough to reinforce the submarine. You'll need to run more steps of the pair insertion process; a total of <em>40 steps</em> should do it.</p>\n",
    "<p>In the above example, the most common element is <code>B</code> (occurring <code>2192039569602</code> times) and the least common element is <code>H</code> (occurring <code>3849876073</code> times); subtracting these produces <code><em>2188189693529</em></code>.</p>\n",
    "<p>Apply <em>40</em> steps of pair insertion to the polymer template and find the most and least common elements in the result. <em>What do you get if you take the quantity of the most common element and subtract the quantity of the least common element?</em></p>"
   ]
  },
  {
   "cell_type": "code",
   "execution_count": null,
   "id": "c61ddf21",
   "metadata": {
    "dotnet_interactive": {
     "language": "fsharp"
    }
   },
   "outputs": [
    {
     "data": {
      "text/html": [
       "<div class=\"dni-plaintext\">2399822193707</div>"
      ]
     },
     "metadata": {},
     "output_type": "display_data"
    },
    {
     "data": {
      "text/plain": [
       "Wall time: 21.5825ms"
      ]
     },
     "metadata": {},
     "output_type": "display_data"
    }
   ],
   "source": [
    "#!time\n",
    "templateMap\n",
    "|> steps insertionRules\n",
    "|> Seq.item 40\n",
    "|> countsByChar (template |> Seq.last)\n",
    "|> fun charCounts -> \n",
    "    charCounts\n",
    "    |> Map.values\n",
    "    |> Seq.min\n",
    "    |> (-) (charCounts\n",
    "        |> Map.values\n",
    "        |> Seq.max)"
   ]
  },
  {
   "cell_type": "markdown",
   "id": "2cf45427-c80e-4427-963f-cef8340e03e7",
   "metadata": {},
   "source": [
    "[Prev](Day13.ipynb) | [Next](Day15.ipynb)"
   ]
  }
 ],
 "metadata": {
  "kernelspec": {
   "display_name": ".NET (F#)",
   "language": "F#",
   "name": ".net-fsharp"
  },
  "language_info": {
   "file_extension": ".fs",
   "mimetype": "text/x-fsharp",
   "name": "C#",
   "pygments_lexer": "fsharp",
   "version": "4.5"
  }
 },
 "nbformat": 4,
 "nbformat_minor": 5
}
