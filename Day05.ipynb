{
 "cells": [
  {
   "cell_type": "markdown",
   "id": "571255d2-7bab-457f-ae95-82559d01d0b0",
   "metadata": {},
   "source": [
    "<h2>--- Day 5: Hydrothermal Venture ---</h2>"
   ]
  },
  {
   "cell_type": "markdown",
   "id": "f7a3f76c-cab3-4f6f-a28b-13b69ccc798a",
   "metadata": {},
   "source": [
    "[![Binder](https://mybinder.org/badge_logo.svg)](https://mybinder.org/v2/gh/oddrationale/AdventOfCode2021FSharp/main?urlpath=lab%2Ftree%2FDay05.ipynb)"
   ]
  },
  {
   "cell_type": "markdown",
   "id": "73bcba6b",
   "metadata": {},
   "source": [
    "<p>You come across a field of <a href=\"https://en.wikipedia.org/wiki/Hydrothermal_vent\" target=\"_blank\">hydrothermal vents</a> on the ocean floor! These vents constantly produce large, opaque clouds, so it would be best to avoid them if possible.</p>\n",
    "<p>They tend to form in <em>lines</em>; the submarine helpfully produces a list of nearby <span title=\"Maybe they're Bresenham vents.\">lines of vents</span> (your puzzle input) for you to review. For example:</p>\n",
    "<pre><code>0,9 -&gt; 5,9\n",
    "8,0 -&gt; 0,8\n",
    "9,4 -&gt; 3,4\n",
    "2,2 -&gt; 2,1\n",
    "7,0 -&gt; 7,4\n",
    "6,4 -&gt; 2,0\n",
    "0,9 -&gt; 2,9\n",
    "3,4 -&gt; 1,4\n",
    "0,0 -&gt; 8,8\n",
    "5,5 -&gt; 8,2\n",
    "</code></pre>\n",
    "<p>Each line of vents is given as a line segment in the format <code>x1,y1 -&gt; x2,y2</code> where <code>x1</code>,<code>y1</code> are the coordinates of one end the line segment and <code>x2</code>,<code>y2</code> are the coordinates of the other end. These line segments include the points at both ends. In other words:</p>\n",
    "<ul>\n",
    "<li>An entry like <code>1,1 -&gt; 1,3</code> covers points <code>1,1</code>, <code>1,2</code>, and <code>1,3</code>.</li>\n",
    "<li>An entry like <code>9,7 -&gt; 7,7</code> covers points <code>9,7</code>, <code>8,7</code>, and <code>7,7</code>.</li>\n",
    "</ul>\n",
    "<p>For now, <em>only consider horizontal and vertical lines</em>: lines where either <code>x1 = x2</code> or <code>y1 = y2</code>.</p>\n",
    "<p>So, the horizontal and vertical lines from the above list would produce the following diagram:</p>\n",
    "<pre><code>.......1..\n",
    "..1....1..\n",
    "..1....1..\n",
    ".......1..\n",
    ".112111211\n",
    "..........\n",
    "..........\n",
    "..........\n",
    "..........\n",
    "222111....\n",
    "</code></pre>\n",
    "<p>In this diagram, the top left corner is <code>0,0</code> and the bottom right corner is <code>9,9</code>. Each position is shown as <em>the number of lines which cover that point</em> or <code>.</code> if no line covers that point. The top-left pair of <code>1</code>s, for example, comes from <code>2,2 -&gt; 2,1</code>; the very bottom row is formed by the overlapping lines <code>0,9 -&gt; 5,9</code> and <code>0,9 -&gt; 2,9</code>.</p>\n",
    "<p>To avoid the most dangerous areas, you need to determine <em>the number of points where at least two lines overlap</em>. In the above example, this is anywhere in the diagram with a <code>2</code> or larger - a total of <code><em>5</em></code> points.</p>\n",
    "<p>Consider only horizontal and vertical lines. <em>At how many points do at least two lines overlap?</em></p>"
   ]
  },
  {
   "cell_type": "code",
   "execution_count": null,
   "id": "b3d2fe85",
   "metadata": {
    "dotnet_interactive": {
     "language": "fsharp"
    }
   },
   "outputs": [],
   "source": [
    "let input = File.ReadAllLines @\"input/05.txt\""
   ]
  },
  {
   "cell_type": "code",
   "execution_count": null,
   "id": "ac8252f1",
   "metadata": {
    "dotnet_interactive": {
     "language": "fsharp"
    }
   },
   "outputs": [],
   "source": [
    "type Point = {\n",
    "    X: int\n",
    "    Y: int\n",
    "}"
   ]
  },
  {
   "cell_type": "code",
   "execution_count": null,
   "id": "4669fb70",
   "metadata": {
    "dotnet_interactive": {
     "language": "fsharp"
    }
   },
   "outputs": [],
   "source": [
    "let parse (line: string) = \n",
    "    let split = line.Split(\" -> \")\n",
    "    let pairA = split.[0].Split(\",\")\n",
    "    let pairB = split.[1].Split(\",\")\n",
    "    { X = int pairA.[0]; Y = int pairA.[1]},\n",
    "    { X = int pairB.[0]; Y = int pairB.[1]}"
   ]
  },
  {
   "cell_type": "code",
   "execution_count": null,
   "id": "0a17e2e1",
   "metadata": {
    "dotnet_interactive": {
     "language": "fsharp"
    }
   },
   "outputs": [],
   "source": [
    "let pointsBetween (pointA, pointB) =\n",
    "    let xs = \n",
    "        if pointA.X <= pointB.X then\n",
    "            [for x=pointA.X to pointB.X do x]\n",
    "        else\n",
    "            [for x=pointA.X downto pointB.X do x]\n",
    "    \n",
    "    let ys = \n",
    "        if pointA.Y <= pointB.Y then\n",
    "            [for y=pointA.Y to pointB.Y do y]\n",
    "        else\n",
    "            [for y=pointA.Y downto pointB.Y do y]\n",
    "    \n",
    "    if xs.Length = ys.Length then\n",
    "        List.zip xs ys // diagonal\n",
    "    else\n",
    "        List.allPairs xs ys // straight"
   ]
  },
  {
   "cell_type": "code",
   "execution_count": null,
   "id": "fa747f77",
   "metadata": {
    "dotnet_interactive": {
     "language": "fsharp"
    }
   },
   "outputs": [
    {
     "data": {
      "text/html": [
       "<div class=\"dni-plaintext\">8622</div>"
      ]
     },
     "metadata": {},
     "output_type": "display_data"
    },
    {
     "data": {
      "text/plain": [
       "Wall time: 87.1756ms"
      ]
     },
     "metadata": {},
     "output_type": "display_data"
    }
   ],
   "source": [
    "#!time\n",
    "input\n",
    "|> Seq.map parse\n",
    "|> Seq.filter (fun (pointA, pointB) -> pointA.X = pointB.X || pointA.Y = pointB.Y)\n",
    "|> Seq.map pointsBetween\n",
    "|> Seq.collect id\n",
    "|> Seq.countBy id\n",
    "|> Seq.filter (fun (_, count) -> count > 1)\n",
    "|> Seq.length"
   ]
  },
  {
   "cell_type": "markdown",
   "id": "845efdd9-7742-41e1-889d-dc706863d93d",
   "metadata": {},
   "source": [
    "<h2 id=\"part2\">--- Part Two ---</h2>"
   ]
  },
  {
   "cell_type": "markdown",
   "id": "d6207d17",
   "metadata": {},
   "source": [
    "<p>Unfortunately, considering only horizontal and vertical lines doesn't give you the full picture; you need to also consider <em>diagonal lines</em>.</p>\n",
    "<p>Because of the limits of the hydrothermal vent mapping system, the lines in your list will only ever be horizontal, vertical, or a diagonal line at exactly 45 degrees. In other words:</p>\n",
    "<ul>\n",
    "<li>An entry like <code>1,1 -&gt; 3,3</code> covers points <code>1,1</code>, <code>2,2</code>, and <code>3,3</code>.</li>\n",
    "<li>An entry like <code>9,7 -&gt; 7,9</code> covers points <code>9,7</code>, <code>8,8</code>, and <code>7,9</code>.</li>\n",
    "</ul>\n",
    "<p>Considering all lines from the above example would now produce the following diagram:</p>\n",
    "<pre><code>1.1....11.\n",
    ".111...2..\n",
    "..2.1.111.\n",
    "...1.2.2..\n",
    ".112313211\n",
    "...1.2....\n",
    "..1...1...\n",
    ".1.....1..\n",
    "1.......1.\n",
    "222111....\n",
    "</code></pre>\n",
    "<p>You still need to determine <em>the number of points where at least two lines overlap</em>. In the above example, this is still anywhere in the diagram with a <code>2</code> or larger - now a total of <code><em>12</em></code> points.</p>\n",
    "<p>Consider all of the lines. <em>At how many points do at least two lines overlap?</em></p>"
   ]
  },
  {
   "cell_type": "code",
   "execution_count": null,
   "id": "c61ddf21",
   "metadata": {
    "dotnet_interactive": {
     "language": "fsharp"
    }
   },
   "outputs": [
    {
     "data": {
      "text/html": [
       "<div class=\"dni-plaintext\">22037</div>"
      ]
     },
     "metadata": {},
     "output_type": "display_data"
    },
    {
     "data": {
      "text/plain": [
       "Wall time: 189.9675ms"
      ]
     },
     "metadata": {},
     "output_type": "display_data"
    }
   ],
   "source": [
    "#!time\n",
    "input\n",
    "|> Seq.map parse\n",
    "|> Seq.map pointsBetween\n",
    "|> Seq.collect id\n",
    "|> Seq.countBy id\n",
    "|> Seq.filter (fun (_, count) -> count > 1)\n",
    "|> Seq.length"
   ]
  },
  {
   "cell_type": "markdown",
   "id": "2cf45427-c80e-4427-963f-cef8340e03e7",
   "metadata": {},
   "source": [
    "[Prev](Day04.ipynb) | [Next](Day06.ipynb)"
   ]
  }
 ],
 "metadata": {
  "kernelspec": {
   "display_name": ".NET (F#)",
   "language": "F#",
   "name": ".net-fsharp"
  },
  "language_info": {
   "file_extension": ".fs",
   "mimetype": "text/x-fsharp",
   "name": "C#",
   "pygments_lexer": "fsharp",
   "version": "4.5"
  }
 },
 "nbformat": 4,
 "nbformat_minor": 5
}
