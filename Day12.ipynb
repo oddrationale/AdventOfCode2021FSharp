{
 "cells": [
  {
   "cell_type": "markdown",
   "id": "571255d2-7bab-457f-ae95-82559d01d0b0",
   "metadata": {},
   "source": [
    "<h2>--- Day 12: Passage Pathing ---</h2>"
   ]
  },
  {
   "cell_type": "markdown",
   "id": "f7a3f76c-cab3-4f6f-a28b-13b69ccc798a",
   "metadata": {},
   "source": [
    "[![Binder](https://mybinder.org/badge_logo.svg)](https://mybinder.org/v2/gh/oddrationale/AdventOfCode2021FSharp/main?urlpath=lab%2Ftree%2FDay12.ipynb)"
   ]
  },
  {
   "cell_type": "markdown",
   "id": "73bcba6b",
   "metadata": {},
   "source": [
    "<p>With your <span title=\"Sublime.\">submarine's subterranean subsystems subsisting suboptimally</span>, the only way you're getting out of this cave anytime soon is by finding a path yourself. Not just <em>a</em> path - the only way to know if you've found the <em>best</em> path is to find <em>all</em> of them.</p>\n",
    "<p>Fortunately, the sensors are still mostly working, and so you build a rough map of the remaining caves (your puzzle input). For example:</p>\n",
    "<pre><code>start-A\n",
    "start-b\n",
    "A-c\n",
    "A-b\n",
    "b-d\n",
    "A-end\n",
    "b-end\n",
    "</code></pre>\n",
    "<p>This is a list of how all of the caves are connected. You start in the cave named <code>start</code>, and your destination is the cave named <code>end</code>. An entry like <code>b-d</code> means that cave <code>b</code> is connected to cave <code>d</code> - that is, you can move between them.</p>\n",
    "<p>So, the above cave system looks roughly like this:</p>\n",
    "<pre><code>    start\n",
    "    /   \\\n",
    "c--A-----b--d\n",
    "    \\   /\n",
    "     end\n",
    "</code></pre>\n",
    "<p>Your goal is to find the number of distinct <em>paths</em> that start at <code>start</code>, end at <code>end</code>, and don't visit small caves more than once. There are two types of caves: <em>big</em> caves (written in uppercase, like <code>A</code>) and <em>small</em> caves (written in lowercase, like <code>b</code>). It would be a waste of time to visit any small cave more than once, but big caves are large enough that it might be worth visiting them multiple times. So, all paths you find should <em>visit small caves at most once</em>, and can <em>visit big caves any number of times</em>.</p>\n",
    "<p>Given these rules, there are <code><em>10</em></code> paths through this example cave system:</p>\n",
    "<pre><code>start,A,b,A,c,A,end\n",
    "start,A,b,A,end\n",
    "start,A,b,end\n",
    "start,A,c,A,b,A,end\n",
    "start,A,c,A,b,end\n",
    "start,A,c,A,end\n",
    "start,A,end\n",
    "start,b,A,c,A,end\n",
    "start,b,A,end\n",
    "start,b,end\n",
    "</code></pre>\n",
    "<p>(Each line in the above list corresponds to a single path; the caves visited by that path are listed in the order they are visited and separated by commas.)</p>\n",
    "<p>Note that in this cave system, cave <code>d</code> is never visited by any path: to do so, cave <code>b</code> would need to be visited twice (once on the way to cave <code>d</code> and a second time when returning from cave <code>d</code>), and since cave <code>b</code> is small, this is not allowed.</p>\n",
    "<p>Here is a slightly larger example:</p>\n",
    "<pre><code>dc-end\n",
    "HN-start\n",
    "start-kj\n",
    "dc-start\n",
    "dc-HN\n",
    "LN-dc\n",
    "HN-end\n",
    "kj-sa\n",
    "kj-HN\n",
    "kj-dc\n",
    "</code></pre>\n",
    "<p>The <code>19</code> paths through it are as follows:</p>\n",
    "<pre><code>start,HN,dc,HN,end\n",
    "start,HN,dc,HN,kj,HN,end\n",
    "start,HN,dc,end\n",
    "start,HN,dc,kj,HN,end\n",
    "start,HN,end\n",
    "start,HN,kj,HN,dc,HN,end\n",
    "start,HN,kj,HN,dc,end\n",
    "start,HN,kj,HN,end\n",
    "start,HN,kj,dc,HN,end\n",
    "start,HN,kj,dc,end\n",
    "start,dc,HN,end\n",
    "start,dc,HN,kj,HN,end\n",
    "start,dc,end\n",
    "start,dc,kj,HN,end\n",
    "start,kj,HN,dc,HN,end\n",
    "start,kj,HN,dc,end\n",
    "start,kj,HN,end\n",
    "start,kj,dc,HN,end\n",
    "start,kj,dc,end\n",
    "</code></pre>\n",
    "<p>Finally, this even larger example has <code>226</code> paths through it:</p>\n",
    "<pre><code>fs-end\n",
    "he-DX\n",
    "fs-he\n",
    "start-DX\n",
    "pj-DX\n",
    "end-zg\n",
    "zg-sl\n",
    "zg-pj\n",
    "pj-he\n",
    "RW-he\n",
    "fs-DX\n",
    "pj-RW\n",
    "zg-RW\n",
    "start-pj\n",
    "he-WI\n",
    "zg-he\n",
    "pj-fs\n",
    "start-RW\n",
    "</code></pre>\n",
    "<p><em>How many paths through this cave system are there that visit small caves at most once?</em></p>"
   ]
  },
  {
   "cell_type": "code",
   "execution_count": null,
   "id": "b3d2fe85",
   "metadata": {
    "dotnet_interactive": {
     "language": "fsharp"
    }
   },
   "outputs": [],
   "source": [
    "let input = File.ReadAllLines @\"input/12.txt\""
   ]
  },
  {
   "cell_type": "code",
   "execution_count": null,
   "id": "3da9dd52",
   "metadata": {
    "dotnet_interactive": {
     "language": "fsharp"
    }
   },
   "outputs": [],
   "source": [
    "let adjacencyList (input: string array) = \n",
    "    let split = \n",
    "        input\n",
    "        |> Seq.map (fun line -> line.Split(\"-\"))\n",
    "        |> List.ofSeq\n",
    "\n",
    "    let adjacent node =\n",
    "        split\n",
    "        |> Seq.filter (fun split -> split.[0] = node || split.[1] = node)\n",
    "        |> Seq.collect id\n",
    "        |> Seq.except [node]\n",
    "        |> List.ofSeq\n",
    "    \n",
    "    split\n",
    "    |> Seq.collect id\n",
    "    |> Seq.distinct\n",
    "    |> Seq.map (fun key -> key, adjacent key)\n",
    "    |> Map"
   ]
  },
  {
   "cell_type": "code",
   "execution_count": null,
   "id": "a9b66563",
   "metadata": {
    "dotnet_interactive": {
     "language": "fsharp"
    }
   },
   "outputs": [],
   "source": [
    "let findPaths startNode endNode (adjacencyList: Map<string,list<string>>) = \n",
    "    let isLower (str: string) = str.[0] |> Char.IsLower\n",
    "\n",
    "    let branches path = \n",
    "        adjacencyList\n",
    "        |> Map.find (path |> List.last)\n",
    "        |> List.filter (fun next ->\n",
    "            match next with\n",
    "            | \"start\" -> false\n",
    "            | node when next |> isLower -> \n",
    "                path |> List.contains node |> not\n",
    "            | _ -> true)\n",
    "        |> List.map (fun next -> List.append path [next])\n",
    "\n",
    "    let rec loop paths =\n",
    "        let completedPaths = \n",
    "            paths\n",
    "            |> List.filter (fun path -> path |> List.last |> (=) endNode)\n",
    "        \n",
    "        let incompletePaths =\n",
    "            paths\n",
    "            |> List.filter (fun path -> path |> List.last |> (=) endNode |> not)\n",
    "        \n",
    "        if incompletePaths |> List.isEmpty then\n",
    "            completedPaths\n",
    "        else\n",
    "            incompletePaths\n",
    "            |> List.map (fun path -> path |> branches)\n",
    "            |> List.concat\n",
    "            |> List.append completedPaths\n",
    "            |> loop\n",
    "    \n",
    "    loop [[startNode]]"
   ]
  },
  {
   "cell_type": "code",
   "execution_count": null,
   "id": "645cb286",
   "metadata": {
    "dotnet_interactive": {
     "language": "fsharp"
    }
   },
   "outputs": [
    {
     "data": {
      "text/html": [
       "<div class=\"dni-plaintext\">5576</div>"
      ]
     },
     "metadata": {},
     "output_type": "display_data"
    },
    {
     "data": {
      "text/plain": [
       "Wall time: 22.1778ms"
      ]
     },
     "metadata": {},
     "output_type": "display_data"
    }
   ],
   "source": [
    "#!time\n",
    "input\n",
    "|> adjacencyList\n",
    "|> findPaths \"start\" \"end\"\n",
    "|> List.length"
   ]
  },
  {
   "cell_type": "markdown",
   "id": "845efdd9-7742-41e1-889d-dc706863d93d",
   "metadata": {},
   "source": [
    "<h2 id=\"part2\">--- Part Two ---</h2>"
   ]
  },
  {
   "cell_type": "markdown",
   "id": "d6207d17",
   "metadata": {},
   "source": [
    "<p>After reviewing the available paths, you realize you might have time to visit a single small cave <em>twice</em>. Specifically, big caves can be visited any number of times, a single small cave can be visited at most twice, and the remaining small caves can be visited at most once. However, the caves named <code>start</code> and <code>end</code> can only be visited <em>exactly once each</em>: once you leave the <code>start</code> cave, you may not return to it, and once you reach the <code>end</code> cave, the path must end immediately.</p>\n",
    "<p>Now, the <code>36</code> possible paths through the first example above are:</p>\n",
    "<pre><code>start,A,b,A,b,A,c,A,end\n",
    "start,A,b,A,b,A,end\n",
    "start,A,b,A,b,end\n",
    "start,A,b,A,c,A,b,A,end\n",
    "start,A,b,A,c,A,b,end\n",
    "start,A,b,A,c,A,c,A,end\n",
    "start,A,b,A,c,A,end\n",
    "start,A,b,A,end\n",
    "start,A,b,d,b,A,c,A,end\n",
    "start,A,b,d,b,A,end\n",
    "start,A,b,d,b,end\n",
    "start,A,b,end\n",
    "start,A,c,A,b,A,b,A,end\n",
    "start,A,c,A,b,A,b,end\n",
    "start,A,c,A,b,A,c,A,end\n",
    "start,A,c,A,b,A,end\n",
    "start,A,c,A,b,d,b,A,end\n",
    "start,A,c,A,b,d,b,end\n",
    "start,A,c,A,b,end\n",
    "start,A,c,A,c,A,b,A,end\n",
    "start,A,c,A,c,A,b,end\n",
    "start,A,c,A,c,A,end\n",
    "start,A,c,A,end\n",
    "start,A,end\n",
    "start,b,A,b,A,c,A,end\n",
    "start,b,A,b,A,end\n",
    "start,b,A,b,end\n",
    "start,b,A,c,A,b,A,end\n",
    "start,b,A,c,A,b,end\n",
    "start,b,A,c,A,c,A,end\n",
    "start,b,A,c,A,end\n",
    "start,b,A,end\n",
    "start,b,d,b,A,c,A,end\n",
    "start,b,d,b,A,end\n",
    "start,b,d,b,end\n",
    "start,b,end\n",
    "</code></pre>\n",
    "<p>The slightly larger example above now has <code>103</code> paths through it, and the even larger example now has <code>3509</code> paths through it.</p>\n",
    "<p>Given these new rules, <em>how many paths through this cave system are there?</em></p>"
   ]
  },
  {
   "cell_type": "code",
   "execution_count": null,
   "id": "7b405106",
   "metadata": {
    "dotnet_interactive": {
     "language": "fsharp"
    }
   },
   "outputs": [],
   "source": [
    "let input = \n",
    "    \"\"\"start-A\n",
    "start-b\n",
    "A-c\n",
    "A-b\n",
    "b-d\n",
    "A-end\n",
    "b-end\"\"\".Split(Environment.NewLine)"
   ]
  },
  {
   "cell_type": "code",
   "execution_count": null,
   "id": "c61ddf21",
   "metadata": {
    "dotnet_interactive": {
     "language": "fsharp"
    }
   },
   "outputs": [],
   "source": [
    "let findPaths' startNode endNode (adjacencyList: Map<string,list<string>>) = \n",
    "    let isLower (str: string) = str.[0] |> Char.IsLower\n",
    "\n",
    "    let branches path = \n",
    "        adjacencyList\n",
    "        |> Map.find (path |> List.last)\n",
    "        |> List.filter (fun next ->\n",
    "            match next with\n",
    "            | \"start\" -> false\n",
    "            | \"end\" -> true\n",
    "            | node when node |> isLower -> \n",
    "                path\n",
    "                |> List.filter isLower\n",
    "                |> List.append [node]\n",
    "                |> List.countBy id\n",
    "                |> List.map (fun (_, count) -> count)\n",
    "                |> fun counts ->\n",
    "                    match counts with\n",
    "                    | counts when counts |> List.exists (fun c -> c > 2) -> false\n",
    "                    | counts when counts |> List.filter (fun c -> c = 2) |> List.length |> (fun len -> len > 1) -> false\n",
    "                    | _ -> true\n",
    "            | _ -> true)\n",
    "        |> List.map (fun next -> List.append path [next])\n",
    "\n",
    "    let rec loop paths =\n",
    "        let completedPaths = \n",
    "            paths\n",
    "            |> List.filter (fun path -> path |> List.last |> (=) endNode)\n",
    "        \n",
    "        let incompletePaths =\n",
    "            paths\n",
    "            |> List.filter (fun path -> path |> List.last |> (=) endNode |> not)\n",
    "        \n",
    "        if incompletePaths |> List.isEmpty then\n",
    "            completedPaths\n",
    "        else\n",
    "            incompletePaths\n",
    "            |> List.map (fun path -> path |> branches)\n",
    "            |> List.concat\n",
    "            |> List.append completedPaths\n",
    "            |> loop\n",
    "    \n",
    "    loop [[startNode]]"
   ]
  },
  {
   "cell_type": "markdown",
   "id": "bb5a6f30",
   "metadata": {},
   "source": [
    "Slow but works."
   ]
  },
  {
   "cell_type": "code",
   "execution_count": null,
   "id": "bbac1088",
   "metadata": {
    "dotnet_interactive": {
     "language": "fsharp"
    }
   },
   "outputs": [
    {
     "data": {
      "text/html": [
       "<div class=\"dni-plaintext\">152837</div>"
      ]
     },
     "metadata": {},
     "output_type": "display_data"
    },
    {
     "data": {
      "text/plain": [
       "Wall time: 2091.8794ms"
      ]
     },
     "metadata": {},
     "output_type": "display_data"
    }
   ],
   "source": [
    "#!time\n",
    "input\n",
    "|> adjacencyList\n",
    "|> findPaths' \"start\" \"end\"\n",
    "|> List.length"
   ]
  },
  {
   "cell_type": "markdown",
   "id": "2cf45427-c80e-4427-963f-cef8340e03e7",
   "metadata": {},
   "source": [
    "[Prev](Day11.ipynb) | [Next](Day13.ipynb)"
   ]
  }
 ],
 "metadata": {
  "kernelspec": {
   "display_name": ".NET (F#)",
   "language": "F#",
   "name": ".net-fsharp"
  },
  "language_info": {
   "file_extension": ".fs",
   "mimetype": "text/x-fsharp",
   "name": "C#",
   "pygments_lexer": "fsharp",
   "version": "4.5"
  }
 },
 "nbformat": 4,
 "nbformat_minor": 5
}
