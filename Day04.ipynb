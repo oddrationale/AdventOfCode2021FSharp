{
 "cells": [
  {
   "cell_type": "markdown",
   "id": "571255d2-7bab-457f-ae95-82559d01d0b0",
   "metadata": {},
   "source": [
    "<h2>--- Day 4: Giant Squid ---</h2>"
   ]
  },
  {
   "cell_type": "markdown",
   "id": "f7a3f76c-cab3-4f6f-a28b-13b69ccc798a",
   "metadata": {},
   "source": [
    "[![Binder](https://mybinder.org/badge_logo.svg)](https://mybinder.org/v2/gh/oddrationale/AdventOfCode2021FSharp/main?urlpath=lab%2Ftree%2FDay04.ipynb)"
   ]
  },
  {
   "cell_type": "markdown",
   "id": "73bcba6b",
   "metadata": {},
   "source": [
    "<p>You're already almost 1.5km (almost a mile) below the surface of the ocean, already so deep that you can't see any sunlight. What you <em>can</em> see, however, is a giant squid that has attached itself to the outside of your submarine.</p>\n",
    "<p>Maybe it wants to play <a href=\"https://en.wikipedia.org/wiki/Bingo_(American_version)\" target=\"_blank\">bingo</a>?</p>\n",
    "<p>Bingo is played on a set of boards each consisting of a 5x5 grid of numbers. Numbers are chosen at random, and the chosen number is <em>marked</em> on all boards on which it appears. (Numbers may not appear on all boards.) If all numbers in any row or any column of a board are marked, that board <em>wins</em>. (Diagonals don't count.)</p>\n",
    "<p>The submarine has a <em>bingo subsystem</em> to help passengers (currently, you and the giant squid) pass the time. It automatically generates a random order in which to draw numbers and a random set of boards (your puzzle input). For example:</p>\n",
    "<pre><code>7,4,9,5,11,17,23,2,0,14,21,24,10,16,13,6,15,25,12,22,18,20,8,19,3,26,1\n",
    "\n",
    "22 13 17 11  0\n",
    " 8  2 23  4 24\n",
    "21  9 14 16  7\n",
    " 6 10  3 18  5\n",
    " 1 12 20 15 19\n",
    "\n",
    " 3 15  0  2 22\n",
    " 9 18 13 17  5\n",
    "19  8  7 25 23\n",
    "20 11 10 24  4\n",
    "14 21 16 12  6\n",
    "\n",
    "14 21 17 24  4\n",
    "10 16 15  9 19\n",
    "18  8 23 26 20\n",
    "22 11 13  6  5\n",
    " 2  0 12  3  7\n",
    "</code></pre>\n",
    "<p>After the first five numbers are drawn (<code>7</code>, <code>4</code>, <code>9</code>, <code>5</code>, and <code>11</code>), there are no winners, but the boards are marked as follows (shown here adjacent to each other to save space):</p>\n",
    "<pre><code>22 13 17 <em>11</em>  0         3 15  0  2 22        14 21 17 24  <em>4</em>\n",
    " 8  2 23  <em>4</em> 24         <em>9</em> 18 13 17  <em>5</em>        10 16 15  <em>9</em> 19\n",
    "21  <em>9</em> 14 16  <em>7</em>        19  8  <em>7</em> 25 23        18  8 23 26 20\n",
    " 6 10  3 18  <em>5</em>        20 <em>11</em> 10 24  <em>4</em>        22 <em>11</em> 13  6  <em>5</em>\n",
    " 1 12 20 15 19        14 21 16 12  6         2  0 12  3  <em>7</em>\n",
    "</code></pre>\n",
    "<p>After the next six numbers are drawn (<code>17</code>, <code>23</code>, <code>2</code>, <code>0</code>, <code>14</code>, and <code>21</code>), there are still no winners:</p>\n",
    "<pre><code>22 13 <em>17</em> <em>11</em>  <em>0</em>         3 15  <em>0</em>  <em>2</em> 22        <em>14</em> <em>21</em> <em>17</em> 24  <em>4</em>\n",
    " 8  <em>2</em> <em>23</em>  <em>4</em> 24         <em>9</em> 18 13 <em>17</em>  <em>5</em>        10 16 15  <em>9</em> 19\n",
    "<em>21</em>  <em>9</em> <em>14</em> 16  <em>7</em>        19  8  <em>7</em> 25 <em>23</em>        18  8 <em>23</em> 26 20\n",
    " 6 10  3 18  <em>5</em>        20 <em>11</em> 10 24  <em>4</em>        22 <em>11</em> 13  6  <em>5</em>\n",
    " 1 12 20 15 19        <em>14</em> <em>21</em> 16 12  6         <em>2</em>  <em>0</em> 12  3  <em>7</em>\n",
    "</code></pre>\n",
    "<p>Finally, <code>24</code> is drawn:</p>\n",
    "<pre><code>22 13 <em>17</em> <em>11</em>  <em>0</em>         3 15  <em>0</em>  <em>2</em> 22        <em>14</em> <em>21</em> <em>17</em> <em>24</em>  <em>4</em>\n",
    " 8  <em>2</em> <em>23</em>  <em>4</em> <em>24</em>         <em>9</em> 18 13 <em>17</em>  <em>5</em>        10 16 15  <em>9</em> 19\n",
    "<em>21</em>  <em>9</em> <em>14</em> 16  <em>7</em>        19  8  <em>7</em> 25 <em>23</em>        18  8 <em>23</em> 26 20\n",
    " 6 10  3 18  <em>5</em>        20 <em>11</em> 10 <em>24</em>  <em>4</em>        22 <em>11</em> 13  6  <em>5</em>\n",
    " 1 12 20 15 19        <em>14</em> <em>21</em> 16 12  6         <em>2</em>  <em>0</em> 12  3  <em>7</em>\n",
    "</code></pre>\n",
    "<p>At this point, the third board <em>wins</em> because it has at least one complete row or column of marked numbers (in this case, the entire top row is marked: <code><em>14 21 17 24  4</em></code>).</p>\n",
    "<p>The <em>score</em> of the winning board can now be calculated. Start by finding the <em>sum of all unmarked numbers</em> on that board; in this case, the sum is <code>188</code>. Then, multiply that sum by <em>the number that was just called</em> when the board won, <code>24</code>, to get the final score, <code>188 * 24 = <em>4512</em></code>.</p>\n",
    "<p>To guarantee victory against the giant squid, figure out which board will win first. <em>What will your final score be if you choose that board?</em></p>"
   ]
  },
  {
   "cell_type": "code",
   "execution_count": null,
   "id": "b3d2fe85",
   "metadata": {
    "dotnet_interactive": {
     "language": "fsharp"
    }
   },
   "outputs": [],
   "source": [
    "let input = File.ReadAllText(@\"input/04.txt\").Split(Environment.NewLine + Environment.NewLine)"
   ]
  },
  {
   "cell_type": "code",
   "execution_count": null,
   "id": "c779c5f4",
   "metadata": {
    "dotnet_interactive": {
     "language": "fsharp"
    }
   },
   "outputs": [],
   "source": [
    "type Square = \n",
    "    | Unmarked of int\n",
    "    | Marked of int"
   ]
  },
  {
   "cell_type": "code",
   "execution_count": null,
   "id": "416bafd6",
   "metadata": {
    "dotnet_interactive": {
     "language": "fsharp"
    }
   },
   "outputs": [],
   "source": [
    "type Board = {\n",
    "        Squares: Square array array\n",
    "}"
   ]
  },
  {
   "cell_type": "code",
   "execution_count": null,
   "id": "3713b3e2",
   "metadata": {
    "dotnet_interactive": {
     "language": "fsharp"
    }
   },
   "outputs": [],
   "source": [
    "let parse (input: string) = \n",
    "    {\n",
    "        Squares = \n",
    "            input.Split Environment.NewLine\n",
    "            |> Array.map (fun line -> \n",
    "                line.Split(\" \", StringSplitOptions.RemoveEmptyEntries + StringSplitOptions.TrimEntries) \n",
    "                |> Array.map (fun i -> i |> int |> Unmarked))\n",
    "    }"
   ]
  },
  {
   "cell_type": "code",
   "execution_count": null,
   "id": "fe356b66",
   "metadata": {
    "dotnet_interactive": {
     "language": "fsharp"
    }
   },
   "outputs": [],
   "source": [
    "let mark number board =\n",
    "    {\n",
    "        Squares = [|\n",
    "            for row in board.Squares do [|\n",
    "                for square in row do\n",
    "                match square with\n",
    "                | Unmarked i when i = number -> Marked i\n",
    "                | _ -> square\n",
    "            |]\n",
    "        |]\n",
    "    }"
   ]
  },
  {
   "cell_type": "code",
   "execution_count": null,
   "id": "e2b951de",
   "metadata": {
    "dotnet_interactive": {
     "language": "fsharp"
    }
   },
   "outputs": [],
   "source": [
    "let isWon board = \n",
    "    let check squares =\n",
    "        squares\n",
    "        |> Array.exists (fun row -> \n",
    "            row \n",
    "            |> Array.forall (fun square -> \n",
    "                match square with\n",
    "                | Unmarked i -> false\n",
    "                | Marked i -> true ))\n",
    "    (board.Squares |> check) || (board.Squares |> Array.transpose |> check)"
   ]
  },
  {
   "cell_type": "code",
   "execution_count": null,
   "id": "e4c921ed",
   "metadata": {
    "dotnet_interactive": {
     "language": "fsharp"
    }
   },
   "outputs": [],
   "source": [
    "let score number board = \n",
    "    if isWon board then\n",
    "        board.Squares\n",
    "        |> Seq.collect id\n",
    "        |> Seq.filter (fun square -> \n",
    "            match square with \n",
    "            | Unmarked i -> true\n",
    "            | Marked i -> false)\n",
    "        |> Seq.map (fun square ->\n",
    "            match square with\n",
    "            | Unmarked i -> i\n",
    "            | Marked i -> i)\n",
    "        |> Seq.sum\n",
    "        |> fun sum -> sum * number\n",
    "    else \n",
    "        0"
   ]
  },
  {
   "cell_type": "code",
   "execution_count": null,
   "id": "c1638f64",
   "metadata": {
    "dotnet_interactive": {
     "language": "fsharp"
    }
   },
   "outputs": [
    {
     "data": {
      "text/html": [
       "<div class=\"dni-plaintext\">89001</div>"
      ]
     },
     "metadata": {},
     "output_type": "display_data"
    },
    {
     "data": {
      "text/plain": [
       "Wall time: 92.4542ms"
      ]
     },
     "metadata": {},
     "output_type": "display_data"
    }
   ],
   "source": [
    "#!time\n",
    "let numbers = input.[0].Split(\",\") |> Array.map int\n",
    "\n",
    "let boards = \n",
    "    input.[1..]\n",
    "    |> Array.map parse\n",
    "\n",
    "numbers\n",
    "|> Seq.scan (fun (boards, lastNumber) number -> // For each number, create a list of board with that number marked.\n",
    "    boards \n",
    "    |> Seq.map (fun board -> mark number board), Some number) (boards, None)\n",
    "|> Seq.map (fun (boards, lastNumber) -> // Associate the lastNumber with the corresponding board before flattening\n",
    "    boards \n",
    "    |> Seq.map (fun board -> board, lastNumber))\n",
    "|> Seq.collect id // Flatten\n",
    "|> Seq.map (fun (board, lastNumber) -> // Add in whether each board has won\n",
    "    board, isWon board, lastNumber)\n",
    "|> Seq.find (fun (_, won, _) -> won) // Find the first winning board\n",
    "|> fun (board, _, lastNumber) -> // Calculate score\n",
    "    score lastNumber.Value board"
   ]
  },
  {
   "cell_type": "markdown",
   "id": "845efdd9-7742-41e1-889d-dc706863d93d",
   "metadata": {},
   "source": [
    "<h2 id=\"part2\">--- Part Two ---</h2>"
   ]
  },
  {
   "cell_type": "markdown",
   "id": "d6207d17",
   "metadata": {},
   "source": [
    "<p>On the other hand, it might be wise to try a different strategy: <span title=\"That's 'cuz a submarine don't pull things' antennas out of their sockets when they lose. Giant squid are known to do that.\">let the giant squid win</span>.</p>\n",
    "<p>You aren't sure how many bingo boards a giant squid could play at once, so rather than waste time counting its arms, the safe thing to do is to <em>figure out which board will win last</em> and choose that one. That way, no matter which boards it picks, it will win for sure.</p>\n",
    "<p>In the above example, the second board is the last to win, which happens after <code>13</code> is eventually called and its middle column is completely marked. If you were to keep playing until this point, the second board would have a sum of unmarked numbers equal to <code>148</code> for a final score of <code>148 * 13 = <em>1924</em></code>.</p>\n",
    "<p>Figure out which board will win last. <em>Once it wins, what would its final score be?</em></p>"
   ]
  },
  {
   "cell_type": "code",
   "execution_count": null,
   "id": "c61ddf21",
   "metadata": {
    "dotnet_interactive": {
     "language": "fsharp"
    }
   },
   "outputs": [
    {
     "data": {
      "text/html": [
       "<div class=\"dni-plaintext\">7296</div>"
      ]
     },
     "metadata": {},
     "output_type": "display_data"
    },
    {
     "data": {
      "text/plain": [
       "Wall time: 158.4353ms"
      ]
     },
     "metadata": {},
     "output_type": "display_data"
    }
   ],
   "source": [
    "#!time\n",
    "numbers\n",
    "|> Seq.scan (fun (boards, lastNumber) number -> // For each number, create a list of board with that number marked.\n",
    "    boards \n",
    "    |> Seq.map (fun board -> mark number board), Some number) (boards, None)\n",
    "|> Seq.map (fun (boards, lastNumber) -> // Associate whether each board is won\n",
    "    boards \n",
    "    |> Seq.map (fun board -> board, lastNumber, isWon board))\n",
    "|> Seq.windowed 2 // Setup the comparison of each board with the prev board state\n",
    "|> Seq.map (fun pair -> \n",
    "    Seq.zip pair.[0] pair.[1] // Pair up each board with the prev state\n",
    "    |> Seq.map (fun ((_, _, prevWon), (board, lastNumber, currWon)) -> // Now we know the board, the last number called, whether it is winning, and whether it was previously winning.\n",
    "        board, lastNumber, currWon, prevWon))\n",
    "|> Seq.find (fun boards -> // Find the first state where all the boards are winning.\n",
    "    boards \n",
    "    |> Seq.forall (fun (_, _, won, _) -> won))\n",
    "|> Seq.find (fun (board, lastNumber, currWon, prevWon) -> not prevWon) // The last winning board is the one that was not previously winning.\n",
    "|> fun (board, lastNumber, _, _) -> // Calculate score.\n",
    "    score lastNumber.Value board"
   ]
  },
  {
   "cell_type": "markdown",
   "id": "2cf45427-c80e-4427-963f-cef8340e03e7",
   "metadata": {},
   "source": [
    "[Prev](Day03.ipynb) | [Next](Day05.ipynb)"
   ]
  }
 ],
 "metadata": {
  "kernelspec": {
   "display_name": ".NET (F#)",
   "language": "F#",
   "name": ".net-fsharp"
  },
  "language_info": {
   "file_extension": ".fs",
   "mimetype": "text/x-fsharp",
   "name": "C#",
   "pygments_lexer": "fsharp",
   "version": "4.5"
  }
 },
 "nbformat": 4,
 "nbformat_minor": 5
}
