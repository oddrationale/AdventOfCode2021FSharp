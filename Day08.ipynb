{
 "cells": [
  {
   "cell_type": "markdown",
   "id": "571255d2-7bab-457f-ae95-82559d01d0b0",
   "metadata": {},
   "source": [
    "<h2>--- Day 8: Seven Segment Search ---</h2>"
   ]
  },
  {
   "cell_type": "markdown",
   "id": "f7a3f76c-cab3-4f6f-a28b-13b69ccc798a",
   "metadata": {},
   "source": [
    "[![Binder](https://mybinder.org/badge_logo.svg)](https://mybinder.org/v2/gh/oddrationale/AdventOfCode2021FSharp/main?urlpath=lab%2Ftree%2FDay08.ipynb)"
   ]
  },
  {
   "cell_type": "markdown",
   "id": "73bcba6b",
   "metadata": {},
   "source": [
    "<p>You barely reach the safety of the cave when the whale smashes into the cave mouth, collapsing it. Sensors indicate another exit to this cave at a much greater depth, so you have no choice but to press on.</p>\n",
    "<p>As your submarine slowly makes its way through the cave system, you notice that the four-digit <a href=\"https://en.wikipedia.org/wiki/Seven-segment_display\" target=\"_blank\">seven-segment displays</a> in your submarine are malfunctioning; <span title=\"Yes, just the four-digit seven-segment ones. Whole batch must have been faulty.\">they must have been damaged</span> during the escape. You'll be in a lot of trouble without them, so you'd better figure out what's wrong.</p>\n",
    "<p>Each digit of a seven-segment display is rendered by turning on or off any of seven segments named <code>a</code> through <code>g</code>:</p>\n",
    "<pre><code>  0:      1:      2:      3:      4:\n",
    " <em>aaaa</em>    ....    <em>aaaa    aaaa</em>    ....\n",
    "<em>b    c</em>  .    <em>c</em>  .    <em>c</em>  .    <em>c  b    c</em>\n",
    "<em>b    c</em>  .    <em>c</em>  .    <em>c</em>  .    <em>c  b    c</em>\n",
    " ....    ....    <em>dddd    dddd    dddd</em>\n",
    "<em>e    f</em>  .    <em>f  e</em>    .  .    <em>f</em>  .    <em>f</em>\n",
    "<em>e    f</em>  .    <em>f  e</em>    .  .    <em>f</em>  .    <em>f</em>\n",
    " <em>gggg</em>    ....    <em>gggg    gggg</em>    ....\n",
    "\n",
    "  5:      6:      7:      8:      9:\n",
    " <em>aaaa    aaaa    aaaa    aaaa    aaaa</em>\n",
    "<em>b</em>    .  <em>b</em>    .  .    <em>c  b    c  b    c</em>\n",
    "<em>b</em>    .  <em>b</em>    .  .    <em>c  b    c  b    c</em>\n",
    " <em>dddd    dddd</em>    ....    <em>dddd    dddd</em>\n",
    ".    <em>f  e    f</em>  .    <em>f  e    f</em>  .    <em>f</em>\n",
    ".    <em>f  e    f</em>  .    <em>f  e    f</em>  .    <em>f</em>\n",
    " <em>gggg    gggg</em>    ....    <em>gggg    gggg</em>\n",
    "</code></pre>\n",
    "<p>So, to render a <code>1</code>, only segments <code>c</code> and <code>f</code> would be turned on; the rest would be off. To render a <code>7</code>, only segments <code>a</code>, <code>c</code>, and <code>f</code> would be turned on.</p>\n",
    "<p>The problem is that the signals which control the segments have been mixed up on each display. The submarine is still trying to display numbers by producing output on signal wires <code>a</code> through <code>g</code>, but those wires are connected to segments <em>randomly</em>. Worse, the wire/segment connections are mixed up separately for each four-digit display! (All of the digits <em>within</em> a display use the same connections, though.)</p>\n",
    "<p>So, you might know that only signal wires <code>b</code> and <code>g</code> are turned on, but that doesn't mean <em>segments</em> <code>b</code> and <code>g</code> are turned on: the only digit that uses two segments is <code>1</code>, so it must mean segments <code>c</code> and <code>f</code> are meant to be on. With just that information, you still can't tell which wire (<code>b</code>/<code>g</code>) goes to which segment (<code>c</code>/<code>f</code>). For that, you'll need to collect more information.</p>\n",
    "<p>For each display, you watch the changing signals for a while, make a note of <em>all ten unique signal patterns</em> you see, and then write down a single <em>four digit output value</em> (your puzzle input). Using the signal patterns, you should be able to work out which pattern corresponds to which digit.</p>\n",
    "<p>For example, here is what you might see in a single entry in your notes:</p>\n",
    "<pre><code>acedgfb cdfbe gcdfa fbcad dab cefabd cdfgeb eafb cagedb ab |\n",
    "cdfeb fcadb cdfeb cdbaf</code></pre>\n",
    "<p>(The entry is wrapped here to two lines so it fits; in your notes, it will all be on a single line.)</p>\n",
    "<p>Each entry consists of ten <em>unique signal patterns</em>, a <code>|</code> delimiter, and finally the <em>four digit output value</em>. Within an entry, the same wire/segment connections are used (but you don't know what the connections actually are). The unique signal patterns correspond to the ten different ways the submarine tries to render a digit using the current wire/segment connections. Because <code>7</code> is the only digit that uses three segments, <code>dab</code> in the above example means that to render a <code>7</code>, signal lines <code>d</code>, <code>a</code>, and <code>b</code> are on. Because <code>4</code> is the only digit that uses four segments, <code>eafb</code> means that to render a <code>4</code>, signal lines <code>e</code>, <code>a</code>, <code>f</code>, and <code>b</code> are on.</p>\n",
    "<p>Using this information, you should be able to work out which combination of signal wires corresponds to each of the ten digits. Then, you can decode the four digit output value. Unfortunately, in the above example, all of the digits in the output value (<code>cdfeb fcadb cdfeb cdbaf</code>) use five segments and are more difficult to deduce.</p>\n",
    "<p>For now, <em>focus on the easy digits</em>. Consider this larger example:</p>\n",
    "<pre><code>be cfbegad cbdgef fgaecd cgeb fdcge agebfd fecdb fabcd edb |\n",
    "<em>fdgacbe</em> cefdb cefbgd <em>gcbe</em>\n",
    "edbfga begcd cbg gc gcadebf fbgde acbgfd abcde gfcbed gfec |\n",
    "fcgedb <em>cgb</em> <em>dgebacf</em> <em>gc</em>\n",
    "fgaebd cg bdaec gdafb agbcfd gdcbef bgcad gfac gcb cdgabef |\n",
    "<em>cg</em> <em>cg</em> fdcagb <em>cbg</em>\n",
    "fbegcd cbd adcefb dageb afcb bc aefdc ecdab fgdeca fcdbega |\n",
    "efabcd cedba gadfec <em>cb</em>\n",
    "aecbfdg fbg gf bafeg dbefa fcge gcbea fcaegb dgceab fcbdga |\n",
    "<em>gecf</em> <em>egdcabf</em> <em>bgf</em> bfgea\n",
    "fgeab ca afcebg bdacfeg cfaedg gcfdb baec bfadeg bafgc acf |\n",
    "<em>gebdcfa</em> <em>ecba</em> <em>ca</em> <em>fadegcb</em>\n",
    "dbcfg fgd bdegcaf fgec aegbdf ecdfab fbedc dacgb gdcebf gf |\n",
    "<em>cefg</em> dcbef <em>fcge</em> <em>gbcadfe</em>\n",
    "bdfegc cbegaf gecbf dfcage bdacg ed bedf ced adcbefg gebcd |\n",
    "<em>ed</em> bcgafe cdgba cbgef\n",
    "egadfb cdbfeg cegd fecab cgb gbdefca cg fgcdab egfdb bfceg |\n",
    "<em>gbdfcae</em> <em>bgc</em> <em>cg</em> <em>cgb</em>\n",
    "gcafb gcf dcaebfg ecagb gf abcdeg gaef cafbge fdbac fegbdc |\n",
    "<em>fgae</em> cfgab <em>fg</em> bagce\n",
    "</code></pre>\n",
    "<p>Because the digits <code>1</code>, <code>4</code>, <code>7</code>, and <code>8</code> each use a unique number of segments, you should be able to tell which combinations of signals correspond to those digits. Counting <em>only digits in the output values</em> (the part after <code>|</code> on each line), in the above example, there are <code><em>26</em></code> instances of digits that use a unique number of segments (highlighted above).</p>\n",
    "<p><em>In the output values, how many times do digits <code>1</code>, <code>4</code>, <code>7</code>, or <code>8</code> appear?</em></p>"
   ]
  },
  {
   "cell_type": "code",
   "execution_count": null,
   "id": "b3d2fe85",
   "metadata": {
    "dotnet_interactive": {
     "language": "fsharp"
    }
   },
   "outputs": [],
   "source": [
    "let input = File.ReadAllLines @\"input/08.txt\""
   ]
  },
  {
   "cell_type": "code",
   "execution_count": null,
   "id": "91834380",
   "metadata": {
    "dotnet_interactive": {
     "language": "fsharp"
    }
   },
   "outputs": [],
   "source": [
    "let parse (line: string) = \n",
    "    let split = line.Split(\" | \")\n",
    "    split.[0].Split(\" \"), split.[1].Split(\" \")"
   ]
  },
  {
   "cell_type": "code",
   "execution_count": null,
   "id": "deaa8ab0",
   "metadata": {
    "dotnet_interactive": {
     "language": "fsharp"
    }
   },
   "outputs": [
    {
     "data": {
      "text/html": [
       "<div class=\"dni-plaintext\">247</div>"
      ]
     },
     "metadata": {},
     "output_type": "display_data"
    },
    {
     "data": {
      "text/plain": [
       "Wall time: 11.9148ms"
      ]
     },
     "metadata": {},
     "output_type": "display_data"
    }
   ],
   "source": [
    "#!time\n",
    "input\n",
    "|> Seq.map parse\n",
    "|> Seq.map (fun (_, outputs) -> outputs)\n",
    "|> Seq.map (fun outputs -> \n",
    "    outputs \n",
    "    |> Seq.filter (fun output -> \n",
    "        match output.Length with\n",
    "        | 2 | 3 | 4 | 7 -> true\n",
    "        | _ -> false))\n",
    "|> Seq.map Seq.length\n",
    "|> Seq.sum"
   ]
  },
  {
   "cell_type": "markdown",
   "id": "845efdd9-7742-41e1-889d-dc706863d93d",
   "metadata": {},
   "source": [
    "<h2 id=\"part2\">--- Part Two ---</h2>"
   ]
  },
  {
   "cell_type": "markdown",
   "id": "d6207d17",
   "metadata": {},
   "source": [
    "<p>Through a little deduction, you should now be able to determine the remaining digits. Consider again the first example above:</p>\n",
    "<pre><code>acedgfb cdfbe gcdfa fbcad dab cefabd cdfgeb eafb cagedb ab |\n",
    "cdfeb fcadb cdfeb cdbaf</code></pre>\n",
    "<p>After some careful analysis, the mapping between signal wires and segments only make sense in the following configuration:</p>\n",
    "<pre><code> dddd\n",
    "e    a\n",
    "e    a\n",
    " ffff\n",
    "g    b\n",
    "g    b\n",
    " cccc\n",
    "</code></pre>\n",
    "<p>So, the unique signal patterns would correspond to the following digits:</p>\n",
    "<ul>\n",
    "<li><code>acedgfb</code>: <code>8</code></li>\n",
    "<li><code>cdfbe</code>: <code>5</code></li>\n",
    "<li><code>gcdfa</code>: <code>2</code></li>\n",
    "<li><code>fbcad</code>: <code>3</code></li>\n",
    "<li><code>dab</code>: <code>7</code></li>\n",
    "<li><code>cefabd</code>: <code>9</code></li>\n",
    "<li><code>cdfgeb</code>: <code>6</code></li>\n",
    "<li><code>eafb</code>: <code>4</code></li>\n",
    "<li><code>cagedb</code>: <code>0</code></li>\n",
    "<li><code>ab</code>: <code>1</code></li>\n",
    "</ul>\n",
    "<p>Then, the four digits of the output value can be decoded:</p>\n",
    "<ul>\n",
    "<li><code>cdfeb</code>: <code><em>5</em></code></li>\n",
    "<li><code>fcadb</code>: <code><em>3</em></code></li>\n",
    "<li><code>cdfeb</code>: <code><em>5</em></code></li>\n",
    "<li><code>cdbaf</code>: <code><em>3</em></code></li>\n",
    "</ul>\n",
    "<p>Therefore, the output value for this entry is <code><em>5353</em></code>.</p>\n",
    "<p>Following this same process for each entry in the second, larger example above, the output value of each entry can be determined:</p>\n",
    "<ul>\n",
    "<li><code>fdgacbe cefdb cefbgd gcbe</code>: <code>8394</code></li>\n",
    "<li><code>fcgedb cgb dgebacf gc</code>: <code>9781</code></li>\n",
    "<li><code>cg cg fdcagb cbg</code>: <code>1197</code></li>\n",
    "<li><code>efabcd cedba gadfec cb</code>: <code>9361</code></li>\n",
    "<li><code>gecf egdcabf bgf bfgea</code>: <code>4873</code></li>\n",
    "<li><code>gebdcfa ecba ca fadegcb</code>: <code>8418</code></li>\n",
    "<li><code>cefg dcbef fcge gbcadfe</code>: <code>4548</code></li>\n",
    "<li><code>ed bcgafe cdgba cbgef</code>: <code>1625</code></li>\n",
    "<li><code>gbdfcae bgc cg cgb</code>: <code>8717</code></li>\n",
    "<li><code>fgae cfgab fg bagce</code>: <code>4315</code></li>\n",
    "</ul>\n",
    "<p>Adding all of the output values in this larger example produces <code><em>61229</em></code>.</p>\n",
    "<p>For each entry, determine all of the wire/segment connections and decode the four-digit output values. <em>What do you get if you add up all of the output values?</em></p>"
   ]
  },
  {
   "cell_type": "code",
   "execution_count": null,
   "id": "c61ddf21",
   "metadata": {
    "dotnet_interactive": {
     "language": "fsharp"
    }
   },
   "outputs": [],
   "source": [
    "let deduce (patterns: string array) =\n",
    "    let one =\n",
    "        patterns\n",
    "        |> Seq.find (fun pattern -> pattern.Length = 2)\n",
    "    let four =\n",
    "        patterns\n",
    "        |> Seq.find (fun pattern -> pattern.Length = 4)\n",
    "    let seven = \n",
    "        patterns\n",
    "        |> Seq.find (fun pattern -> pattern.Length = 3)\n",
    "    let eight = \n",
    "        patterns\n",
    "        |> Seq.find (fun pattern -> pattern.Length = 7)\n",
    "    let six =\n",
    "        patterns\n",
    "        |> Seq.filter (fun pattern -> pattern.Length = 6)\n",
    "        |> Seq.find (fun pattern -> \n",
    "            one\n",
    "            |> Seq.except pattern\n",
    "            |> Seq.length\n",
    "            |> fun l -> l = 1)\n",
    "    let nine = \n",
    "        patterns\n",
    "        |> Seq.filter (fun pattern -> pattern.Length = 6)\n",
    "        |> Seq.filter (fun pattern -> not (pattern = six))\n",
    "        |> Seq.find (fun pattern -> \n",
    "            four\n",
    "            |> Seq.except pattern\n",
    "            |> Seq.isEmpty)\n",
    "    let zero = \n",
    "        patterns\n",
    "        |> Seq.filter (fun pattern -> pattern.Length = 6)\n",
    "        |> Seq.find (fun pattern -> not (pattern = six) && not (pattern = nine))\n",
    "    let three = \n",
    "        patterns\n",
    "        |> Seq.filter (fun pattern -> pattern.Length = 5)\n",
    "        |> Seq.find (fun pattern -> \n",
    "            pattern\n",
    "            |> Seq.except one\n",
    "            |> Seq.length\n",
    "            |> fun l -> l = 3)\n",
    "    let two = \n",
    "        patterns\n",
    "        |> Seq.filter (fun pattern -> pattern.Length = 5)\n",
    "        |> Seq.filter (fun pattern -> not (pattern = three))\n",
    "        |> Seq.find (fun pattern -> \n",
    "            pattern\n",
    "            |> Seq.except six\n",
    "            |> Seq.length\n",
    "            |> fun l -> l = 1)\n",
    "    let five = \n",
    "        patterns\n",
    "        |> Seq.filter (fun pattern -> pattern.Length = 5)\n",
    "        |> Seq.find (fun pattern -> not (pattern = three) && not (pattern = two))\n",
    "    [zero; one; two; three; four; five; six; seven; eight; nine]"
   ]
  },
  {
   "cell_type": "code",
   "execution_count": null,
   "id": "3c269851",
   "metadata": {
    "dotnet_interactive": {
     "language": "fsharp"
    }
   },
   "outputs": [],
   "source": [
    "let decode (outputs: string array) (patterns: string list) =\n",
    "    let sort (string: string) = \n",
    "        string\n",
    "        |> Seq.sort\n",
    "        |> String.Concat\n",
    "    \n",
    "    outputs\n",
    "    |> Seq.map (fun output -> \n",
    "        patterns \n",
    "        |> Seq.findIndex (fun pattern -> (sort output) = (sort pattern)))\n",
    "    |> String.Concat\n",
    "    |> int"
   ]
  },
  {
   "cell_type": "code",
   "execution_count": null,
   "id": "3bc59add",
   "metadata": {},
   "outputs": [
    {
     "data": {
      "text/html": [
       "<div class=\"dni-plaintext\">933305</div>"
      ]
     },
     "metadata": {},
     "output_type": "display_data"
    },
    {
     "data": {
      "text/plain": [
       "Wall time: 15.2259ms"
      ]
     },
     "metadata": {},
     "output_type": "display_data"
    }
   ],
   "source": [
    "#!time\n",
    "input\n",
    "|> Seq.map parse\n",
    "|> Seq.map (fun (patterns, outputs) -> \n",
    "    patterns\n",
    "    |> deduce \n",
    "    |> decode outputs)\n",
    "|> Seq.sum"
   ]
  },
  {
   "cell_type": "markdown",
   "id": "2cf45427-c80e-4427-963f-cef8340e03e7",
   "metadata": {},
   "source": [
    "[Prev](Day07.ipynb) | [Next](Day09.ipynb)"
   ]
  }
 ],
 "metadata": {
  "kernelspec": {
   "display_name": ".NET (F#)",
   "language": "F#",
   "name": ".net-fsharp"
  },
  "language_info": {
   "file_extension": ".fs",
   "mimetype": "text/x-fsharp",
   "name": "C#",
   "pygments_lexer": "fsharp",
   "version": "4.5"
  }
 },
 "nbformat": 4,
 "nbformat_minor": 5
}
