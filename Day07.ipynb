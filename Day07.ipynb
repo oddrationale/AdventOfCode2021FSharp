{
 "cells": [
  {
   "cell_type": "markdown",
   "id": "571255d2-7bab-457f-ae95-82559d01d0b0",
   "metadata": {},
   "source": [
    "<h2>--- Day 7: The Treachery of Whales ---</h2>"
   ]
  },
  {
   "cell_type": "markdown",
   "id": "f7a3f76c-cab3-4f6f-a28b-13b69ccc798a",
   "metadata": {},
   "source": [
    "[![Binder](https://mybinder.org/badge_logo.svg)](https://mybinder.org/v2/gh/oddrationale/AdventOfCode2021FSharp/main?urlpath=lab%2Ftree%2FDay07.ipynb)"
   ]
  },
  {
   "cell_type": "markdown",
   "id": "73bcba6b",
   "metadata": {},
   "source": [
    "<p>A giant <a href=\"https://en.wikipedia.org/wiki/Sperm_whale\" target=\"_blank\">whale</a> has decided your submarine is its next meal, and it's much faster than you are. There's nowhere to run!</p>\n",
    "<p>Suddenly, a swarm of crabs (each in its own tiny submarine - it's too deep for them otherwise) zooms in to rescue you! They seem to be preparing to blast a hole in the ocean floor; sensors indicate a <em>massive underground cave system</em> just beyond where they're aiming!</p>\n",
    "<p>The crab submarines all need to be aligned before they'll have enough power to blast a large enough hole for your submarine to get through. However, it doesn't look like they'll be aligned before the whale catches you! Maybe you can help?</p>\n",
    "<p>There's one major catch - crab submarines can only move horizontally.</p>\n",
    "<p>You quickly make a list of <em>the horizontal position of each crab</em> (your puzzle input). Crab submarines have limited fuel, so you need to find a way to make all of their horizontal positions match while requiring them to spend as little fuel as possible.</p>\n",
    "<p>For example, consider the following horizontal positions:</p>\n",
    "<pre><code>16,1,2,0,4,2,7,1,2,14</code></pre>\n",
    "<p>This means there's a crab with horizontal position <code>16</code>, a crab with horizontal position <code>1</code>, and so on.</p>\n",
    "<p>Each change of 1 step in horizontal position of a single crab costs 1 fuel. You could choose any horizontal position to align them all on, but the one that costs the least fuel is horizontal position <code>2</code>:</p>\n",
    "<ul>\n",
    "<li>Move from <code>16</code> to <code>2</code>: <code>14</code> fuel</li>\n",
    "<li>Move from <code>1</code> to <code>2</code>: <code>1</code> fuel</li>\n",
    "<li>Move from <code>2</code> to <code>2</code>: <code>0</code> fuel</li>\n",
    "<li>Move from <code>0</code> to <code>2</code>: <code>2</code> fuel</li>\n",
    "<li>Move from <code>4</code> to <code>2</code>: <code>2</code> fuel</li>\n",
    "<li>Move from <code>2</code> to <code>2</code>: <code>0</code> fuel</li>\n",
    "<li>Move from <code>7</code> to <code>2</code>: <code>5</code> fuel</li>\n",
    "<li>Move from <code>1</code> to <code>2</code>: <code>1</code> fuel</li>\n",
    "<li>Move from <code>2</code> to <code>2</code>: <code>0</code> fuel</li>\n",
    "<li>Move from <code>14</code> to <code>2</code>: <code>12</code> fuel</li>\n",
    "</ul>\n",
    "<p>This costs a total of <code><em>37</em></code> fuel. This is the cheapest possible outcome; more expensive outcomes include aligning at position <code>1</code> (<code>41</code> fuel), position <code>3</code> (<code>39</code> fuel), or position <code>10</code> (<code>71</code> fuel).</p>\n",
    "<p>Determine the horizontal position that the crabs can align to using the least fuel possible. <em>How much fuel must they spend to align to that position?</em></p>"
   ]
  },
  {
   "cell_type": "code",
   "execution_count": null,
   "id": "b3d2fe85",
   "metadata": {
    "dotnet_interactive": {
     "language": "fsharp"
    }
   },
   "outputs": [],
   "source": [
    "let input = File.ReadAllText(@\"input/07.txt\").Split(\",\") |> Array.map int"
   ]
  },
  {
   "cell_type": "code",
   "execution_count": null,
   "id": "f2cf3a58",
   "metadata": {},
   "outputs": [],
   "source": [
    "let calcFuel target input = \n",
    "    input\n",
    "    |> Seq.map (fun pos -> abs (pos - target))\n",
    "    |> Seq.sum"
   ]
  },
  {
   "cell_type": "code",
   "execution_count": null,
   "id": "bcb2a6e3",
   "metadata": {},
   "outputs": [
    {
     "data": {
      "text/html": [
       "<div class=\"dni-plaintext\">342641</div>"
      ]
     },
     "metadata": {},
     "output_type": "display_data"
    },
    {
     "data": {
      "text/plain": [
       "Wall time: 54.2261ms"
      ]
     },
     "metadata": {},
     "output_type": "display_data"
    }
   ],
   "source": [
    "#!time\n",
    "[0..input |> Array.max]\n",
    "|> Seq.map (fun target -> calcFuel target input)\n",
    "|> Seq.min"
   ]
  },
  {
   "cell_type": "markdown",
   "id": "845efdd9-7742-41e1-889d-dc706863d93d",
   "metadata": {},
   "source": [
    "<h2 id=\"part2\">--- Part Two ---</h2>"
   ]
  },
  {
   "cell_type": "markdown",
   "id": "d6207d17",
   "metadata": {},
   "source": [
    "<p>The crabs don't seem interested in your proposed solution. Perhaps you misunderstand crab engineering?</p>\n",
    "<p>As it turns out, crab submarine engines <span title=\"This appears to be due to the modial interaction of magneto-reluctance and capacitive duractance.\">don't burn fuel at a constant rate</span>. Instead, each change of 1 step in horizontal position costs 1 more unit of fuel than the last: the first step costs <code>1</code>, the second step costs <code>2</code>, the third step costs <code>3</code>, and so on.</p>\n",
    "<p>As each crab moves, moving further becomes more expensive. This changes the best horizontal position to align them all on; in the example above, this becomes <code>5</code>:</p>\n",
    "<ul>\n",
    "<li>Move from <code>16</code> to <code>5</code>: <code>66</code> fuel</li>\n",
    "<li>Move from <code>1</code> to <code>5</code>: <code>10</code> fuel</li>\n",
    "<li>Move from <code>2</code> to <code>5</code>: <code>6</code> fuel</li>\n",
    "<li>Move from <code>0</code> to <code>5</code>: <code>15</code> fuel</li>\n",
    "<li>Move from <code>4</code> to <code>5</code>: <code>1</code> fuel</li>\n",
    "<li>Move from <code>2</code> to <code>5</code>: <code>6</code> fuel</li>\n",
    "<li>Move from <code>7</code> to <code>5</code>: <code>3</code> fuel</li>\n",
    "<li>Move from <code>1</code> to <code>5</code>: <code>10</code> fuel</li>\n",
    "<li>Move from <code>2</code> to <code>5</code>: <code>6</code> fuel</li>\n",
    "<li>Move from <code>14</code> to <code>5</code>: <code>45</code> fuel</li>\n",
    "</ul>\n",
    "<p>This costs a total of <code><em>168</em></code> fuel. This is the new cheapest possible outcome; the old alignment position (<code>2</code>) now costs <code>206</code> fuel instead.</p>\n",
    "<p>Determine the horizontal position that the crabs can align to using the least fuel possible so they can make you an escape route! <em>How much fuel must they spend to align to that position?</em></p>"
   ]
  },
  {
   "cell_type": "code",
   "execution_count": null,
   "id": "c61ddf21",
   "metadata": {
    "dotnet_interactive": {
     "language": "fsharp"
    }
   },
   "outputs": [],
   "source": [
    "let calcFuel' target input = \n",
    "    input\n",
    "    |> Seq.map (fun pos -> abs (pos - target))\n",
    "    |> Seq.map (fun distance -> (distance*(distance + 1))/2)\n",
    "    |> Seq.sum"
   ]
  },
  {
   "cell_type": "markdown",
   "id": "8d91a997",
   "metadata": {},
   "source": [
    "The forumula for the sum of consective numbers below `n` (including `n`) is: $\\frac{n(n + 1)}{2}$"
   ]
  },
  {
   "cell_type": "code",
   "execution_count": null,
   "id": "adff13e9",
   "metadata": {},
   "outputs": [
    {
     "data": {
      "text/html": [
       "<div class=\"dni-plaintext\">93006301</div>"
      ]
     },
     "metadata": {},
     "output_type": "display_data"
    },
    {
     "data": {
      "text/plain": [
       "Wall time: 69.4417ms"
      ]
     },
     "metadata": {},
     "output_type": "display_data"
    }
   ],
   "source": [
    "#!time\n",
    "[0..input |> Array.max]\n",
    "|> Seq.map (fun target -> calcFuel' target input)\n",
    "|> Seq.min"
   ]
  },
  {
   "cell_type": "markdown",
   "id": "2cf45427-c80e-4427-963f-cef8340e03e7",
   "metadata": {},
   "source": [
    "[Prev](Day06.ipynb) | [Next](Day08.ipynb)"
   ]
  }
 ],
 "metadata": {
  "kernelspec": {
   "display_name": ".NET (F#)",
   "language": "F#",
   "name": ".net-fsharp"
  },
  "language_info": {
   "file_extension": ".fs",
   "mimetype": "text/x-fsharp",
   "name": "C#",
   "pygments_lexer": "fsharp",
   "version": "4.5"
  }
 },
 "nbformat": 4,
 "nbformat_minor": 5
}
