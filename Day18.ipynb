{
 "cells": [
  {
   "cell_type": "markdown",
   "id": "571255d2-7bab-457f-ae95-82559d01d0b0",
   "metadata": {},
   "source": [
    "<h2>--- Day 18: Snailfish ---</h2>"
   ]
  },
  {
   "cell_type": "markdown",
   "id": "f7a3f76c-cab3-4f6f-a28b-13b69ccc798a",
   "metadata": {},
   "source": [
    "[![Binder](https://mybinder.org/badge_logo.svg)](https://mybinder.org/v2/gh/oddrationale/AdventOfCode2021FSharp/main?urlpath=lab%2Ftree%2FDay18.ipynb)"
   ]
  },
  {
   "cell_type": "markdown",
   "id": "73bcba6b",
   "metadata": {},
   "source": [
    "<p>You descend into the ocean trench and encounter some <a href=\"https://en.wikipedia.org/wiki/Snailfish\" target=\"_blank\">snailfish</a>. They say they saw the sleigh keys! They'll even tell you which direction the keys went if you help one of the smaller snailfish with his <em><span title=\"Or 'maths', if you have more than one.\">math</span> homework</em>.</p>\n",
    "<p>Snailfish numbers aren't like regular numbers. Instead, every snailfish number is a <em>pair</em> - an ordered list of two elements. Each element of the pair can be either a regular number or another pair.</p>\n",
    "<p>Pairs are written as <code>[x,y]</code>, where <code>x</code> and <code>y</code> are the elements within the pair. Here are some example snailfish numbers, one snailfish number per line:</p>\n",
    "<pre><code>[1,2]\n",
    "[[1,2],3]\n",
    "[9,[8,7]]\n",
    "[[1,9],[8,5]]\n",
    "[[[[1,2],[3,4]],[[5,6],[7,8]]],9]\n",
    "[[[9,[3,8]],[[0,9],6]],[[[3,7],[4,9]],3]]\n",
    "[[[[1,3],[5,3]],[[1,3],[8,7]]],[[[4,9],[6,9]],[[8,2],[7,3]]]]\n",
    "</code></pre>\n",
    "<p>This snailfish homework is about <em>addition</em>. To add two snailfish numbers, form a pair from the left and right parameters of the addition operator. For example, <code>[1,2]</code> + <code>[[3,4],5]</code> becomes <code>[[1,2],[[3,4],5]]</code>.</p>\n",
    "<p>There's only one problem: <em>snailfish numbers must always be reduced</em>, and the process of adding two snailfish numbers can result in snailfish numbers that need to be reduced.</p>\n",
    "<p>To <em>reduce a snailfish number</em>, you must repeatedly do the first action in this list that applies to the snailfish number:</p>\n",
    "<ul>\n",
    "<li>If any pair is <em>nested inside four pairs</em>, the leftmost such pair <em>explodes</em>.</li>\n",
    "<li>If any regular number is <em>10 or greater</em>, the leftmost such regular number <em>splits</em>.</li>\n",
    "</ul>\n",
    "<p>Once no action in the above list applies, the snailfish number is reduced.</p>\n",
    "<p>During reduction, at most one action applies, after which the process returns to the top of the list of actions. For example, if <em>split</em> produces a pair that meets the <em>explode</em> criteria, that pair <em>explodes</em> before other <em>splits</em> occur.</p>\n",
    "<p>To <em>explode</em> a pair, the pair's left value is added to the first regular number to the left of the exploding pair (if any), and the pair's right value is added to the first regular number to the right of the exploding pair (if any). Exploding pairs will always consist of two regular numbers. Then, the entire exploding pair is replaced with the regular number <code>0</code>.</p>\n",
    "<p>Here are some examples of a single explode action:</p>\n",
    "<ul>\n",
    "<li><code>[[[[<em>[9,8]</em>,1],2],3],4]</code> becomes <code>[[[[<em>0</em>,<em>9</em>],2],3],4]</code> (the <code>9</code> has no regular number to its left, so it is not added to any regular number).</li>\n",
    "<li><code>[7,[6,[5,[4,<em>[3,2]</em>]]]]</code> becomes <code>[7,[6,[5,[<em>7</em>,<em>0</em>]]]]</code> (the <code>2</code> has no regular number to its right, and so it is not added to any regular number).</li>\n",
    "<li><code>[[6,[5,[4,<em>[3,2]</em>]]],1]</code> becomes <code>[[6,[5,[<em>7</em>,<em>0</em>]]],<em>3</em>]</code>.</li>\n",
    "<li><code>[[3,[2,[1,<em>[7,3]</em>]]],[6,[5,[4,[3,2]]]]]</code> becomes <code>[[3,[2,[<em>8</em>,<em>0</em>]]],[<em>9</em>,[5,[4,[3,2]]]]]</code> (the pair <code>[3,2]</code> is unaffected because the pair <code>[7,3]</code> is further to the left; <code>[3,2]</code> would explode on the next action).</li>\n",
    "<li><code>[[3,[2,[8,0]]],[9,[5,[4,<em>[3,2]</em>]]]]</code> becomes <code>[[3,[2,[8,0]]],[9,[5,[<em>7</em>,<em>0</em>]]]]</code>.</li>\n",
    "</ul>\n",
    "<p>To <em>split</em> a regular number, replace it with a pair; the left element of the pair should be the regular number divided by two and rounded <em>down</em>, while the right element of the pair should be the regular number divided by two and rounded <em>up</em>. For example, <code>10</code> becomes <code>[5,5]</code>, <code>11</code> becomes <code>[5,6]</code>, <code>12</code> becomes <code>[6,6]</code>, and so on.</p>\n",
    "<p>Here is the process of finding the reduced result of <code>[[[[4,3],4],4],[7,[[8,4],9]]]</code> + <code>[1,1]</code>:</p>\n",
    "<pre><code>after addition: [[[[<em>[4,3]</em>,4],4],[7,[[8,4],9]]],[1,1]]\n",
    "after explode:  [[[[0,7],4],[7,[<em>[8,4]</em>,9]]],[1,1]]\n",
    "after explode:  [[[[0,7],4],[<em>15</em>,[0,13]]],[1,1]]\n",
    "after split:    [[[[0,7],4],[[7,8],[0,<em>13</em>]]],[1,1]]\n",
    "after split:    [[[[0,7],4],[[7,8],[0,<em>[6,7]</em>]]],[1,1]]\n",
    "after explode:  [[[[0,7],4],[[7,8],[6,0]]],[8,1]]\n",
    "</code></pre>\n",
    "<p>Once no reduce actions apply, the snailfish number that remains is the actual result of the addition operation: <code>[[[[0,7],4],[[7,8],[6,0]]],[8,1]]</code>.</p>\n",
    "<p>The homework assignment involves adding up a <em>list of snailfish numbers</em> (your puzzle input). The snailfish numbers are each listed on a separate line. Add the first snailfish number and the second, then add that result and the third, then add that result and the fourth, and so on until all numbers in the list have been used once.</p>\n",
    "<p>For example, the final sum of this list is <code>[[[[1,1],[2,2]],[3,3]],[4,4]]</code>:</p>\n",
    "<pre><code>[1,1]\n",
    "[2,2]\n",
    "[3,3]\n",
    "[4,4]\n",
    "</code></pre>\n",
    "<p>The final sum of this list is <code>[[[[3,0],[5,3]],[4,4]],[5,5]]</code>:</p>\n",
    "<pre><code>[1,1]\n",
    "[2,2]\n",
    "[3,3]\n",
    "[4,4]\n",
    "[5,5]\n",
    "</code></pre>\n",
    "<p>The final sum of this list is <code>[[[[5,0],[7,4]],[5,5]],[6,6]]</code>:</p>\n",
    "<pre><code>[1,1]\n",
    "[2,2]\n",
    "[3,3]\n",
    "[4,4]\n",
    "[5,5]\n",
    "[6,6]\n",
    "</code></pre>\n",
    "<p>Here's a slightly larger example:</p>\n",
    "<pre><code>[[[0,[4,5]],[0,0]],[[[4,5],[2,6]],[9,5]]]\n",
    "[7,[[[3,7],[4,3]],[[6,3],[8,8]]]]\n",
    "[[2,[[0,8],[3,4]]],[[[6,7],1],[7,[1,6]]]]\n",
    "[[[[2,4],7],[6,[0,5]]],[[[6,8],[2,8]],[[2,1],[4,5]]]]\n",
    "[7,[5,[[3,8],[1,4]]]]\n",
    "[[2,[2,2]],[8,[8,1]]]\n",
    "[2,9]\n",
    "[1,[[[9,3],9],[[9,0],[0,7]]]]\n",
    "[[[5,[7,4]],7],1]\n",
    "[[[[4,2],2],6],[8,7]]\n",
    "</code></pre>\n",
    "<p>The final sum <code>[[[[8,7],[7,7]],[[8,6],[7,7]]],[[[0,7],[6,6]],[8,7]]]</code> is found after adding up the above snailfish numbers:</p>\n",
    "<pre><code>  [[[0,[4,5]],[0,0]],[[[4,5],[2,6]],[9,5]]]\n",
    "+ [7,[[[3,7],[4,3]],[[6,3],[8,8]]]]\n",
    "= [[[[4,0],[5,4]],[[7,7],[6,0]]],[[8,[7,7]],[[7,9],[5,0]]]]\n",
    "\n",
    "  [[[[4,0],[5,4]],[[7,7],[6,0]]],[[8,[7,7]],[[7,9],[5,0]]]]\n",
    "+ [[2,[[0,8],[3,4]]],[[[6,7],1],[7,[1,6]]]]\n",
    "= [[[[6,7],[6,7]],[[7,7],[0,7]]],[[[8,7],[7,7]],[[8,8],[8,0]]]]\n",
    "\n",
    "  [[[[6,7],[6,7]],[[7,7],[0,7]]],[[[8,7],[7,7]],[[8,8],[8,0]]]]\n",
    "+ [[[[2,4],7],[6,[0,5]]],[[[6,8],[2,8]],[[2,1],[4,5]]]]\n",
    "= [[[[7,0],[7,7]],[[7,7],[7,8]]],[[[7,7],[8,8]],[[7,7],[8,7]]]]\n",
    "\n",
    "  [[[[7,0],[7,7]],[[7,7],[7,8]]],[[[7,7],[8,8]],[[7,7],[8,7]]]]\n",
    "+ [7,[5,[[3,8],[1,4]]]]\n",
    "= [[[[7,7],[7,8]],[[9,5],[8,7]]],[[[6,8],[0,8]],[[9,9],[9,0]]]]\n",
    "\n",
    "  [[[[7,7],[7,8]],[[9,5],[8,7]]],[[[6,8],[0,8]],[[9,9],[9,0]]]]\n",
    "+ [[2,[2,2]],[8,[8,1]]]\n",
    "= [[[[6,6],[6,6]],[[6,0],[6,7]]],[[[7,7],[8,9]],[8,[8,1]]]]\n",
    "\n",
    "  [[[[6,6],[6,6]],[[6,0],[6,7]]],[[[7,7],[8,9]],[8,[8,1]]]]\n",
    "+ [2,9]\n",
    "= [[[[6,6],[7,7]],[[0,7],[7,7]]],[[[5,5],[5,6]],9]]\n",
    "\n",
    "  [[[[6,6],[7,7]],[[0,7],[7,7]]],[[[5,5],[5,6]],9]]\n",
    "+ [1,[[[9,3],9],[[9,0],[0,7]]]]\n",
    "= [[[[7,8],[6,7]],[[6,8],[0,8]]],[[[7,7],[5,0]],[[5,5],[5,6]]]]\n",
    "\n",
    "  [[[[7,8],[6,7]],[[6,8],[0,8]]],[[[7,7],[5,0]],[[5,5],[5,6]]]]\n",
    "+ [[[5,[7,4]],7],1]\n",
    "= [[[[7,7],[7,7]],[[8,7],[8,7]]],[[[7,0],[7,7]],9]]\n",
    "\n",
    "  [[[[7,7],[7,7]],[[8,7],[8,7]]],[[[7,0],[7,7]],9]]\n",
    "+ [[[[4,2],2],6],[8,7]]\n",
    "= [[[[8,7],[7,7]],[[8,6],[7,7]]],[[[0,7],[6,6]],[8,7]]]\n",
    "</code></pre>\n",
    "<p>To check whether it's the right answer, the snailfish teacher only checks the <em>magnitude</em> of the final sum. The magnitude of a pair is 3 times the magnitude of its left element plus 2 times the magnitude of its right element. The magnitude of a regular number is just that number.</p>\n",
    "<p>For example, the magnitude of <code>[9,1]</code> is <code>3*9 + 2*1 = <em>29</em></code>; the magnitude of <code>[1,9]</code> is <code>3*1 + 2*9 = <em>21</em></code>. Magnitude calculations are recursive: the magnitude of <code>[[9,1],[1,9]]</code> is <code>3*29 + 2*21 = <em>129</em></code>.</p>\n",
    "<p>Here are a few more magnitude examples:</p>\n",
    "<ul>\n",
    "<li><code>[[1,2],[[3,4],5]]</code> becomes <code><em>143</em></code>.</li>\n",
    "<li><code>[[[[0,7],4],[[7,8],[6,0]]],[8,1]]</code> becomes <code><em>1384</em></code>.</li>\n",
    "<li><code>[[[[1,1],[2,2]],[3,3]],[4,4]]</code> becomes <code><em>445</em></code>.</li>\n",
    "<li><code>[[[[3,0],[5,3]],[4,4]],[5,5]]</code> becomes <code><em>791</em></code>.</li>\n",
    "<li><code>[[[[5,0],[7,4]],[5,5]],[6,6]]</code> becomes <code><em>1137</em></code>.</li>\n",
    "<li><code>[[[[8,7],[7,7]],[[8,6],[7,7]]],[[[0,7],[6,6]],[8,7]]]</code> becomes <code><em>3488</em></code>.</li>\n",
    "</ul>\n",
    "<p>So, given this example homework assignment:</p>\n",
    "<pre><code>[[[0,[5,8]],[[1,7],[9,6]]],[[4,[1,2]],[[1,4],2]]]\n",
    "[[[5,[2,8]],4],[5,[[9,9],0]]]\n",
    "[6,[[[6,2],[5,6]],[[7,6],[4,7]]]]\n",
    "[[[6,[0,7]],[0,9]],[4,[9,[9,0]]]]\n",
    "[[[7,[6,4]],[3,[1,3]]],[[[5,5],1],9]]\n",
    "[[6,[[7,3],[3,2]]],[[[3,8],[5,7]],4]]\n",
    "[[[[5,4],[7,7]],8],[[8,3],8]]\n",
    "[[9,3],[[9,9],[6,[4,9]]]]\n",
    "[[2,[[7,7],7]],[[5,8],[[9,3],[0,2]]]]\n",
    "[[[[5,2],5],[8,[3,7]]],[[5,[7,5]],[4,4]]]\n",
    "</code></pre>\n",
    "<p>The final sum is:</p>\n",
    "<pre><code>[[[[6,6],[7,6]],[[7,7],[7,0]]],[[[7,7],[7,7]],[[7,8],[9,9]]]]</code></pre>\n",
    "<p>The magnitude of this final sum is <code><em>4140</em></code>.</p>\n",
    "<p>Add up all of the snailfish numbers from the homework assignment in the order they appear. <em>What is the magnitude of the final sum?</em></p>"
   ]
  },
  {
   "cell_type": "code",
   "execution_count": null,
   "id": "b3d2fe85",
   "metadata": {
    "dotnet_interactive": {
     "language": "fsharp"
    }
   },
   "outputs": [],
   "source": [
    "let input = File.ReadAllLines @\"input/18.txt\""
   ]
  },
  {
   "cell_type": "code",
   "execution_count": null,
   "id": "76f8a283",
   "metadata": {
    "dotnet_interactive": {
     "language": "fsharp"
    }
   },
   "outputs": [],
   "source": [
    "type 'T SnailFishNumber = \n",
    "    | List of 'T SnailFishNumber list \n",
    "    | Elem of 'T\n",
    "\n",
    "    static member (+) (first, second) =\n",
    "        List [first; second]\n",
    "        \n",
    "    override this.ToString() =\n",
    "        let rec toString = function\n",
    "            | List xs -> $\"[{toString xs.[0]},{toString xs.[1]}]\"\n",
    "            | Elem x -> x |> string\n",
    "        toString this"
   ]
  },
  {
   "cell_type": "code",
   "execution_count": null,
   "id": "5fb166df",
   "metadata": {
    "dotnet_interactive": {
     "language": "fsharp"
    }
   },
   "outputs": [],
   "source": [
    "let parse line = \n",
    "    let rec loop = function\n",
    "        | [] -> List [], []\n",
    "        | head::tail -> \n",
    "            match head with\n",
    "            | '[' -> \n",
    "                let (left, afterLeft) = loop tail\n",
    "                let afterComma = List.tail afterLeft\n",
    "                let (right, afterRight) = loop afterComma\n",
    "                let rest = List.tail afterRight\n",
    "                List [left; right], rest\n",
    "            | _ -> \n",
    "                Elem (head |> string |> int), tail\n",
    "    line |> Seq.toList |> loop |> fst"
   ]
  },
  {
   "cell_type": "code",
   "execution_count": null,
   "id": "85c28a7a",
   "metadata": {},
   "outputs": [],
   "source": [
    "let explode snailFishNumber =\n",
    "    let rec addToLeft n = function\n",
    "        | List xs -> List [addToLeft n xs.[0]; xs.[1]]\n",
    "        | Elem x -> Elem (x + n)\n",
    "\n",
    "    let rec addToRight n = function\n",
    "        | List xs -> List [xs.[0]; addToRight n xs.[1]]\n",
    "        | Elem x -> Elem (x + n)\n",
    "\n",
    "    let rec loop depth = function\n",
    "        | List xs -> \n",
    "            match xs.[0], xs.[1] with\n",
    "            | Elem x0, Elem x1 -> \n",
    "                match depth with\n",
    "                | 4 -> true, Elem 0, x0, x1\n",
    "                | _ -> false, List xs, 0, 0\n",
    "            | x0, x1 -> \n",
    "                let (firstIsExploded, first, fromFirstToLeft, fromFirstToRight) = loop (depth + 1) x0\n",
    "                let (secondIsExploded, second, fromSecondToLeft, fromSecondToRight) = loop (depth + 1) x1\n",
    "                match firstIsExploded, secondIsExploded with\n",
    "                | true, _ -> true, List [first; addToLeft fromFirstToRight x1], fromFirstToLeft, 0\n",
    "                | _, true -> true, List [addToRight fromSecondToLeft x0; second], 0, fromSecondToRight\n",
    "                | _, _ -> false, List xs, 0, 0\n",
    "        | Elem x -> false, Elem x, 0, 0\n",
    "\n",
    "    snailFishNumber\n",
    "    |> loop 0\n",
    "    |> fun (exploded, number, _, _) -> exploded, number"
   ]
  },
  {
   "cell_type": "code",
   "execution_count": null,
   "id": "bfe4dd38",
   "metadata": {},
   "outputs": [],
   "source": [
    "let rec split = function\n",
    "    | List xs -> \n",
    "        let (firstIsSplit, first) = split xs.[0]\n",
    "        let (secondIsSplit, second) = split xs.[1]\n",
    "        match firstIsSplit, secondIsSplit with\n",
    "        | true, _ -> true, List [first; xs.[1]]\n",
    "        | _, true -> true, List [xs.[0]; second]\n",
    "        | _, _ -> false, List xs\n",
    "    | Elem x -> \n",
    "        match x with\n",
    "        | x when x < 10 -> false, Elem x\n",
    "        | _ -> true, List [Elem (x / 2); Elem ((x + 1) / 2)]"
   ]
  },
  {
   "cell_type": "code",
   "execution_count": null,
   "id": "31f49692",
   "metadata": {},
   "outputs": [],
   "source": [
    "let rec reduce snailFishNumber = \n",
    "    let (exploded, afterExploded) = explode snailFishNumber\n",
    "    let (splitted, afterSplitted) = split snailFishNumber\n",
    "    match exploded, splitted with\n",
    "    | true, _ -> reduce afterExploded\n",
    "    | _, true -> reduce afterSplitted\n",
    "    | _, _ -> snailFishNumber"
   ]
  },
  {
   "cell_type": "code",
   "execution_count": null,
   "id": "e0b2fb57",
   "metadata": {},
   "outputs": [],
   "source": [
    "let rec calcMagnitude = function\n",
    "    | List xs -> (3 * (calcMagnitude xs.[0])) + (2 * (calcMagnitude xs.[1]))\n",
    "    | Elem x -> x"
   ]
  },
  {
   "cell_type": "code",
   "execution_count": null,
   "id": "e172128d",
   "metadata": {},
   "outputs": [
    {
     "data": {
      "text/html": [
       "<div class=\"dni-plaintext\">3806</div>"
      ]
     },
     "metadata": {},
     "output_type": "display_data"
    },
    {
     "data": {
      "text/plain": [
       "Wall time: 178.0716ms"
      ]
     },
     "metadata": {},
     "output_type": "display_data"
    }
   ],
   "source": [
    "#!time\n",
    "input\n",
    "|> Seq.map parse\n",
    "|> Seq.reduce (fun a b -> reduce (a + b))\n",
    "|> calcMagnitude"
   ]
  },
  {
   "cell_type": "markdown",
   "id": "845efdd9-7742-41e1-889d-dc706863d93d",
   "metadata": {},
   "source": [
    "<h2 id=\"part2\">--- Part Two ---</h2>"
   ]
  },
  {
   "cell_type": "markdown",
   "id": "d6207d17",
   "metadata": {},
   "source": [
    "<p>You notice a second question on the back of the homework assignment:</p>\n",
    "<p>What is the largest magnitude you can get from adding only two of the snailfish numbers?</p>\n",
    "<p>Note that snailfish addition is not <a href=\"https://en.wikipedia.org/wiki/Commutative_property\" target=\"_blank\">commutative</a> - that is, <code>x + y</code> and <code>y + x</code> can produce different results.</p>\n",
    "<p>Again considering the last example homework assignment above:</p>\n",
    "<pre><code>[[[0,[5,8]],[[1,7],[9,6]]],[[4,[1,2]],[[1,4],2]]]\n",
    "[[[5,[2,8]],4],[5,[[9,9],0]]]\n",
    "[6,[[[6,2],[5,6]],[[7,6],[4,7]]]]\n",
    "[[[6,[0,7]],[0,9]],[4,[9,[9,0]]]]\n",
    "[[[7,[6,4]],[3,[1,3]]],[[[5,5],1],9]]\n",
    "[[6,[[7,3],[3,2]]],[[[3,8],[5,7]],4]]\n",
    "[[[[5,4],[7,7]],8],[[8,3],8]]\n",
    "[[9,3],[[9,9],[6,[4,9]]]]\n",
    "[[2,[[7,7],7]],[[5,8],[[9,3],[0,2]]]]\n",
    "[[[[5,2],5],[8,[3,7]]],[[5,[7,5]],[4,4]]]\n",
    "</code></pre>\n",
    "<p>The largest magnitude of the sum of any two snailfish numbers in this list is <code><em>3993</em></code>. This is the magnitude of <code>[[2,[[7,7],7]],[[5,8],[[9,3],[0,2]]]]</code> + <code>[[[0,[5,8]],[[1,7],[9,6]]],[[4,[1,2]],[[1,4],2]]]</code>, which reduces to <code>[[[[7,8],[6,6]],[[6,0],[7,7]]],[[[7,8],[8,8]],[[7,9],[0,6]]]]</code>.</p>\n",
    "<p><em>What is the largest magnitude of any sum of two different snailfish numbers from the homework assignment?</em></p>"
   ]
  },
  {
   "cell_type": "code",
   "execution_count": null,
   "id": "c61ddf21",
   "metadata": {
    "dotnet_interactive": {
     "language": "fsharp"
    }
   },
   "outputs": [
    {
     "data": {
      "text/html": [
       "<div class=\"dni-plaintext\">4727</div>"
      ]
     },
     "metadata": {},
     "output_type": "display_data"
    },
    {
     "data": {
      "text/plain": [
       "Wall time: 361.6291ms"
      ]
     },
     "metadata": {},
     "output_type": "display_data"
    }
   ],
   "source": [
    "#!time\n",
    "let snailFishNumbers =\n",
    "    input\n",
    "    |> Seq.map parse\n",
    "\n",
    "snailFishNumbers\n",
    "|> Seq.allPairs snailFishNumbers\n",
    "|> Seq.filter (fun (n1, n2) -> n1 <> n2) // assumes there are no duplicate numbers in the input list\n",
    "|> Seq.map (fun (n1, n2) -> reduce (n1 + n2) |> calcMagnitude)\n",
    "|> Seq.max"
   ]
  },
  {
   "cell_type": "markdown",
   "id": "2cf45427-c80e-4427-963f-cef8340e03e7",
   "metadata": {},
   "source": [
    "[Prev](Day17.ipynb) | [Next](Day19.ipynb)"
   ]
  }
 ],
 "metadata": {
  "kernelspec": {
   "display_name": ".NET (F#)",
   "language": "F#",
   "name": ".net-fsharp"
  },
  "language_info": {
   "file_extension": ".fs",
   "mimetype": "text/x-fsharp",
   "name": "C#",
   "pygments_lexer": "fsharp",
   "version": "4.5"
  }
 },
 "nbformat": 4,
 "nbformat_minor": 5
}
